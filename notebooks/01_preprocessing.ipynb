{
 "cells": [
  {
   "cell_type": "markdown",
   "id": "02c493fa",
   "metadata": {},
   "source": [
    "# IT Educational Institute"
   ]
  },
  {
   "cell_type": "code",
   "execution_count": 14,
   "id": "b13ef0a4",
   "metadata": {},
   "outputs": [],
   "source": [
    "# Constants\n",
    "data_path = \"/Users/ahmedahmed/IT_Educational_Institute/data/raw/survey_results_public.csv\"\n",
    "export_path = \"/Users/ahmedahmed/IT_Educational_Institute/data/processed/1_preprocessed_df.pkl\"\n",
    "\n",
    "# Creating a dictionary of replacements for \"YearsCode\" and \"YearsCodePro\"\n",
    "replace_dict = {\n",
    "    'YearsCode' : {'Less than 1 year' : 0, 'More than 50 years' : 51},\n",
    "    'YearsCodePro' : {'Less than 1 year' : 0, 'More than 50 years' : 51}\n",
    "}"
   ]
  },
  {
   "cell_type": "code",
   "execution_count": 15,
   "id": "ca804422",
   "metadata": {},
   "outputs": [],
   "source": [
    "# Importing libraries\n",
    "import numpy as np\n",
    "import pandas as pd\n",
    "import logging\n",
    "import pickle"
   ]
  },
  {
   "cell_type": "markdown",
   "id": "3cf4dc6a",
   "metadata": {},
   "source": [
    "## Functions"
   ]
  },
  {
   "cell_type": "code",
   "execution_count": 16,
   "id": "83d12fc5",
   "metadata": {},
   "outputs": [],
   "source": [
    "# Creating a function to split values based on a specific delimiter\n",
    "def split_answers(data_series, delimiter=';'):\n",
    "    \"\"\"\n",
    "    Split multiple answers in a single string\n",
    "    to a list of single string each representing\n",
    "    a single answer\n",
    "    \n",
    "    Parameters:\n",
    "        - data_series (pd.Series): String series with answers\n",
    "        - delimiter (string): delimiter to split on, default is ;\n",
    "        \n",
    "    Returns:\n",
    "        pd.Series\n",
    "    \"\"\"\n",
    "    \n",
    "    # Sub functions\n",
    "    def is_splittable(pd_series, delimiter):\n",
    "        \"\"\" Checks if series should be splitted - Returns: Boolean \"\"\"\n",
    "        return pd_series.str.contains(delimiter)\n",
    "    \n",
    "    def split_answer(pd_series, delimiter):\n",
    "        \"\"\" Function to split single answer \"\"\"\n",
    "        return pd_series.str.split(delimiter)\n",
    "    \n",
    "    # Check if multiple answers exist - if none: return original\n",
    "    splittable_values = is_splittable(data_series, delimiter)\n",
    "    if not splittable_values.any():\n",
    "        return data_series\n",
    "    \n",
    "    # Else, split each value to a list\n",
    "    modified_series = split_answer(data_series, delimiter)\n",
    "    \n",
    "    # Replace NAs with empty lists\n",
    "    mask_null = modified_series.isnull()\n",
    "    modified_series.loc[mask_null] = modified_series.loc[mask_null].apply(lambda x: [])\n",
    "    \n",
    "    return modified_series"
   ]
  },
  {
   "cell_type": "markdown",
   "id": "5e4465d6",
   "metadata": {},
   "source": [
    "## Processing\n",
    "### Preprocess Data"
   ]
  },
  {
   "cell_type": "code",
   "execution_count": 17,
   "id": "74ce137f",
   "metadata": {},
   "outputs": [],
   "source": [
    "# Loading the data\n",
    "raw_df = pd.read_csv(data_path)\n",
    "\n",
    "# Creating a copy of the DataFrame\n",
    "df = raw_df.copy()"
   ]
  },
  {
   "cell_type": "markdown",
   "id": "33057a06",
   "metadata": {},
   "source": [
    "### 1. Replace Values and parse"
   ]
  },
  {
   "cell_type": "code",
   "execution_count": 18,
   "id": "29329aeb",
   "metadata": {},
   "outputs": [],
   "source": [
    "# Replacing string values with numerical values in \"YearsCode\" and \"YearsCodePro\" and parsing to float\n",
    "for col, value in replace_dict.items():\n",
    "    df[col] = df[col].replace(value).astype(float)"
   ]
  },
  {
   "cell_type": "markdown",
   "id": "01db676f",
   "metadata": {},
   "source": [
    "### 2. Split Multiple Answers"
   ]
  },
  {
   "cell_type": "code",
   "execution_count": 19,
   "id": "2aba93b5",
   "metadata": {},
   "outputs": [],
   "source": [
    "# Creating a variable with all the columns of the object data type\n",
    "object_cols = df.select_dtypes(include='object').columns.tolist()\n",
    "\n",
    "# Applying the split_asnwers function to all the object data type\n",
    "for col in object_cols:\n",
    "    df[col] = split_answers(df[col])"
   ]
  },
  {
   "cell_type": "markdown",
   "id": "0055024b",
   "metadata": {},
   "source": [
    "## Visuallly Verify Results"
   ]
  },
  {
   "cell_type": "code",
   "execution_count": 20,
   "id": "6fc98bef",
   "metadata": {},
   "outputs": [
    {
     "name": "stdout",
     "output_type": "stream",
     "text": [
      "The raw data format:\n",
      "C#;Python;SQL\n",
      "\n",
      "----------------------------------------------------------------------------------------------------\n",
      "\n",
      "Processed data format:\n",
      "['C#', 'Python', 'SQL']\n"
     ]
    }
   ],
   "source": [
    "# Comparing a sample of the raw_df and the processed df in the \"LanguagesHaveWorkedWith\" column\n",
    "i = df.sample(1).index[0]\n",
    "print(\"The raw data format:\")\n",
    "print(raw_df['LanguageHaveWorkedWith'].iloc[i])\n",
    "print()\n",
    "print('-'*100)\n",
    "print()\n",
    "print('Processed data format:')\n",
    "print(df['LanguageHaveWorkedWith'].iloc[i])"
   ]
  },
  {
   "cell_type": "code",
   "execution_count": 21,
   "id": "7f965ce6",
   "metadata": {},
   "outputs": [
    {
     "name": "stdout",
     "output_type": "stream",
     "text": [
      "The raw data format:\n",
      "Developer, front-end;Developer, full-stack;Developer, back-end;Developer, desktop or enterprise applications;Developer, mobile;Project manager;Product manager\n",
      "\n",
      "----------------------------------------------------------------------------------------------------\n",
      "\n",
      "Processed data format:\n",
      "['Developer, front-end', 'Developer, full-stack', 'Developer, back-end', 'Developer, desktop or enterprise applications', 'Developer, mobile', 'Project manager', 'Product manager']\n"
     ]
    }
   ],
   "source": [
    "# Comparing a sample of the raw_df and the processed df in the \"DevType\" column\n",
    "i = df.sample(1).index[0]\n",
    "print(\"The raw data format:\")\n",
    "print(raw_df['DevType'].iloc[i])\n",
    "print()\n",
    "print('-'*100)\n",
    "print()\n",
    "print('Processed data format:')\n",
    "print(df['DevType'].iloc[i])"
   ]
  },
  {
   "cell_type": "code",
   "execution_count": 22,
   "id": "5be57bb1",
   "metadata": {},
   "outputs": [
    {
     "name": "stdout",
     "output_type": "stream",
     "text": [
      "The raw data format:\n",
      "14\n",
      "\n",
      "----------------------------------------------------------------------------------------------------\n",
      "\n",
      "Processed data format:\n",
      "14.0\n"
     ]
    }
   ],
   "source": [
    "# Comparing a sample of the raw_df and the processed df in the \"YearsCodePro\" column\n",
    "i = df.sample(1).index[0]\n",
    "print(\"The raw data format:\")\n",
    "print(raw_df['YearsCodePro'].iloc[i])\n",
    "print()\n",
    "print('-'*100)\n",
    "print()\n",
    "print('Processed data format:')\n",
    "print(df['YearsCodePro'].iloc[i])"
   ]
  },
  {
   "cell_type": "markdown",
   "id": "5c5ca09d",
   "metadata": {},
   "source": [
    "## Export Data"
   ]
  },
  {
   "cell_type": "code",
   "execution_count": 23,
   "id": "6242ad69",
   "metadata": {},
   "outputs": [],
   "source": [
    "# Saving the preprocessed data as a pickle file\n",
    "df.to_pickle(export_path)"
   ]
  }
 ],
 "metadata": {
  "kernelspec": {
   "display_name": "Python 3.9 (tensorflow)",
   "language": "python",
   "name": "tensorflow"
  },
  "language_info": {
   "codemirror_mode": {
    "name": "ipython",
    "version": 3
   },
   "file_extension": ".py",
   "mimetype": "text/x-python",
   "name": "python",
   "nbconvert_exporter": "python",
   "pygments_lexer": "ipython3",
   "version": "3.9.13"
  }
 },
 "nbformat": 4,
 "nbformat_minor": 5
}
