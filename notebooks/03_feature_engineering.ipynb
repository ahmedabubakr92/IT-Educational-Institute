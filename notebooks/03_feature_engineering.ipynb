{
 "cells": [
  {
   "cell_type": "markdown",
   "id": "96735a09",
   "metadata": {},
   "source": [
    "# IT Educational Institute"
   ]
  },
  {
   "cell_type": "code",
   "execution_count": 68,
   "id": "11dce18c",
   "metadata": {},
   "outputs": [],
   "source": [
    "# DataFrame path\n",
    "DF_PATH = \"../data/processed/1_preprocessed_df.pkl\"\n",
    "\n",
    "# Constants\n",
    "NA_STRING = \"Not Specified\"\n",
    "TRANSPARENT_STRING = \"rgba(0,0,0,0)\"\n",
    "\n",
    "# Features selection variables\n",
    "ROLE_COLS = ['DevType']\n",
    "TECH_COLS = ['LanguageHaveWorkedWith', 'DatabaseHaveWorkedWith',\n",
    "            'PlatformHaveWorkedWith', 'WebframeHaveWorkedWith',\n",
    "            'MiscTechHaveWorkedWith', 'ToolsTechHaveWorkedWith',\n",
    "            'NEWCollabToolsHaveWorkedWith']\n",
    "\n",
    "# Export path\n",
    "EXPORT_FEATURES_DIR = \"../data/processed\""
   ]
  },
  {
   "cell_type": "code",
   "execution_count": 69,
   "id": "2412275b",
   "metadata": {},
   "outputs": [],
   "source": [
    "# Importing libraries\n",
    "import os\n",
    "import logging\n",
    "import yaml\n",
    "import numpy as np\n",
    "import pandas as pd"
   ]
  },
  {
   "cell_type": "markdown",
   "id": "21b3df1f",
   "metadata": {},
   "source": [
    "## Read Data and Preprocess Data"
   ]
  },
  {
   "cell_type": "code",
   "execution_count": 70,
   "id": "517dfbb8",
   "metadata": {},
   "outputs": [
    {
     "data": {
      "text/html": [
       "<div>\n",
       "<style scoped>\n",
       "    .dataframe tbody tr th:only-of-type {\n",
       "        vertical-align: middle;\n",
       "    }\n",
       "\n",
       "    .dataframe tbody tr th {\n",
       "        vertical-align: top;\n",
       "    }\n",
       "\n",
       "    .dataframe thead th {\n",
       "        text-align: right;\n",
       "    }\n",
       "</style>\n",
       "<table border=\"1\" class=\"dataframe\">\n",
       "  <thead>\n",
       "    <tr style=\"text-align: right;\">\n",
       "      <th></th>\n",
       "      <th>ResponseId</th>\n",
       "      <th>MainBranch</th>\n",
       "      <th>Employment</th>\n",
       "      <th>RemoteWork</th>\n",
       "      <th>CodingActivities</th>\n",
       "      <th>EdLevel</th>\n",
       "      <th>LearnCode</th>\n",
       "      <th>LearnCodeOnline</th>\n",
       "      <th>LearnCodeCoursesCert</th>\n",
       "      <th>YearsCode</th>\n",
       "      <th>...</th>\n",
       "      <th>TimeSearching</th>\n",
       "      <th>TimeAnswering</th>\n",
       "      <th>Onboarding</th>\n",
       "      <th>ProfessionalTech</th>\n",
       "      <th>TrueFalse_1</th>\n",
       "      <th>TrueFalse_2</th>\n",
       "      <th>TrueFalse_3</th>\n",
       "      <th>SurveyLength</th>\n",
       "      <th>SurveyEase</th>\n",
       "      <th>ConvertedCompYearly</th>\n",
       "    </tr>\n",
       "  </thead>\n",
       "  <tbody>\n",
       "    <tr>\n",
       "      <th>0</th>\n",
       "      <td>1</td>\n",
       "      <td>None of these</td>\n",
       "      <td>[]</td>\n",
       "      <td>NaN</td>\n",
       "      <td>[]</td>\n",
       "      <td>NaN</td>\n",
       "      <td>[]</td>\n",
       "      <td>[]</td>\n",
       "      <td>[]</td>\n",
       "      <td>NaN</td>\n",
       "      <td>...</td>\n",
       "      <td>NaN</td>\n",
       "      <td>NaN</td>\n",
       "      <td>NaN</td>\n",
       "      <td>[]</td>\n",
       "      <td>NaN</td>\n",
       "      <td>NaN</td>\n",
       "      <td>NaN</td>\n",
       "      <td>NaN</td>\n",
       "      <td>NaN</td>\n",
       "      <td>NaN</td>\n",
       "    </tr>\n",
       "    <tr>\n",
       "      <th>1</th>\n",
       "      <td>2</td>\n",
       "      <td>I am a developer by profession</td>\n",
       "      <td>[Employed, full-time]</td>\n",
       "      <td>Fully remote</td>\n",
       "      <td>[Hobby, Contribute to open-source projects]</td>\n",
       "      <td>NaN</td>\n",
       "      <td>[]</td>\n",
       "      <td>[]</td>\n",
       "      <td>[]</td>\n",
       "      <td>NaN</td>\n",
       "      <td>...</td>\n",
       "      <td>NaN</td>\n",
       "      <td>NaN</td>\n",
       "      <td>NaN</td>\n",
       "      <td>[]</td>\n",
       "      <td>NaN</td>\n",
       "      <td>NaN</td>\n",
       "      <td>NaN</td>\n",
       "      <td>Too long</td>\n",
       "      <td>Difficult</td>\n",
       "      <td>NaN</td>\n",
       "    </tr>\n",
       "    <tr>\n",
       "      <th>2</th>\n",
       "      <td>3</td>\n",
       "      <td>I am not primarily a developer, but I write co...</td>\n",
       "      <td>[Employed, full-time]</td>\n",
       "      <td>Hybrid (some remote, some in-person)</td>\n",
       "      <td>[Hobby]</td>\n",
       "      <td>Master’s degree (M.A., M.S., M.Eng., MBA, etc.)</td>\n",
       "      <td>[Books / Physical media, Friend or family memb...</td>\n",
       "      <td>[Technical documentation, Blogs, Programming G...</td>\n",
       "      <td>[]</td>\n",
       "      <td>14.0</td>\n",
       "      <td>...</td>\n",
       "      <td>NaN</td>\n",
       "      <td>NaN</td>\n",
       "      <td>NaN</td>\n",
       "      <td>[]</td>\n",
       "      <td>NaN</td>\n",
       "      <td>NaN</td>\n",
       "      <td>NaN</td>\n",
       "      <td>Appropriate in length</td>\n",
       "      <td>Neither easy nor difficult</td>\n",
       "      <td>40205.0</td>\n",
       "    </tr>\n",
       "    <tr>\n",
       "      <th>3</th>\n",
       "      <td>4</td>\n",
       "      <td>I am a developer by profession</td>\n",
       "      <td>[Employed, full-time]</td>\n",
       "      <td>Fully remote</td>\n",
       "      <td>[I don’t code outside of work]</td>\n",
       "      <td>Bachelor’s degree (B.A., B.S., B.Eng., etc.)</td>\n",
       "      <td>[Books / Physical media, School (i.e., Univers...</td>\n",
       "      <td>[]</td>\n",
       "      <td>[]</td>\n",
       "      <td>20.0</td>\n",
       "      <td>...</td>\n",
       "      <td>NaN</td>\n",
       "      <td>NaN</td>\n",
       "      <td>NaN</td>\n",
       "      <td>[]</td>\n",
       "      <td>NaN</td>\n",
       "      <td>NaN</td>\n",
       "      <td>NaN</td>\n",
       "      <td>Appropriate in length</td>\n",
       "      <td>Easy</td>\n",
       "      <td>215232.0</td>\n",
       "    </tr>\n",
       "    <tr>\n",
       "      <th>4</th>\n",
       "      <td>5</td>\n",
       "      <td>I am a developer by profession</td>\n",
       "      <td>[Employed, full-time]</td>\n",
       "      <td>Hybrid (some remote, some in-person)</td>\n",
       "      <td>[Hobby]</td>\n",
       "      <td>Bachelor’s degree (B.A., B.S., B.Eng., etc.)</td>\n",
       "      <td>[Other online resources (e.g., videos, blogs, ...</td>\n",
       "      <td>[Technical documentation, Blogs, Stack Overflo...</td>\n",
       "      <td>[]</td>\n",
       "      <td>8.0</td>\n",
       "      <td>...</td>\n",
       "      <td>NaN</td>\n",
       "      <td>NaN</td>\n",
       "      <td>NaN</td>\n",
       "      <td>[]</td>\n",
       "      <td>NaN</td>\n",
       "      <td>NaN</td>\n",
       "      <td>NaN</td>\n",
       "      <td>Too long</td>\n",
       "      <td>Easy</td>\n",
       "      <td>NaN</td>\n",
       "    </tr>\n",
       "  </tbody>\n",
       "</table>\n",
       "<p>5 rows × 79 columns</p>\n",
       "</div>"
      ],
      "text/plain": [
       "   ResponseId                                         MainBranch  \\\n",
       "0           1                                      None of these   \n",
       "1           2                     I am a developer by profession   \n",
       "2           3  I am not primarily a developer, but I write co...   \n",
       "3           4                     I am a developer by profession   \n",
       "4           5                     I am a developer by profession   \n",
       "\n",
       "              Employment                            RemoteWork  \\\n",
       "0                     []                                   NaN   \n",
       "1  [Employed, full-time]                          Fully remote   \n",
       "2  [Employed, full-time]  Hybrid (some remote, some in-person)   \n",
       "3  [Employed, full-time]                          Fully remote   \n",
       "4  [Employed, full-time]  Hybrid (some remote, some in-person)   \n",
       "\n",
       "                              CodingActivities  \\\n",
       "0                                           []   \n",
       "1  [Hobby, Contribute to open-source projects]   \n",
       "2                                      [Hobby]   \n",
       "3               [I don’t code outside of work]   \n",
       "4                                      [Hobby]   \n",
       "\n",
       "                                           EdLevel  \\\n",
       "0                                              NaN   \n",
       "1                                              NaN   \n",
       "2  Master’s degree (M.A., M.S., M.Eng., MBA, etc.)   \n",
       "3     Bachelor’s degree (B.A., B.S., B.Eng., etc.)   \n",
       "4     Bachelor’s degree (B.A., B.S., B.Eng., etc.)   \n",
       "\n",
       "                                           LearnCode  \\\n",
       "0                                                 []   \n",
       "1                                                 []   \n",
       "2  [Books / Physical media, Friend or family memb...   \n",
       "3  [Books / Physical media, School (i.e., Univers...   \n",
       "4  [Other online resources (e.g., videos, blogs, ...   \n",
       "\n",
       "                                     LearnCodeOnline LearnCodeCoursesCert  \\\n",
       "0                                                 []                   []   \n",
       "1                                                 []                   []   \n",
       "2  [Technical documentation, Blogs, Programming G...                   []   \n",
       "3                                                 []                   []   \n",
       "4  [Technical documentation, Blogs, Stack Overflo...                   []   \n",
       "\n",
       "   YearsCode  ...  TimeSearching TimeAnswering Onboarding ProfessionalTech  \\\n",
       "0        NaN  ...            NaN           NaN        NaN               []   \n",
       "1        NaN  ...            NaN           NaN        NaN               []   \n",
       "2       14.0  ...            NaN           NaN        NaN               []   \n",
       "3       20.0  ...            NaN           NaN        NaN               []   \n",
       "4        8.0  ...            NaN           NaN        NaN               []   \n",
       "\n",
       "  TrueFalse_1 TrueFalse_2 TrueFalse_3           SurveyLength  \\\n",
       "0         NaN         NaN         NaN                    NaN   \n",
       "1         NaN         NaN         NaN               Too long   \n",
       "2         NaN         NaN         NaN  Appropriate in length   \n",
       "3         NaN         NaN         NaN  Appropriate in length   \n",
       "4         NaN         NaN         NaN               Too long   \n",
       "\n",
       "                   SurveyEase ConvertedCompYearly  \n",
       "0                         NaN                 NaN  \n",
       "1                   Difficult                 NaN  \n",
       "2  Neither easy nor difficult             40205.0  \n",
       "3                        Easy            215232.0  \n",
       "4                        Easy                 NaN  \n",
       "\n",
       "[5 rows x 79 columns]"
      ]
     },
     "execution_count": 70,
     "metadata": {},
     "output_type": "execute_result"
    }
   ],
   "source": [
    "# Reading data\n",
    "df = pd.read_pickle(DF_PATH)\n",
    "\n",
    "# Displaying first 5 observations \n",
    "df.head()"
   ]
  },
  {
   "cell_type": "markdown",
   "id": "fc7a35fc",
   "metadata": {},
   "source": [
    "### One-Hot Encoding"
   ]
  },
  {
   "cell_type": "code",
   "execution_count": 71,
   "id": "ab3f782c",
   "metadata": {},
   "outputs": [],
   "source": [
    "# importing multilabelbinarizer from sklearn\n",
    "from sklearn.preprocessing import MultiLabelBinarizer\n",
    "\n",
    "# Applying One-Hot Encoding to the DataFrame for specified columns\n",
    "encoded_dfs = {}\n",
    "\n",
    "for col in ROLE_COLS + TECH_COLS:\n",
    "    binarizer = MultiLabelBinarizer()\n",
    "    encoded_df = pd.DataFrame(binarizer.fit_transform(df[col]), \n",
    "                             columns=binarizer.classes_,\n",
    "                             index=df[col].index)\n",
    "    encoded_dfs[col] = encoded_df\n",
    "    \n",
    "# Merge One-Hot Encoded data\n",
    "ohe_df = pd.concat(encoded_dfs, axis=1)"
   ]
  },
  {
   "cell_type": "markdown",
   "id": "e810be79",
   "metadata": {},
   "source": [
    "### Dimensionality Reduction"
   ]
  },
  {
   "cell_type": "code",
   "execution_count": 72,
   "id": "54c54cac",
   "metadata": {},
   "outputs": [],
   "source": [
    "# Creating skills DataFrame from ohe_df\n",
    "skills_ohe = ohe_df.drop('DevType', axis=1).copy()\n",
    "\n",
    "# Importing StandardScaler from sklearn\n",
    "from sklearn.preprocessing import StandardScaler\n",
    "\n",
    "# Creating a standardized DataFrame of the skills_ohe\n",
    "std_skills = StandardScaler().fit_transform(skills_ohe)"
   ]
  },
  {
   "cell_type": "code",
   "execution_count": 73,
   "id": "a0de7c69",
   "metadata": {},
   "outputs": [
    {
     "name": "stderr",
     "output_type": "stream",
     "text": [
      "/Users/ahmedahmed/opt/miniconda3/envs/tensorflow/lib/python3.9/site-packages/sklearn/manifold/_t_sne.py:996: FutureWarning:\n",
      "\n",
      "The PCA initialization in TSNE will change to have the standard deviation of PC1 equal to 1e-4 in 1.2. This will ensure better convergence.\n",
      "\n"
     ]
    }
   ],
   "source": [
    "# Importing TSNE from sklearn\n",
    "from sklearn.manifold import TSNE\n",
    "\n",
    "# Applying TSNE om standardized skills\n",
    "tsne_projection = TSNE(n_components=2,\n",
    "                      perplexity=3,\n",
    "                      learning_rate=0.01,\n",
    "                      init='pca',\n",
    "                      method='barnes_hut',\n",
    "                      n_jobs=2,\n",
    "                      n_iter=10**10,\n",
    "                      random_state=0).fit_transform(std_skills.T)\n",
    "\n",
    "# Creating a DataFrame with TSNE projections\n",
    "tsne_projection = pd.DataFrame(tsne_projection, index=skills_ohe.columns)"
   ]
  },
  {
   "cell_type": "code",
   "execution_count": 74,
   "id": "bf8402e0",
   "metadata": {},
   "outputs": [
    {
     "name": "stdout",
     "output_type": "stream",
     "text": [
      "(161, 2)\n"
     ]
    }
   ],
   "source": [
    "# Checking the shape of tsne_projection\n",
    "print(tsne_projection.shape)"
   ]
  },
  {
   "cell_type": "code",
   "execution_count": 75,
   "id": "5655e9cf",
   "metadata": {},
   "outputs": [
    {
     "data": {
      "text/html": [
       "<div>\n",
       "<style scoped>\n",
       "    .dataframe tbody tr th:only-of-type {\n",
       "        vertical-align: middle;\n",
       "    }\n",
       "\n",
       "    .dataframe tbody tr th {\n",
       "        vertical-align: top;\n",
       "    }\n",
       "\n",
       "    .dataframe thead th {\n",
       "        text-align: right;\n",
       "    }\n",
       "</style>\n",
       "<table border=\"1\" class=\"dataframe\">\n",
       "  <thead>\n",
       "    <tr style=\"text-align: right;\">\n",
       "      <th></th>\n",
       "      <th></th>\n",
       "      <th>0</th>\n",
       "      <th>1</th>\n",
       "    </tr>\n",
       "  </thead>\n",
       "  <tbody>\n",
       "    <tr>\n",
       "      <th rowspan=\"5\" valign=\"top\">LanguageHaveWorkedWith</th>\n",
       "      <th>APL</th>\n",
       "      <td>28.586397</td>\n",
       "      <td>19.080084</td>\n",
       "    </tr>\n",
       "    <tr>\n",
       "      <th>Assembly</th>\n",
       "      <td>84.378395</td>\n",
       "      <td>-7.259577</td>\n",
       "    </tr>\n",
       "    <tr>\n",
       "      <th>Bash/Shell</th>\n",
       "      <td>56.820904</td>\n",
       "      <td>-7.117048</td>\n",
       "    </tr>\n",
       "    <tr>\n",
       "      <th>C</th>\n",
       "      <td>87.490921</td>\n",
       "      <td>-6.603626</td>\n",
       "    </tr>\n",
       "    <tr>\n",
       "      <th>C#</th>\n",
       "      <td>-45.551907</td>\n",
       "      <td>105.968529</td>\n",
       "    </tr>\n",
       "  </tbody>\n",
       "</table>\n",
       "</div>"
      ],
      "text/plain": [
       "                                           0           1\n",
       "LanguageHaveWorkedWith APL         28.586397   19.080084\n",
       "                       Assembly    84.378395   -7.259577\n",
       "                       Bash/Shell  56.820904   -7.117048\n",
       "                       C           87.490921   -6.603626\n",
       "                       C#         -45.551907  105.968529"
      ]
     },
     "execution_count": 75,
     "metadata": {},
     "output_type": "execute_result"
    }
   ],
   "source": [
    "tsne_projection.iloc[:5, :]"
   ]
  },
  {
   "cell_type": "code",
   "execution_count": 76,
   "id": "8c4abf5c",
   "metadata": {},
   "outputs": [
    {
     "data": {
      "text/plain": [
       "RangeIndex(start=0, stop=2, step=1)"
      ]
     },
     "execution_count": 76,
     "metadata": {},
     "output_type": "execute_result"
    }
   ],
   "source": [
    "tsne_projection.columns"
   ]
  },
  {
   "cell_type": "code",
   "execution_count": 77,
   "id": "50288505",
   "metadata": {},
   "outputs": [
    {
     "data": {
      "application/vnd.plotly.v1+json": {
       "config": {
        "plotlyServerURL": "https://plot.ly"
       },
       "data": [
        {
         "hovertemplate": "x=%{x}<br>y=%{y}<br>text=%{text}<extra></extra>",
         "legendgroup": "",
         "marker": {
          "color": "#636efa",
          "symbol": "circle"
         },
         "mode": "markers+text",
         "name": "",
         "orientation": "v",
         "showlegend": false,
         "text": [
          "APL",
          "Assembly",
          "Bash/Shell",
          "C",
          "C#",
          "C++",
          "COBOL",
          "Clojure",
          "Crystal",
          "Dart",
          "Delphi",
          "Elixir",
          "Erlang",
          "F#",
          "Fortran",
          "Go",
          "Groovy",
          "HTML/CSS",
          "Haskell",
          "Java",
          "JavaScript",
          "Julia",
          "Kotlin",
          "LISP",
          "Lua",
          "MATLAB",
          "OCaml",
          "Objective-C",
          "PHP",
          "Perl",
          "PowerShell",
          "Python",
          "R",
          "Ruby",
          "Rust",
          "SAS",
          "SQL",
          "Scala",
          "Solidity",
          "Swift",
          "TypeScript",
          "VBA",
          "Cassandra",
          "Cloud Firestore",
          "CouchDB",
          "Couchbase",
          "DynamoDB",
          "Elasticsearch",
          "Firebase Realtime Database",
          "IBM DB2",
          "MariaDB",
          "Microsoft SQL Server",
          "MongoDB",
          "MySQL",
          "Neo4j",
          "Oracle",
          "PostgreSQL",
          "Redis",
          "SQLite",
          "AWS",
          "Colocation",
          "DigitalOcean",
          "Firebase",
          "Google Cloud",
          "Heroku",
          "IBM Cloud or Watson",
          "Linode",
          "Managed Hosting",
          "Microsoft Azure",
          "OVH",
          "OpenStack",
          "Oracle Cloud Infrastructure",
          "VMware",
          "ASP.NET",
          "ASP.NET Core ",
          "Angular",
          "Angular.js",
          "Blazor",
          "Deno",
          "Django",
          "Drupal",
          "Express",
          "FastAPI",
          "Fastify",
          "Flask",
          "Gatsby",
          "Laravel",
          "Next.js",
          "Node.js",
          "Nuxt.js",
          "Phoenix",
          "Play Framework",
          "React.js",
          "Ruby on Rails",
          "Svelte",
          "Symfony",
          "Vue.js",
          "jQuery",
          ".NET",
          "Apache Kafka",
          "Apache Spark",
          "Capacitor",
          "Cordova",
          "Electron",
          "Flutter",
          "GTK",
          "Hadoop",
          "Hugging Face Transformers",
          "Ionic",
          "Keras",
          "NumPy",
          "Pandas",
          "Qt",
          "React Native",
          "Scikit-learn",
          "Spring",
          "TensorFlow",
          "Tidyverse",
          "Torch/PyTorch",
          "Uno Platform",
          "Xamarin",
          "Ansible",
          "Chef",
          "Docker",
          "Flow",
          "Homebrew",
          "Kubernetes",
          "Pulumi",
          "Puppet",
          "Terraform",
          "Unity 3D",
          "Unreal Engine",
          "Yarn",
          "npm",
          "Android Studio",
          "Atom",
          "CLion",
          "Eclipse",
          "Emacs",
          "GoLand",
          "IPython/Jupyter",
          "IntelliJ",
          "Nano",
          "Neovim",
          "NetBeans",
          "Notepad++",
          "PhpStorm",
          "PyCharm",
          "Qt Creator",
          "RAD Studio (Delphi, C++ Builder)",
          "RStudio",
          "Rider",
          "RubyMine",
          "Spyder",
          "Sublime Text",
          "TextMate",
          "Vim",
          "Visual Studio",
          "Visual Studio Code",
          "Webstorm",
          "Xcode"
         ],
         "textposition": "top center",
         "type": "scatter",
         "x": [
          28.586397171020508,
          84.3783950805664,
          56.82090377807617,
          87.49092102050781,
          -45.55190658569336,
          89.7497787475586,
          32.7144889831543,
          59.79940414428711,
          32.690185546875,
          -42.07310104370117,
          3.0867061614990234,
          62.4478759765625,
          65.62393188476562,
          41.142860412597656,
          36.43950271606445,
          32.05923843383789,
          -29.5918025970459,
          -80.00420379638672,
          47.24094009399414,
          -22.993083953857422,
          -80.51782989501953,
          39.34300994873047,
          -41.65411376953125,
          54.819950103759766,
          71.51750183105469,
          106.27397918701172,
          44.70494079589844,
          -18.965782165527344,
          -71.52249908447266,
          45.32677459716797,
          -41.40862274169922,
          110.74819946289062,
          56.23329544067383,
          -5.313509941101074,
          66.73783874511719,
          53.96787643432617,
          -63.21007537841797,
          23.06233787536621,
          -89.49779510498047,
          -20.81816291809082,
          -86.68988800048828,
          -64.04411315917969,
          16.62232208251953,
          -46.351905822753906,
          14.962883949279785,
          13.176005363464355,
          12.718174934387207,
          11.423802375793457,
          -42.219635009765625,
          30.23927879333496,
          -72.37509155273438,
          -60.61729049682617,
          -74.93582153320312,
          -67.77088165283203,
          13.1107177734375,
          -16.78773307800293,
          12.014753341674805,
          10.127586364746094,
          -53.81938552856445,
          12.847721099853516,
          22.06138801574707,
          5.402435302734375,
          -43.787559509277344,
          -44.87547302246094,
          -69.6656265258789,
          27.324111938476562,
          2.222952127456665,
          -69.83134460449219,
          -58.51374053955078,
          -84.33109283447266,
          21.424291610717773,
          -13.219330787658691,
          -34.81956481933594,
          -53.154747009277344,
          -53.06694793701172,
          -90.70975494384766,
          -93.10560607910156,
          -54.13058090209961,
          -61.618167877197266,
          114.1604995727539,
          -80.31582641601562,
          -73.6682357788086,
          111.04961395263672,
          -70.44488525390625,
          111.2257080078125,
          -92.41697692871094,
          -72.67923736572266,
          -88.90557098388672,
          -75.7160873413086,
          -52.91819381713867,
          61.58067321777344,
          22.655231475830078,
          -85.70325469970703,
          -6.379287242889404,
          -61.812110900878906,
          -80.42698669433594,
          -53.24473571777344,
          -67.2142333984375,
          -47.9375114440918,
          19.86073112487793,
          23.737030029296875,
          -103.329345703125,
          -102.28355407714844,
          -72.76718139648438,
          -42.45172119140625,
          80.27813720703125,
          25.554550170898438,
          113.9605941772461,
          -101.33345031738281,
          118.27413940429688,
          111.92236328125,
          114.09750366210938,
          83.5053939819336,
          -83.116455078125,
          113.97706604003906,
          -26.313417434692383,
          116.96475219726562,
          59.44314956665039,
          115.21653747558594,
          -50.06218338012695,
          -47.892616271972656,
          23.90782356262207,
          33.404911041259766,
          14.888371467590332,
          25.801990509033203,
          -19.11511993408203,
          17.508005142211914,
          23.418302536010742,
          35.59126663208008,
          21.541492462158203,
          -26.681140899658203,
          -24.949005126953125,
          -85.9718246459961,
          -82.639892578125,
          -42.93892288208008,
          -10.456511497497559,
          93.27024841308594,
          -21.9036808013916,
          57.07259750366211,
          32.728572845458984,
          118.0018081665039,
          -22.951589584350586,
          53.48435974121094,
          68.49250793457031,
          -22.820690155029297,
          -38.41096115112305,
          -76.7621078491211,
          107.45610809326172,
          85.54106140136719,
          2.34965181350708,
          57.969573974609375,
          -46.98394012451172,
          -9.273982048034668,
          121.55853271484375,
          -8.988651275634766,
          -13.039593696594238,
          58.76093292236328,
          -42.20405960083008,
          -79.89781951904297,
          -77.94564819335938,
          -20.3248233795166
         ],
         "xaxis": "x",
         "y": [
          19.0800838470459,
          -7.259576797485352,
          -7.1170477867126465,
          -6.603626251220703,
          105.9685287475586,
          -6.675662994384766,
          27.8571834564209,
          18.190425872802734,
          23.50967025756836,
          -17.24542999267578,
          85.40287780761719,
          -54.22056579589844,
          -53.753604888916016,
          10.85588550567627,
          29.384431838989258,
          -65.80471801757812,
          16.53583335876465,
          -45.91023254394531,
          12.74046802520752,
          19.667085647583008,
          -48.17117691040039,
          32.40449905395508,
          -7.079401016235352,
          16.722553253173828,
          -16.16669464111328,
          0.08821575343608856,
          12.597784996032715,
          -28.456111907958984,
          -4.474974632263184,
          24.520732879638672,
          103.11927032470703,
          -9.13119888305664,
          46.790836334228516,
          -19.8446102142334,
          -18.924205780029297,
          42.821876525878906,
          101.88150024414062,
          -17.56797981262207,
          -72.651611328125,
          -30.957977294921875,
          -53.6199951171875,
          107.8549575805664,
          -28.61931800842285,
          -29.46427345275879,
          41.38884353637695,
          42.5407829284668,
          -57.5457763671875,
          -39.19423294067383,
          -27.694814682006836,
          29.36178970336914,
          -8.047282218933105,
          105.97508239746094,
          -65.33312225341797,
          -5.412024974822998,
          -33.478572845458984,
          22.495853424072266,
          -47.64365768432617,
          -42.32685089111328,
          -6.733370304107666,
          -55.232948303222656,
          7.388076305389404,
          -43.301963806152344,
          -29.692880630493164,
          -33.78306198120117,
          -62.750640869140625,
          30.9156551361084,
          -43.907745361328125,
          -11.670036315917969,
          110.36409759521484,
          -3.8476176261901855,
          3.601862668991089,
          23.65100860595703,
          111.37055206298828,
          108.07953643798828,
          105.25499725341797,
          -50.975948333740234,
          -49.30770492553711,
          101.58035278320312,
          -82.55143737792969,
          -11.44327449798584,
          -8.615192413330078,
          -62.2127799987793,
          -17.31197166442871,
          -69.4513168334961,
          -13.833066940307617,
          -66.62281799316406,
          -2.312504768371582,
          -67.70587158203125,
          -60.23199462890625,
          -58.4578742980957,
          -56.183074951171875,
          -14.70676040649414,
          -64.36137390136719,
          -17.99435043334961,
          -84.76050567626953,
          -4.627124786376953,
          -56.354522705078125,
          0.08395574986934662,
          106.14459228515625,
          -27.849130630493164,
          -21.72603416442871,
          33.83605194091797,
          29.930898666381836,
          -57.11923599243164,
          -15.126262664794922,
          4.041622638702393,
          -23.00320816040039,
          17.246870040893555,
          32.346527099609375,
          9.231489181518555,
          -1.4088759422302246,
          -0.9954506158828735,
          5.142703056335449,
          -66.73713684082031,
          2.974501609802246,
          18.220773696899414,
          11.175077438354492,
          45.352073669433594,
          14.076578140258789,
          93.90404510498047,
          110.27877807617188,
          -43.92837142944336,
          -42.801326751708984,
          -45.90560531616211,
          17.111339569091797,
          -37.09394073486328,
          -45.600440979003906,
          -50.26698684692383,
          -42.6492805480957,
          -46.87791442871094,
          92.47111511230469,
          91.16951751708984,
          -60.264923095703125,
          -55.872894287109375,
          -9.293187141418457,
          12.001450538635254,
          -7.717385768890381,
          23.998685836791992,
          17.26130485534668,
          -67.822509765625,
          -1.9994502067565918,
          17.258052825927734,
          -5.816035747528076,
          -17.460186004638672,
          26.883331298828125,
          110.73320007324219,
          -1.943204641342163,
          -8.34756851196289,
          5.992388725280762,
          83.42130279541016,
          48.329185485839844,
          101.0960464477539,
          -20.74016571044922,
          -2.1419942378997803,
          10.188177108764648,
          -23.014999389648438,
          -8.347620010375977,
          108.8597183227539,
          -53.26548767089844,
          2.0832865238189697,
          -33.217796325683594
         ],
         "yaxis": "y"
        }
       ],
       "layout": {
        "height": 1000,
        "legend": {
         "tracegroupgap": 0
        },
        "margin": {
         "t": 60
        },
        "template": {
         "data": {
          "bar": [
           {
            "error_x": {
             "color": "#2a3f5f"
            },
            "error_y": {
             "color": "#2a3f5f"
            },
            "marker": {
             "line": {
              "color": "#E5ECF6",
              "width": 0.5
             },
             "pattern": {
              "fillmode": "overlay",
              "size": 10,
              "solidity": 0.2
             }
            },
            "type": "bar"
           }
          ],
          "barpolar": [
           {
            "marker": {
             "line": {
              "color": "#E5ECF6",
              "width": 0.5
             },
             "pattern": {
              "fillmode": "overlay",
              "size": 10,
              "solidity": 0.2
             }
            },
            "type": "barpolar"
           }
          ],
          "carpet": [
           {
            "aaxis": {
             "endlinecolor": "#2a3f5f",
             "gridcolor": "white",
             "linecolor": "white",
             "minorgridcolor": "white",
             "startlinecolor": "#2a3f5f"
            },
            "baxis": {
             "endlinecolor": "#2a3f5f",
             "gridcolor": "white",
             "linecolor": "white",
             "minorgridcolor": "white",
             "startlinecolor": "#2a3f5f"
            },
            "type": "carpet"
           }
          ],
          "choropleth": [
           {
            "colorbar": {
             "outlinewidth": 0,
             "ticks": ""
            },
            "type": "choropleth"
           }
          ],
          "contour": [
           {
            "colorbar": {
             "outlinewidth": 0,
             "ticks": ""
            },
            "colorscale": [
             [
              0,
              "#0d0887"
             ],
             [
              0.1111111111111111,
              "#46039f"
             ],
             [
              0.2222222222222222,
              "#7201a8"
             ],
             [
              0.3333333333333333,
              "#9c179e"
             ],
             [
              0.4444444444444444,
              "#bd3786"
             ],
             [
              0.5555555555555556,
              "#d8576b"
             ],
             [
              0.6666666666666666,
              "#ed7953"
             ],
             [
              0.7777777777777778,
              "#fb9f3a"
             ],
             [
              0.8888888888888888,
              "#fdca26"
             ],
             [
              1,
              "#f0f921"
             ]
            ],
            "type": "contour"
           }
          ],
          "contourcarpet": [
           {
            "colorbar": {
             "outlinewidth": 0,
             "ticks": ""
            },
            "type": "contourcarpet"
           }
          ],
          "heatmap": [
           {
            "colorbar": {
             "outlinewidth": 0,
             "ticks": ""
            },
            "colorscale": [
             [
              0,
              "#0d0887"
             ],
             [
              0.1111111111111111,
              "#46039f"
             ],
             [
              0.2222222222222222,
              "#7201a8"
             ],
             [
              0.3333333333333333,
              "#9c179e"
             ],
             [
              0.4444444444444444,
              "#bd3786"
             ],
             [
              0.5555555555555556,
              "#d8576b"
             ],
             [
              0.6666666666666666,
              "#ed7953"
             ],
             [
              0.7777777777777778,
              "#fb9f3a"
             ],
             [
              0.8888888888888888,
              "#fdca26"
             ],
             [
              1,
              "#f0f921"
             ]
            ],
            "type": "heatmap"
           }
          ],
          "heatmapgl": [
           {
            "colorbar": {
             "outlinewidth": 0,
             "ticks": ""
            },
            "colorscale": [
             [
              0,
              "#0d0887"
             ],
             [
              0.1111111111111111,
              "#46039f"
             ],
             [
              0.2222222222222222,
              "#7201a8"
             ],
             [
              0.3333333333333333,
              "#9c179e"
             ],
             [
              0.4444444444444444,
              "#bd3786"
             ],
             [
              0.5555555555555556,
              "#d8576b"
             ],
             [
              0.6666666666666666,
              "#ed7953"
             ],
             [
              0.7777777777777778,
              "#fb9f3a"
             ],
             [
              0.8888888888888888,
              "#fdca26"
             ],
             [
              1,
              "#f0f921"
             ]
            ],
            "type": "heatmapgl"
           }
          ],
          "histogram": [
           {
            "marker": {
             "pattern": {
              "fillmode": "overlay",
              "size": 10,
              "solidity": 0.2
             }
            },
            "type": "histogram"
           }
          ],
          "histogram2d": [
           {
            "colorbar": {
             "outlinewidth": 0,
             "ticks": ""
            },
            "colorscale": [
             [
              0,
              "#0d0887"
             ],
             [
              0.1111111111111111,
              "#46039f"
             ],
             [
              0.2222222222222222,
              "#7201a8"
             ],
             [
              0.3333333333333333,
              "#9c179e"
             ],
             [
              0.4444444444444444,
              "#bd3786"
             ],
             [
              0.5555555555555556,
              "#d8576b"
             ],
             [
              0.6666666666666666,
              "#ed7953"
             ],
             [
              0.7777777777777778,
              "#fb9f3a"
             ],
             [
              0.8888888888888888,
              "#fdca26"
             ],
             [
              1,
              "#f0f921"
             ]
            ],
            "type": "histogram2d"
           }
          ],
          "histogram2dcontour": [
           {
            "colorbar": {
             "outlinewidth": 0,
             "ticks": ""
            },
            "colorscale": [
             [
              0,
              "#0d0887"
             ],
             [
              0.1111111111111111,
              "#46039f"
             ],
             [
              0.2222222222222222,
              "#7201a8"
             ],
             [
              0.3333333333333333,
              "#9c179e"
             ],
             [
              0.4444444444444444,
              "#bd3786"
             ],
             [
              0.5555555555555556,
              "#d8576b"
             ],
             [
              0.6666666666666666,
              "#ed7953"
             ],
             [
              0.7777777777777778,
              "#fb9f3a"
             ],
             [
              0.8888888888888888,
              "#fdca26"
             ],
             [
              1,
              "#f0f921"
             ]
            ],
            "type": "histogram2dcontour"
           }
          ],
          "mesh3d": [
           {
            "colorbar": {
             "outlinewidth": 0,
             "ticks": ""
            },
            "type": "mesh3d"
           }
          ],
          "parcoords": [
           {
            "line": {
             "colorbar": {
              "outlinewidth": 0,
              "ticks": ""
             }
            },
            "type": "parcoords"
           }
          ],
          "pie": [
           {
            "automargin": true,
            "type": "pie"
           }
          ],
          "scatter": [
           {
            "fillpattern": {
             "fillmode": "overlay",
             "size": 10,
             "solidity": 0.2
            },
            "type": "scatter"
           }
          ],
          "scatter3d": [
           {
            "line": {
             "colorbar": {
              "outlinewidth": 0,
              "ticks": ""
             }
            },
            "marker": {
             "colorbar": {
              "outlinewidth": 0,
              "ticks": ""
             }
            },
            "type": "scatter3d"
           }
          ],
          "scattercarpet": [
           {
            "marker": {
             "colorbar": {
              "outlinewidth": 0,
              "ticks": ""
             }
            },
            "type": "scattercarpet"
           }
          ],
          "scattergeo": [
           {
            "marker": {
             "colorbar": {
              "outlinewidth": 0,
              "ticks": ""
             }
            },
            "type": "scattergeo"
           }
          ],
          "scattergl": [
           {
            "marker": {
             "colorbar": {
              "outlinewidth": 0,
              "ticks": ""
             }
            },
            "type": "scattergl"
           }
          ],
          "scattermapbox": [
           {
            "marker": {
             "colorbar": {
              "outlinewidth": 0,
              "ticks": ""
             }
            },
            "type": "scattermapbox"
           }
          ],
          "scatterpolar": [
           {
            "marker": {
             "colorbar": {
              "outlinewidth": 0,
              "ticks": ""
             }
            },
            "type": "scatterpolar"
           }
          ],
          "scatterpolargl": [
           {
            "marker": {
             "colorbar": {
              "outlinewidth": 0,
              "ticks": ""
             }
            },
            "type": "scatterpolargl"
           }
          ],
          "scatterternary": [
           {
            "marker": {
             "colorbar": {
              "outlinewidth": 0,
              "ticks": ""
             }
            },
            "type": "scatterternary"
           }
          ],
          "surface": [
           {
            "colorbar": {
             "outlinewidth": 0,
             "ticks": ""
            },
            "colorscale": [
             [
              0,
              "#0d0887"
             ],
             [
              0.1111111111111111,
              "#46039f"
             ],
             [
              0.2222222222222222,
              "#7201a8"
             ],
             [
              0.3333333333333333,
              "#9c179e"
             ],
             [
              0.4444444444444444,
              "#bd3786"
             ],
             [
              0.5555555555555556,
              "#d8576b"
             ],
             [
              0.6666666666666666,
              "#ed7953"
             ],
             [
              0.7777777777777778,
              "#fb9f3a"
             ],
             [
              0.8888888888888888,
              "#fdca26"
             ],
             [
              1,
              "#f0f921"
             ]
            ],
            "type": "surface"
           }
          ],
          "table": [
           {
            "cells": {
             "fill": {
              "color": "#EBF0F8"
             },
             "line": {
              "color": "white"
             }
            },
            "header": {
             "fill": {
              "color": "#C8D4E3"
             },
             "line": {
              "color": "white"
             }
            },
            "type": "table"
           }
          ]
         },
         "layout": {
          "annotationdefaults": {
           "arrowcolor": "#2a3f5f",
           "arrowhead": 0,
           "arrowwidth": 1
          },
          "autotypenumbers": "strict",
          "coloraxis": {
           "colorbar": {
            "outlinewidth": 0,
            "ticks": ""
           }
          },
          "colorscale": {
           "diverging": [
            [
             0,
             "#8e0152"
            ],
            [
             0.1,
             "#c51b7d"
            ],
            [
             0.2,
             "#de77ae"
            ],
            [
             0.3,
             "#f1b6da"
            ],
            [
             0.4,
             "#fde0ef"
            ],
            [
             0.5,
             "#f7f7f7"
            ],
            [
             0.6,
             "#e6f5d0"
            ],
            [
             0.7,
             "#b8e186"
            ],
            [
             0.8,
             "#7fbc41"
            ],
            [
             0.9,
             "#4d9221"
            ],
            [
             1,
             "#276419"
            ]
           ],
           "sequential": [
            [
             0,
             "#0d0887"
            ],
            [
             0.1111111111111111,
             "#46039f"
            ],
            [
             0.2222222222222222,
             "#7201a8"
            ],
            [
             0.3333333333333333,
             "#9c179e"
            ],
            [
             0.4444444444444444,
             "#bd3786"
            ],
            [
             0.5555555555555556,
             "#d8576b"
            ],
            [
             0.6666666666666666,
             "#ed7953"
            ],
            [
             0.7777777777777778,
             "#fb9f3a"
            ],
            [
             0.8888888888888888,
             "#fdca26"
            ],
            [
             1,
             "#f0f921"
            ]
           ],
           "sequentialminus": [
            [
             0,
             "#0d0887"
            ],
            [
             0.1111111111111111,
             "#46039f"
            ],
            [
             0.2222222222222222,
             "#7201a8"
            ],
            [
             0.3333333333333333,
             "#9c179e"
            ],
            [
             0.4444444444444444,
             "#bd3786"
            ],
            [
             0.5555555555555556,
             "#d8576b"
            ],
            [
             0.6666666666666666,
             "#ed7953"
            ],
            [
             0.7777777777777778,
             "#fb9f3a"
            ],
            [
             0.8888888888888888,
             "#fdca26"
            ],
            [
             1,
             "#f0f921"
            ]
           ]
          },
          "colorway": [
           "#636efa",
           "#EF553B",
           "#00cc96",
           "#ab63fa",
           "#FFA15A",
           "#19d3f3",
           "#FF6692",
           "#B6E880",
           "#FF97FF",
           "#FECB52"
          ],
          "font": {
           "color": "#2a3f5f"
          },
          "geo": {
           "bgcolor": "white",
           "lakecolor": "white",
           "landcolor": "#E5ECF6",
           "showlakes": true,
           "showland": true,
           "subunitcolor": "white"
          },
          "hoverlabel": {
           "align": "left"
          },
          "hovermode": "closest",
          "mapbox": {
           "style": "light"
          },
          "paper_bgcolor": "white",
          "plot_bgcolor": "#E5ECF6",
          "polar": {
           "angularaxis": {
            "gridcolor": "white",
            "linecolor": "white",
            "ticks": ""
           },
           "bgcolor": "#E5ECF6",
           "radialaxis": {
            "gridcolor": "white",
            "linecolor": "white",
            "ticks": ""
           }
          },
          "scene": {
           "xaxis": {
            "backgroundcolor": "#E5ECF6",
            "gridcolor": "white",
            "gridwidth": 2,
            "linecolor": "white",
            "showbackground": true,
            "ticks": "",
            "zerolinecolor": "white"
           },
           "yaxis": {
            "backgroundcolor": "#E5ECF6",
            "gridcolor": "white",
            "gridwidth": 2,
            "linecolor": "white",
            "showbackground": true,
            "ticks": "",
            "zerolinecolor": "white"
           },
           "zaxis": {
            "backgroundcolor": "#E5ECF6",
            "gridcolor": "white",
            "gridwidth": 2,
            "linecolor": "white",
            "showbackground": true,
            "ticks": "",
            "zerolinecolor": "white"
           }
          },
          "shapedefaults": {
           "line": {
            "color": "#2a3f5f"
           }
          },
          "ternary": {
           "aaxis": {
            "gridcolor": "white",
            "linecolor": "white",
            "ticks": ""
           },
           "baxis": {
            "gridcolor": "white",
            "linecolor": "white",
            "ticks": ""
           },
           "bgcolor": "#E5ECF6",
           "caxis": {
            "gridcolor": "white",
            "linecolor": "white",
            "ticks": ""
           }
          },
          "title": {
           "x": 0.05
          },
          "xaxis": {
           "automargin": true,
           "gridcolor": "white",
           "linecolor": "white",
           "ticks": "",
           "title": {
            "standoff": 15
           },
           "zerolinecolor": "white",
           "zerolinewidth": 2
          },
          "yaxis": {
           "automargin": true,
           "gridcolor": "white",
           "linecolor": "white",
           "ticks": "",
           "title": {
            "standoff": 15
           },
           "zerolinecolor": "white",
           "zerolinewidth": 2
          }
         }
        },
        "title": {
         "text": "TSNE"
        },
        "width": 1000,
        "xaxis": {
         "anchor": "y",
         "domain": [
          0,
          1
         ],
         "title": {
          "text": "x"
         }
        },
        "yaxis": {
         "anchor": "x",
         "domain": [
          0,
          1
         ],
         "title": {
          "text": "y"
         }
        }
       }
      },
      "text/html": [
       "<div>                            <div id=\"f74ff900-104c-4033-9783-ad48dc956dd2\" class=\"plotly-graph-div\" style=\"height:1000px; width:1000px;\"></div>            <script type=\"text/javascript\">                require([\"plotly\"], function(Plotly) {                    window.PLOTLYENV=window.PLOTLYENV || {};                                    if (document.getElementById(\"f74ff900-104c-4033-9783-ad48dc956dd2\")) {                    Plotly.newPlot(                        \"f74ff900-104c-4033-9783-ad48dc956dd2\",                        [{\"hovertemplate\":\"x=%{x}<br>y=%{y}<br>text=%{text}<extra></extra>\",\"legendgroup\":\"\",\"marker\":{\"color\":\"#636efa\",\"symbol\":\"circle\"},\"mode\":\"markers+text\",\"name\":\"\",\"orientation\":\"v\",\"showlegend\":false,\"text\":[\"APL\",\"Assembly\",\"Bash/Shell\",\"C\",\"C#\",\"C++\",\"COBOL\",\"Clojure\",\"Crystal\",\"Dart\",\"Delphi\",\"Elixir\",\"Erlang\",\"F#\",\"Fortran\",\"Go\",\"Groovy\",\"HTML/CSS\",\"Haskell\",\"Java\",\"JavaScript\",\"Julia\",\"Kotlin\",\"LISP\",\"Lua\",\"MATLAB\",\"OCaml\",\"Objective-C\",\"PHP\",\"Perl\",\"PowerShell\",\"Python\",\"R\",\"Ruby\",\"Rust\",\"SAS\",\"SQL\",\"Scala\",\"Solidity\",\"Swift\",\"TypeScript\",\"VBA\",\"Cassandra\",\"Cloud Firestore\",\"CouchDB\",\"Couchbase\",\"DynamoDB\",\"Elasticsearch\",\"Firebase Realtime Database\",\"IBM DB2\",\"MariaDB\",\"Microsoft SQL Server\",\"MongoDB\",\"MySQL\",\"Neo4j\",\"Oracle\",\"PostgreSQL\",\"Redis\",\"SQLite\",\"AWS\",\"Colocation\",\"DigitalOcean\",\"Firebase\",\"Google Cloud\",\"Heroku\",\"IBM Cloud or Watson\",\"Linode\",\"Managed Hosting\",\"Microsoft Azure\",\"OVH\",\"OpenStack\",\"Oracle Cloud Infrastructure\",\"VMware\",\"ASP.NET\",\"ASP.NET Core \",\"Angular\",\"Angular.js\",\"Blazor\",\"Deno\",\"Django\",\"Drupal\",\"Express\",\"FastAPI\",\"Fastify\",\"Flask\",\"Gatsby\",\"Laravel\",\"Next.js\",\"Node.js\",\"Nuxt.js\",\"Phoenix\",\"Play Framework\",\"React.js\",\"Ruby on Rails\",\"Svelte\",\"Symfony\",\"Vue.js\",\"jQuery\",\".NET\",\"Apache Kafka\",\"Apache Spark\",\"Capacitor\",\"Cordova\",\"Electron\",\"Flutter\",\"GTK\",\"Hadoop\",\"Hugging Face Transformers\",\"Ionic\",\"Keras\",\"NumPy\",\"Pandas\",\"Qt\",\"React Native\",\"Scikit-learn\",\"Spring\",\"TensorFlow\",\"Tidyverse\",\"Torch/PyTorch\",\"Uno Platform\",\"Xamarin\",\"Ansible\",\"Chef\",\"Docker\",\"Flow\",\"Homebrew\",\"Kubernetes\",\"Pulumi\",\"Puppet\",\"Terraform\",\"Unity 3D\",\"Unreal Engine\",\"Yarn\",\"npm\",\"Android Studio\",\"Atom\",\"CLion\",\"Eclipse\",\"Emacs\",\"GoLand\",\"IPython/Jupyter\",\"IntelliJ\",\"Nano\",\"Neovim\",\"NetBeans\",\"Notepad++\",\"PhpStorm\",\"PyCharm\",\"Qt Creator\",\"RAD Studio (Delphi, C++ Builder)\",\"RStudio\",\"Rider\",\"RubyMine\",\"Spyder\",\"Sublime Text\",\"TextMate\",\"Vim\",\"Visual Studio\",\"Visual Studio Code\",\"Webstorm\",\"Xcode\"],\"x\":[28.586397171020508,84.3783950805664,56.82090377807617,87.49092102050781,-45.55190658569336,89.7497787475586,32.7144889831543,59.79940414428711,32.690185546875,-42.07310104370117,3.0867061614990234,62.4478759765625,65.62393188476562,41.142860412597656,36.43950271606445,32.05923843383789,-29.5918025970459,-80.00420379638672,47.24094009399414,-22.993083953857422,-80.51782989501953,39.34300994873047,-41.65411376953125,54.819950103759766,71.51750183105469,106.27397918701172,44.70494079589844,-18.965782165527344,-71.52249908447266,45.32677459716797,-41.40862274169922,110.74819946289062,56.23329544067383,-5.313509941101074,66.73783874511719,53.96787643432617,-63.21007537841797,23.06233787536621,-89.49779510498047,-20.81816291809082,-86.68988800048828,-64.04411315917969,16.62232208251953,-46.351905822753906,14.962883949279785,13.176005363464355,12.718174934387207,11.423802375793457,-42.219635009765625,30.23927879333496,-72.37509155273438,-60.61729049682617,-74.93582153320312,-67.77088165283203,13.1107177734375,-16.78773307800293,12.014753341674805,10.127586364746094,-53.81938552856445,12.847721099853516,22.06138801574707,5.402435302734375,-43.787559509277344,-44.87547302246094,-69.6656265258789,27.324111938476562,2.222952127456665,-69.83134460449219,-58.51374053955078,-84.33109283447266,21.424291610717773,-13.219330787658691,-34.81956481933594,-53.154747009277344,-53.06694793701172,-90.70975494384766,-93.10560607910156,-54.13058090209961,-61.618167877197266,114.1604995727539,-80.31582641601562,-73.6682357788086,111.04961395263672,-70.44488525390625,111.2257080078125,-92.41697692871094,-72.67923736572266,-88.90557098388672,-75.7160873413086,-52.91819381713867,61.58067321777344,22.655231475830078,-85.70325469970703,-6.379287242889404,-61.812110900878906,-80.42698669433594,-53.24473571777344,-67.2142333984375,-47.9375114440918,19.86073112487793,23.737030029296875,-103.329345703125,-102.28355407714844,-72.76718139648438,-42.45172119140625,80.27813720703125,25.554550170898438,113.9605941772461,-101.33345031738281,118.27413940429688,111.92236328125,114.09750366210938,83.5053939819336,-83.116455078125,113.97706604003906,-26.313417434692383,116.96475219726562,59.44314956665039,115.21653747558594,-50.06218338012695,-47.892616271972656,23.90782356262207,33.404911041259766,14.888371467590332,25.801990509033203,-19.11511993408203,17.508005142211914,23.418302536010742,35.59126663208008,21.541492462158203,-26.681140899658203,-24.949005126953125,-85.9718246459961,-82.639892578125,-42.93892288208008,-10.456511497497559,93.27024841308594,-21.9036808013916,57.07259750366211,32.728572845458984,118.0018081665039,-22.951589584350586,53.48435974121094,68.49250793457031,-22.820690155029297,-38.41096115112305,-76.7621078491211,107.45610809326172,85.54106140136719,2.34965181350708,57.969573974609375,-46.98394012451172,-9.273982048034668,121.55853271484375,-8.988651275634766,-13.039593696594238,58.76093292236328,-42.20405960083008,-79.89781951904297,-77.94564819335938,-20.3248233795166],\"xaxis\":\"x\",\"y\":[19.0800838470459,-7.259576797485352,-7.1170477867126465,-6.603626251220703,105.9685287475586,-6.675662994384766,27.8571834564209,18.190425872802734,23.50967025756836,-17.24542999267578,85.40287780761719,-54.22056579589844,-53.753604888916016,10.85588550567627,29.384431838989258,-65.80471801757812,16.53583335876465,-45.91023254394531,12.74046802520752,19.667085647583008,-48.17117691040039,32.40449905395508,-7.079401016235352,16.722553253173828,-16.16669464111328,0.08821575343608856,12.597784996032715,-28.456111907958984,-4.474974632263184,24.520732879638672,103.11927032470703,-9.13119888305664,46.790836334228516,-19.8446102142334,-18.924205780029297,42.821876525878906,101.88150024414062,-17.56797981262207,-72.651611328125,-30.957977294921875,-53.6199951171875,107.8549575805664,-28.61931800842285,-29.46427345275879,41.38884353637695,42.5407829284668,-57.5457763671875,-39.19423294067383,-27.694814682006836,29.36178970336914,-8.047282218933105,105.97508239746094,-65.33312225341797,-5.412024974822998,-33.478572845458984,22.495853424072266,-47.64365768432617,-42.32685089111328,-6.733370304107666,-55.232948303222656,7.388076305389404,-43.301963806152344,-29.692880630493164,-33.78306198120117,-62.750640869140625,30.9156551361084,-43.907745361328125,-11.670036315917969,110.36409759521484,-3.8476176261901855,3.601862668991089,23.65100860595703,111.37055206298828,108.07953643798828,105.25499725341797,-50.975948333740234,-49.30770492553711,101.58035278320312,-82.55143737792969,-11.44327449798584,-8.615192413330078,-62.2127799987793,-17.31197166442871,-69.4513168334961,-13.833066940307617,-66.62281799316406,-2.312504768371582,-67.70587158203125,-60.23199462890625,-58.4578742980957,-56.183074951171875,-14.70676040649414,-64.36137390136719,-17.99435043334961,-84.76050567626953,-4.627124786376953,-56.354522705078125,0.08395574986934662,106.14459228515625,-27.849130630493164,-21.72603416442871,33.83605194091797,29.930898666381836,-57.11923599243164,-15.126262664794922,4.041622638702393,-23.00320816040039,17.246870040893555,32.346527099609375,9.231489181518555,-1.4088759422302246,-0.9954506158828735,5.142703056335449,-66.73713684082031,2.974501609802246,18.220773696899414,11.175077438354492,45.352073669433594,14.076578140258789,93.90404510498047,110.27877807617188,-43.92837142944336,-42.801326751708984,-45.90560531616211,17.111339569091797,-37.09394073486328,-45.600440979003906,-50.26698684692383,-42.6492805480957,-46.87791442871094,92.47111511230469,91.16951751708984,-60.264923095703125,-55.872894287109375,-9.293187141418457,12.001450538635254,-7.717385768890381,23.998685836791992,17.26130485534668,-67.822509765625,-1.9994502067565918,17.258052825927734,-5.816035747528076,-17.460186004638672,26.883331298828125,110.73320007324219,-1.943204641342163,-8.34756851196289,5.992388725280762,83.42130279541016,48.329185485839844,101.0960464477539,-20.74016571044922,-2.1419942378997803,10.188177108764648,-23.014999389648438,-8.347620010375977,108.8597183227539,-53.26548767089844,2.0832865238189697,-33.217796325683594],\"yaxis\":\"y\",\"type\":\"scatter\",\"textposition\":\"top center\"}],                        {\"template\":{\"data\":{\"histogram2dcontour\":[{\"type\":\"histogram2dcontour\",\"colorbar\":{\"outlinewidth\":0,\"ticks\":\"\"},\"colorscale\":[[0.0,\"#0d0887\"],[0.1111111111111111,\"#46039f\"],[0.2222222222222222,\"#7201a8\"],[0.3333333333333333,\"#9c179e\"],[0.4444444444444444,\"#bd3786\"],[0.5555555555555556,\"#d8576b\"],[0.6666666666666666,\"#ed7953\"],[0.7777777777777778,\"#fb9f3a\"],[0.8888888888888888,\"#fdca26\"],[1.0,\"#f0f921\"]]}],\"choropleth\":[{\"type\":\"choropleth\",\"colorbar\":{\"outlinewidth\":0,\"ticks\":\"\"}}],\"histogram2d\":[{\"type\":\"histogram2d\",\"colorbar\":{\"outlinewidth\":0,\"ticks\":\"\"},\"colorscale\":[[0.0,\"#0d0887\"],[0.1111111111111111,\"#46039f\"],[0.2222222222222222,\"#7201a8\"],[0.3333333333333333,\"#9c179e\"],[0.4444444444444444,\"#bd3786\"],[0.5555555555555556,\"#d8576b\"],[0.6666666666666666,\"#ed7953\"],[0.7777777777777778,\"#fb9f3a\"],[0.8888888888888888,\"#fdca26\"],[1.0,\"#f0f921\"]]}],\"heatmap\":[{\"type\":\"heatmap\",\"colorbar\":{\"outlinewidth\":0,\"ticks\":\"\"},\"colorscale\":[[0.0,\"#0d0887\"],[0.1111111111111111,\"#46039f\"],[0.2222222222222222,\"#7201a8\"],[0.3333333333333333,\"#9c179e\"],[0.4444444444444444,\"#bd3786\"],[0.5555555555555556,\"#d8576b\"],[0.6666666666666666,\"#ed7953\"],[0.7777777777777778,\"#fb9f3a\"],[0.8888888888888888,\"#fdca26\"],[1.0,\"#f0f921\"]]}],\"heatmapgl\":[{\"type\":\"heatmapgl\",\"colorbar\":{\"outlinewidth\":0,\"ticks\":\"\"},\"colorscale\":[[0.0,\"#0d0887\"],[0.1111111111111111,\"#46039f\"],[0.2222222222222222,\"#7201a8\"],[0.3333333333333333,\"#9c179e\"],[0.4444444444444444,\"#bd3786\"],[0.5555555555555556,\"#d8576b\"],[0.6666666666666666,\"#ed7953\"],[0.7777777777777778,\"#fb9f3a\"],[0.8888888888888888,\"#fdca26\"],[1.0,\"#f0f921\"]]}],\"contourcarpet\":[{\"type\":\"contourcarpet\",\"colorbar\":{\"outlinewidth\":0,\"ticks\":\"\"}}],\"contour\":[{\"type\":\"contour\",\"colorbar\":{\"outlinewidth\":0,\"ticks\":\"\"},\"colorscale\":[[0.0,\"#0d0887\"],[0.1111111111111111,\"#46039f\"],[0.2222222222222222,\"#7201a8\"],[0.3333333333333333,\"#9c179e\"],[0.4444444444444444,\"#bd3786\"],[0.5555555555555556,\"#d8576b\"],[0.6666666666666666,\"#ed7953\"],[0.7777777777777778,\"#fb9f3a\"],[0.8888888888888888,\"#fdca26\"],[1.0,\"#f0f921\"]]}],\"surface\":[{\"type\":\"surface\",\"colorbar\":{\"outlinewidth\":0,\"ticks\":\"\"},\"colorscale\":[[0.0,\"#0d0887\"],[0.1111111111111111,\"#46039f\"],[0.2222222222222222,\"#7201a8\"],[0.3333333333333333,\"#9c179e\"],[0.4444444444444444,\"#bd3786\"],[0.5555555555555556,\"#d8576b\"],[0.6666666666666666,\"#ed7953\"],[0.7777777777777778,\"#fb9f3a\"],[0.8888888888888888,\"#fdca26\"],[1.0,\"#f0f921\"]]}],\"mesh3d\":[{\"type\":\"mesh3d\",\"colorbar\":{\"outlinewidth\":0,\"ticks\":\"\"}}],\"scatter\":[{\"fillpattern\":{\"fillmode\":\"overlay\",\"size\":10,\"solidity\":0.2},\"type\":\"scatter\"}],\"parcoords\":[{\"type\":\"parcoords\",\"line\":{\"colorbar\":{\"outlinewidth\":0,\"ticks\":\"\"}}}],\"scatterpolargl\":[{\"type\":\"scatterpolargl\",\"marker\":{\"colorbar\":{\"outlinewidth\":0,\"ticks\":\"\"}}}],\"bar\":[{\"error_x\":{\"color\":\"#2a3f5f\"},\"error_y\":{\"color\":\"#2a3f5f\"},\"marker\":{\"line\":{\"color\":\"#E5ECF6\",\"width\":0.5},\"pattern\":{\"fillmode\":\"overlay\",\"size\":10,\"solidity\":0.2}},\"type\":\"bar\"}],\"scattergeo\":[{\"type\":\"scattergeo\",\"marker\":{\"colorbar\":{\"outlinewidth\":0,\"ticks\":\"\"}}}],\"scatterpolar\":[{\"type\":\"scatterpolar\",\"marker\":{\"colorbar\":{\"outlinewidth\":0,\"ticks\":\"\"}}}],\"histogram\":[{\"marker\":{\"pattern\":{\"fillmode\":\"overlay\",\"size\":10,\"solidity\":0.2}},\"type\":\"histogram\"}],\"scattergl\":[{\"type\":\"scattergl\",\"marker\":{\"colorbar\":{\"outlinewidth\":0,\"ticks\":\"\"}}}],\"scatter3d\":[{\"type\":\"scatter3d\",\"line\":{\"colorbar\":{\"outlinewidth\":0,\"ticks\":\"\"}},\"marker\":{\"colorbar\":{\"outlinewidth\":0,\"ticks\":\"\"}}}],\"scattermapbox\":[{\"type\":\"scattermapbox\",\"marker\":{\"colorbar\":{\"outlinewidth\":0,\"ticks\":\"\"}}}],\"scatterternary\":[{\"type\":\"scatterternary\",\"marker\":{\"colorbar\":{\"outlinewidth\":0,\"ticks\":\"\"}}}],\"scattercarpet\":[{\"type\":\"scattercarpet\",\"marker\":{\"colorbar\":{\"outlinewidth\":0,\"ticks\":\"\"}}}],\"carpet\":[{\"aaxis\":{\"endlinecolor\":\"#2a3f5f\",\"gridcolor\":\"white\",\"linecolor\":\"white\",\"minorgridcolor\":\"white\",\"startlinecolor\":\"#2a3f5f\"},\"baxis\":{\"endlinecolor\":\"#2a3f5f\",\"gridcolor\":\"white\",\"linecolor\":\"white\",\"minorgridcolor\":\"white\",\"startlinecolor\":\"#2a3f5f\"},\"type\":\"carpet\"}],\"table\":[{\"cells\":{\"fill\":{\"color\":\"#EBF0F8\"},\"line\":{\"color\":\"white\"}},\"header\":{\"fill\":{\"color\":\"#C8D4E3\"},\"line\":{\"color\":\"white\"}},\"type\":\"table\"}],\"barpolar\":[{\"marker\":{\"line\":{\"color\":\"#E5ECF6\",\"width\":0.5},\"pattern\":{\"fillmode\":\"overlay\",\"size\":10,\"solidity\":0.2}},\"type\":\"barpolar\"}],\"pie\":[{\"automargin\":true,\"type\":\"pie\"}]},\"layout\":{\"autotypenumbers\":\"strict\",\"colorway\":[\"#636efa\",\"#EF553B\",\"#00cc96\",\"#ab63fa\",\"#FFA15A\",\"#19d3f3\",\"#FF6692\",\"#B6E880\",\"#FF97FF\",\"#FECB52\"],\"font\":{\"color\":\"#2a3f5f\"},\"hovermode\":\"closest\",\"hoverlabel\":{\"align\":\"left\"},\"paper_bgcolor\":\"white\",\"plot_bgcolor\":\"#E5ECF6\",\"polar\":{\"bgcolor\":\"#E5ECF6\",\"angularaxis\":{\"gridcolor\":\"white\",\"linecolor\":\"white\",\"ticks\":\"\"},\"radialaxis\":{\"gridcolor\":\"white\",\"linecolor\":\"white\",\"ticks\":\"\"}},\"ternary\":{\"bgcolor\":\"#E5ECF6\",\"aaxis\":{\"gridcolor\":\"white\",\"linecolor\":\"white\",\"ticks\":\"\"},\"baxis\":{\"gridcolor\":\"white\",\"linecolor\":\"white\",\"ticks\":\"\"},\"caxis\":{\"gridcolor\":\"white\",\"linecolor\":\"white\",\"ticks\":\"\"}},\"coloraxis\":{\"colorbar\":{\"outlinewidth\":0,\"ticks\":\"\"}},\"colorscale\":{\"sequential\":[[0.0,\"#0d0887\"],[0.1111111111111111,\"#46039f\"],[0.2222222222222222,\"#7201a8\"],[0.3333333333333333,\"#9c179e\"],[0.4444444444444444,\"#bd3786\"],[0.5555555555555556,\"#d8576b\"],[0.6666666666666666,\"#ed7953\"],[0.7777777777777778,\"#fb9f3a\"],[0.8888888888888888,\"#fdca26\"],[1.0,\"#f0f921\"]],\"sequentialminus\":[[0.0,\"#0d0887\"],[0.1111111111111111,\"#46039f\"],[0.2222222222222222,\"#7201a8\"],[0.3333333333333333,\"#9c179e\"],[0.4444444444444444,\"#bd3786\"],[0.5555555555555556,\"#d8576b\"],[0.6666666666666666,\"#ed7953\"],[0.7777777777777778,\"#fb9f3a\"],[0.8888888888888888,\"#fdca26\"],[1.0,\"#f0f921\"]],\"diverging\":[[0,\"#8e0152\"],[0.1,\"#c51b7d\"],[0.2,\"#de77ae\"],[0.3,\"#f1b6da\"],[0.4,\"#fde0ef\"],[0.5,\"#f7f7f7\"],[0.6,\"#e6f5d0\"],[0.7,\"#b8e186\"],[0.8,\"#7fbc41\"],[0.9,\"#4d9221\"],[1,\"#276419\"]]},\"xaxis\":{\"gridcolor\":\"white\",\"linecolor\":\"white\",\"ticks\":\"\",\"title\":{\"standoff\":15},\"zerolinecolor\":\"white\",\"automargin\":true,\"zerolinewidth\":2},\"yaxis\":{\"gridcolor\":\"white\",\"linecolor\":\"white\",\"ticks\":\"\",\"title\":{\"standoff\":15},\"zerolinecolor\":\"white\",\"automargin\":true,\"zerolinewidth\":2},\"scene\":{\"xaxis\":{\"backgroundcolor\":\"#E5ECF6\",\"gridcolor\":\"white\",\"linecolor\":\"white\",\"showbackground\":true,\"ticks\":\"\",\"zerolinecolor\":\"white\",\"gridwidth\":2},\"yaxis\":{\"backgroundcolor\":\"#E5ECF6\",\"gridcolor\":\"white\",\"linecolor\":\"white\",\"showbackground\":true,\"ticks\":\"\",\"zerolinecolor\":\"white\",\"gridwidth\":2},\"zaxis\":{\"backgroundcolor\":\"#E5ECF6\",\"gridcolor\":\"white\",\"linecolor\":\"white\",\"showbackground\":true,\"ticks\":\"\",\"zerolinecolor\":\"white\",\"gridwidth\":2}},\"shapedefaults\":{\"line\":{\"color\":\"#2a3f5f\"}},\"annotationdefaults\":{\"arrowcolor\":\"#2a3f5f\",\"arrowhead\":0,\"arrowwidth\":1},\"geo\":{\"bgcolor\":\"white\",\"landcolor\":\"#E5ECF6\",\"subunitcolor\":\"white\",\"showland\":true,\"showlakes\":true,\"lakecolor\":\"white\"},\"title\":{\"x\":0.05},\"mapbox\":{\"style\":\"light\"}}},\"xaxis\":{\"anchor\":\"y\",\"domain\":[0.0,1.0],\"title\":{\"text\":\"x\"}},\"yaxis\":{\"anchor\":\"x\",\"domain\":[0.0,1.0],\"title\":{\"text\":\"y\"}},\"legend\":{\"tracegroupgap\":0},\"margin\":{\"t\":60},\"width\":1000,\"height\":1000,\"title\":{\"text\":\"TSNE\"}},                        {\"responsive\": true}                    ).then(function(){\n",
       "                            \n",
       "var gd = document.getElementById('f74ff900-104c-4033-9783-ad48dc956dd2');\n",
       "var x = new MutationObserver(function (mutations, observer) {{\n",
       "        var display = window.getComputedStyle(gd).display;\n",
       "        if (!display || display === 'none') {{\n",
       "            console.log([gd, 'removed!']);\n",
       "            Plotly.purge(gd);\n",
       "            observer.disconnect();\n",
       "        }}\n",
       "}});\n",
       "\n",
       "// Listen for the removal of the full notebook cells\n",
       "var notebookContainer = gd.closest('#notebook-container');\n",
       "if (notebookContainer) {{\n",
       "    x.observe(notebookContainer, {childList: true});\n",
       "}}\n",
       "\n",
       "// Listen for the clearing of the current output cell\n",
       "var outputEl = gd.closest('.output');\n",
       "if (outputEl) {{\n",
       "    x.observe(outputEl, {childList: true});\n",
       "}}\n",
       "\n",
       "                        })                };                });            </script>        </div>"
      ]
     },
     "metadata": {},
     "output_type": "display_data"
    }
   ],
   "source": [
    "# importing plolty.express as px\n",
    "import plotly.express as px\n",
    "\n",
    "# Creating a scatterplot of tsne_projections\n",
    "fig = px.scatter(x=tsne_projection[0], y=tsne_projection[1], text=tsne_projection.index.droplevel())\n",
    "fig.update_traces(textposition='top center')\n",
    "fig.update_layout(width=1000, height=1000, title='TSNE')\n",
    "fig.show()\n",
    "fig.write_html(os.path.join('../reports/figures', 'tsne_scatterplot.html'))"
   ]
  },
  {
   "cell_type": "markdown",
   "id": "e2fca957",
   "metadata": {},
   "source": [
    "### Cluster"
   ]
  },
  {
   "cell_type": "code",
   "execution_count": 78,
   "id": "0c7368f5",
   "metadata": {},
   "outputs": [],
   "source": [
    "# Importing libraries\n",
    "from sklearn.cluster import AgglomerativeClustering\n",
    "from sklearn.metrics import silhouette_score\n",
    "\n",
    "# Creating variables for clustering\n",
    "range_n_cluster = list(range(10, 25))\n",
    "silhouette_scores = []\n",
    "best_cluster_model = None\n",
    "\n",
    "# Applying Agglomerative cluserting and finding the best model\n",
    "for n_clusters in range_n_cluster:\n",
    "    cluster_model = AgglomerativeClustering(n_clusters=n_clusters, linkage='ward')\n",
    "    cluster_labels = cluster_model.fit_predict(tsne_projection)\n",
    "    \n",
    "    silhouette_avg = silhouette_score(tsne_projection, cluster_labels)\n",
    "    silhouette_scores += [silhouette_avg]\n",
    "    \n",
    "    if silhouette_avg >= np.max(silhouette_scores):\n",
    "        best_cluster_model = cluster_model"
   ]
  },
  {
   "cell_type": "code",
   "execution_count": 79,
   "id": "007235cc",
   "metadata": {},
   "outputs": [
    {
     "data": {
      "application/vnd.plotly.v1+json": {
       "config": {
        "plotlyServerURL": "https://plot.ly"
       },
       "data": [
        {
         "hovertemplate": "No. Clusters=%{x}<br>Silhouette Score=%{y}<extra></extra>",
         "legendgroup": "",
         "line": {
          "color": "#636efa",
          "dash": "solid"
         },
         "marker": {
          "symbol": "circle"
         },
         "mode": "lines",
         "name": "",
         "orientation": "v",
         "showlegend": false,
         "type": "scatter",
         "x": [
          10,
          11,
          12,
          13,
          14,
          15,
          16,
          17,
          18,
          19,
          20,
          21,
          22,
          23,
          24
         ],
         "xaxis": "x",
         "y": [
          0.5608487129211426,
          0.5660465955734253,
          0.5742641091346741,
          0.5754078030586243,
          0.5614039301872253,
          0.5619386434555054,
          0.5263559818267822,
          0.5406882762908936,
          0.5501391291618347,
          0.5559064149856567,
          0.5612481236457825,
          0.5590890049934387,
          0.5648459196090698,
          0.5619450211524963,
          0.5672459602355957
         ],
         "yaxis": "y"
        }
       ],
       "layout": {
        "height": 600,
        "legend": {
         "tracegroupgap": 0
        },
        "margin": {
         "t": 60
        },
        "shapes": [
         {
          "type": "line",
          "x0": 13,
          "x1": 13,
          "xref": "x",
          "y0": 0,
          "y1": 1,
          "yref": "y domain"
         }
        ],
        "template": {
         "data": {
          "bar": [
           {
            "error_x": {
             "color": "#2a3f5f"
            },
            "error_y": {
             "color": "#2a3f5f"
            },
            "marker": {
             "line": {
              "color": "#E5ECF6",
              "width": 0.5
             },
             "pattern": {
              "fillmode": "overlay",
              "size": 10,
              "solidity": 0.2
             }
            },
            "type": "bar"
           }
          ],
          "barpolar": [
           {
            "marker": {
             "line": {
              "color": "#E5ECF6",
              "width": 0.5
             },
             "pattern": {
              "fillmode": "overlay",
              "size": 10,
              "solidity": 0.2
             }
            },
            "type": "barpolar"
           }
          ],
          "carpet": [
           {
            "aaxis": {
             "endlinecolor": "#2a3f5f",
             "gridcolor": "white",
             "linecolor": "white",
             "minorgridcolor": "white",
             "startlinecolor": "#2a3f5f"
            },
            "baxis": {
             "endlinecolor": "#2a3f5f",
             "gridcolor": "white",
             "linecolor": "white",
             "minorgridcolor": "white",
             "startlinecolor": "#2a3f5f"
            },
            "type": "carpet"
           }
          ],
          "choropleth": [
           {
            "colorbar": {
             "outlinewidth": 0,
             "ticks": ""
            },
            "type": "choropleth"
           }
          ],
          "contour": [
           {
            "colorbar": {
             "outlinewidth": 0,
             "ticks": ""
            },
            "colorscale": [
             [
              0,
              "#0d0887"
             ],
             [
              0.1111111111111111,
              "#46039f"
             ],
             [
              0.2222222222222222,
              "#7201a8"
             ],
             [
              0.3333333333333333,
              "#9c179e"
             ],
             [
              0.4444444444444444,
              "#bd3786"
             ],
             [
              0.5555555555555556,
              "#d8576b"
             ],
             [
              0.6666666666666666,
              "#ed7953"
             ],
             [
              0.7777777777777778,
              "#fb9f3a"
             ],
             [
              0.8888888888888888,
              "#fdca26"
             ],
             [
              1,
              "#f0f921"
             ]
            ],
            "type": "contour"
           }
          ],
          "contourcarpet": [
           {
            "colorbar": {
             "outlinewidth": 0,
             "ticks": ""
            },
            "type": "contourcarpet"
           }
          ],
          "heatmap": [
           {
            "colorbar": {
             "outlinewidth": 0,
             "ticks": ""
            },
            "colorscale": [
             [
              0,
              "#0d0887"
             ],
             [
              0.1111111111111111,
              "#46039f"
             ],
             [
              0.2222222222222222,
              "#7201a8"
             ],
             [
              0.3333333333333333,
              "#9c179e"
             ],
             [
              0.4444444444444444,
              "#bd3786"
             ],
             [
              0.5555555555555556,
              "#d8576b"
             ],
             [
              0.6666666666666666,
              "#ed7953"
             ],
             [
              0.7777777777777778,
              "#fb9f3a"
             ],
             [
              0.8888888888888888,
              "#fdca26"
             ],
             [
              1,
              "#f0f921"
             ]
            ],
            "type": "heatmap"
           }
          ],
          "heatmapgl": [
           {
            "colorbar": {
             "outlinewidth": 0,
             "ticks": ""
            },
            "colorscale": [
             [
              0,
              "#0d0887"
             ],
             [
              0.1111111111111111,
              "#46039f"
             ],
             [
              0.2222222222222222,
              "#7201a8"
             ],
             [
              0.3333333333333333,
              "#9c179e"
             ],
             [
              0.4444444444444444,
              "#bd3786"
             ],
             [
              0.5555555555555556,
              "#d8576b"
             ],
             [
              0.6666666666666666,
              "#ed7953"
             ],
             [
              0.7777777777777778,
              "#fb9f3a"
             ],
             [
              0.8888888888888888,
              "#fdca26"
             ],
             [
              1,
              "#f0f921"
             ]
            ],
            "type": "heatmapgl"
           }
          ],
          "histogram": [
           {
            "marker": {
             "pattern": {
              "fillmode": "overlay",
              "size": 10,
              "solidity": 0.2
             }
            },
            "type": "histogram"
           }
          ],
          "histogram2d": [
           {
            "colorbar": {
             "outlinewidth": 0,
             "ticks": ""
            },
            "colorscale": [
             [
              0,
              "#0d0887"
             ],
             [
              0.1111111111111111,
              "#46039f"
             ],
             [
              0.2222222222222222,
              "#7201a8"
             ],
             [
              0.3333333333333333,
              "#9c179e"
             ],
             [
              0.4444444444444444,
              "#bd3786"
             ],
             [
              0.5555555555555556,
              "#d8576b"
             ],
             [
              0.6666666666666666,
              "#ed7953"
             ],
             [
              0.7777777777777778,
              "#fb9f3a"
             ],
             [
              0.8888888888888888,
              "#fdca26"
             ],
             [
              1,
              "#f0f921"
             ]
            ],
            "type": "histogram2d"
           }
          ],
          "histogram2dcontour": [
           {
            "colorbar": {
             "outlinewidth": 0,
             "ticks": ""
            },
            "colorscale": [
             [
              0,
              "#0d0887"
             ],
             [
              0.1111111111111111,
              "#46039f"
             ],
             [
              0.2222222222222222,
              "#7201a8"
             ],
             [
              0.3333333333333333,
              "#9c179e"
             ],
             [
              0.4444444444444444,
              "#bd3786"
             ],
             [
              0.5555555555555556,
              "#d8576b"
             ],
             [
              0.6666666666666666,
              "#ed7953"
             ],
             [
              0.7777777777777778,
              "#fb9f3a"
             ],
             [
              0.8888888888888888,
              "#fdca26"
             ],
             [
              1,
              "#f0f921"
             ]
            ],
            "type": "histogram2dcontour"
           }
          ],
          "mesh3d": [
           {
            "colorbar": {
             "outlinewidth": 0,
             "ticks": ""
            },
            "type": "mesh3d"
           }
          ],
          "parcoords": [
           {
            "line": {
             "colorbar": {
              "outlinewidth": 0,
              "ticks": ""
             }
            },
            "type": "parcoords"
           }
          ],
          "pie": [
           {
            "automargin": true,
            "type": "pie"
           }
          ],
          "scatter": [
           {
            "fillpattern": {
             "fillmode": "overlay",
             "size": 10,
             "solidity": 0.2
            },
            "type": "scatter"
           }
          ],
          "scatter3d": [
           {
            "line": {
             "colorbar": {
              "outlinewidth": 0,
              "ticks": ""
             }
            },
            "marker": {
             "colorbar": {
              "outlinewidth": 0,
              "ticks": ""
             }
            },
            "type": "scatter3d"
           }
          ],
          "scattercarpet": [
           {
            "marker": {
             "colorbar": {
              "outlinewidth": 0,
              "ticks": ""
             }
            },
            "type": "scattercarpet"
           }
          ],
          "scattergeo": [
           {
            "marker": {
             "colorbar": {
              "outlinewidth": 0,
              "ticks": ""
             }
            },
            "type": "scattergeo"
           }
          ],
          "scattergl": [
           {
            "marker": {
             "colorbar": {
              "outlinewidth": 0,
              "ticks": ""
             }
            },
            "type": "scattergl"
           }
          ],
          "scattermapbox": [
           {
            "marker": {
             "colorbar": {
              "outlinewidth": 0,
              "ticks": ""
             }
            },
            "type": "scattermapbox"
           }
          ],
          "scatterpolar": [
           {
            "marker": {
             "colorbar": {
              "outlinewidth": 0,
              "ticks": ""
             }
            },
            "type": "scatterpolar"
           }
          ],
          "scatterpolargl": [
           {
            "marker": {
             "colorbar": {
              "outlinewidth": 0,
              "ticks": ""
             }
            },
            "type": "scatterpolargl"
           }
          ],
          "scatterternary": [
           {
            "marker": {
             "colorbar": {
              "outlinewidth": 0,
              "ticks": ""
             }
            },
            "type": "scatterternary"
           }
          ],
          "surface": [
           {
            "colorbar": {
             "outlinewidth": 0,
             "ticks": ""
            },
            "colorscale": [
             [
              0,
              "#0d0887"
             ],
             [
              0.1111111111111111,
              "#46039f"
             ],
             [
              0.2222222222222222,
              "#7201a8"
             ],
             [
              0.3333333333333333,
              "#9c179e"
             ],
             [
              0.4444444444444444,
              "#bd3786"
             ],
             [
              0.5555555555555556,
              "#d8576b"
             ],
             [
              0.6666666666666666,
              "#ed7953"
             ],
             [
              0.7777777777777778,
              "#fb9f3a"
             ],
             [
              0.8888888888888888,
              "#fdca26"
             ],
             [
              1,
              "#f0f921"
             ]
            ],
            "type": "surface"
           }
          ],
          "table": [
           {
            "cells": {
             "fill": {
              "color": "#EBF0F8"
             },
             "line": {
              "color": "white"
             }
            },
            "header": {
             "fill": {
              "color": "#C8D4E3"
             },
             "line": {
              "color": "white"
             }
            },
            "type": "table"
           }
          ]
         },
         "layout": {
          "annotationdefaults": {
           "arrowcolor": "#2a3f5f",
           "arrowhead": 0,
           "arrowwidth": 1
          },
          "autotypenumbers": "strict",
          "coloraxis": {
           "colorbar": {
            "outlinewidth": 0,
            "ticks": ""
           }
          },
          "colorscale": {
           "diverging": [
            [
             0,
             "#8e0152"
            ],
            [
             0.1,
             "#c51b7d"
            ],
            [
             0.2,
             "#de77ae"
            ],
            [
             0.3,
             "#f1b6da"
            ],
            [
             0.4,
             "#fde0ef"
            ],
            [
             0.5,
             "#f7f7f7"
            ],
            [
             0.6,
             "#e6f5d0"
            ],
            [
             0.7,
             "#b8e186"
            ],
            [
             0.8,
             "#7fbc41"
            ],
            [
             0.9,
             "#4d9221"
            ],
            [
             1,
             "#276419"
            ]
           ],
           "sequential": [
            [
             0,
             "#0d0887"
            ],
            [
             0.1111111111111111,
             "#46039f"
            ],
            [
             0.2222222222222222,
             "#7201a8"
            ],
            [
             0.3333333333333333,
             "#9c179e"
            ],
            [
             0.4444444444444444,
             "#bd3786"
            ],
            [
             0.5555555555555556,
             "#d8576b"
            ],
            [
             0.6666666666666666,
             "#ed7953"
            ],
            [
             0.7777777777777778,
             "#fb9f3a"
            ],
            [
             0.8888888888888888,
             "#fdca26"
            ],
            [
             1,
             "#f0f921"
            ]
           ],
           "sequentialminus": [
            [
             0,
             "#0d0887"
            ],
            [
             0.1111111111111111,
             "#46039f"
            ],
            [
             0.2222222222222222,
             "#7201a8"
            ],
            [
             0.3333333333333333,
             "#9c179e"
            ],
            [
             0.4444444444444444,
             "#bd3786"
            ],
            [
             0.5555555555555556,
             "#d8576b"
            ],
            [
             0.6666666666666666,
             "#ed7953"
            ],
            [
             0.7777777777777778,
             "#fb9f3a"
            ],
            [
             0.8888888888888888,
             "#fdca26"
            ],
            [
             1,
             "#f0f921"
            ]
           ]
          },
          "colorway": [
           "#636efa",
           "#EF553B",
           "#00cc96",
           "#ab63fa",
           "#FFA15A",
           "#19d3f3",
           "#FF6692",
           "#B6E880",
           "#FF97FF",
           "#FECB52"
          ],
          "font": {
           "color": "#2a3f5f"
          },
          "geo": {
           "bgcolor": "white",
           "lakecolor": "white",
           "landcolor": "#E5ECF6",
           "showlakes": true,
           "showland": true,
           "subunitcolor": "white"
          },
          "hoverlabel": {
           "align": "left"
          },
          "hovermode": "closest",
          "mapbox": {
           "style": "light"
          },
          "paper_bgcolor": "white",
          "plot_bgcolor": "#E5ECF6",
          "polar": {
           "angularaxis": {
            "gridcolor": "white",
            "linecolor": "white",
            "ticks": ""
           },
           "bgcolor": "#E5ECF6",
           "radialaxis": {
            "gridcolor": "white",
            "linecolor": "white",
            "ticks": ""
           }
          },
          "scene": {
           "xaxis": {
            "backgroundcolor": "#E5ECF6",
            "gridcolor": "white",
            "gridwidth": 2,
            "linecolor": "white",
            "showbackground": true,
            "ticks": "",
            "zerolinecolor": "white"
           },
           "yaxis": {
            "backgroundcolor": "#E5ECF6",
            "gridcolor": "white",
            "gridwidth": 2,
            "linecolor": "white",
            "showbackground": true,
            "ticks": "",
            "zerolinecolor": "white"
           },
           "zaxis": {
            "backgroundcolor": "#E5ECF6",
            "gridcolor": "white",
            "gridwidth": 2,
            "linecolor": "white",
            "showbackground": true,
            "ticks": "",
            "zerolinecolor": "white"
           }
          },
          "shapedefaults": {
           "line": {
            "color": "#2a3f5f"
           }
          },
          "ternary": {
           "aaxis": {
            "gridcolor": "white",
            "linecolor": "white",
            "ticks": ""
           },
           "baxis": {
            "gridcolor": "white",
            "linecolor": "white",
            "ticks": ""
           },
           "bgcolor": "#E5ECF6",
           "caxis": {
            "gridcolor": "white",
            "linecolor": "white",
            "ticks": ""
           }
          },
          "title": {
           "x": 0.05
          },
          "xaxis": {
           "automargin": true,
           "gridcolor": "white",
           "linecolor": "white",
           "ticks": "",
           "title": {
            "standoff": 15
           },
           "zerolinecolor": "white",
           "zerolinewidth": 2
          },
          "yaxis": {
           "automargin": true,
           "gridcolor": "white",
           "linecolor": "white",
           "ticks": "",
           "title": {
            "standoff": 15
           },
           "zerolinecolor": "white",
           "zerolinewidth": 2
          }
         }
        },
        "title": {
         "text": "Best Clustering Model"
        },
        "width": 800,
        "xaxis": {
         "anchor": "y",
         "domain": [
          0,
          1
         ],
         "title": {
          "text": "No. Clusters"
         }
        },
        "yaxis": {
         "anchor": "x",
         "domain": [
          0,
          1
         ],
         "title": {
          "text": "Silhouette Score"
         }
        }
       }
      },
      "text/html": [
       "<div>                            <div id=\"592e33ae-b696-4157-9e74-b65adc25bb9e\" class=\"plotly-graph-div\" style=\"height:600px; width:800px;\"></div>            <script type=\"text/javascript\">                require([\"plotly\"], function(Plotly) {                    window.PLOTLYENV=window.PLOTLYENV || {};                                    if (document.getElementById(\"592e33ae-b696-4157-9e74-b65adc25bb9e\")) {                    Plotly.newPlot(                        \"592e33ae-b696-4157-9e74-b65adc25bb9e\",                        [{\"hovertemplate\":\"No. Clusters=%{x}<br>Silhouette Score=%{y}<extra></extra>\",\"legendgroup\":\"\",\"line\":{\"color\":\"#636efa\",\"dash\":\"solid\"},\"marker\":{\"symbol\":\"circle\"},\"mode\":\"lines\",\"name\":\"\",\"orientation\":\"v\",\"showlegend\":false,\"x\":[10,11,12,13,14,15,16,17,18,19,20,21,22,23,24],\"xaxis\":\"x\",\"y\":[0.5608487129211426,0.5660465955734253,0.5742641091346741,0.5754078030586243,0.5614039301872253,0.5619386434555054,0.5263559818267822,0.5406882762908936,0.5501391291618347,0.5559064149856567,0.5612481236457825,0.5590890049934387,0.5648459196090698,0.5619450211524963,0.5672459602355957],\"yaxis\":\"y\",\"type\":\"scatter\"}],                        {\"template\":{\"data\":{\"histogram2dcontour\":[{\"type\":\"histogram2dcontour\",\"colorbar\":{\"outlinewidth\":0,\"ticks\":\"\"},\"colorscale\":[[0.0,\"#0d0887\"],[0.1111111111111111,\"#46039f\"],[0.2222222222222222,\"#7201a8\"],[0.3333333333333333,\"#9c179e\"],[0.4444444444444444,\"#bd3786\"],[0.5555555555555556,\"#d8576b\"],[0.6666666666666666,\"#ed7953\"],[0.7777777777777778,\"#fb9f3a\"],[0.8888888888888888,\"#fdca26\"],[1.0,\"#f0f921\"]]}],\"choropleth\":[{\"type\":\"choropleth\",\"colorbar\":{\"outlinewidth\":0,\"ticks\":\"\"}}],\"histogram2d\":[{\"type\":\"histogram2d\",\"colorbar\":{\"outlinewidth\":0,\"ticks\":\"\"},\"colorscale\":[[0.0,\"#0d0887\"],[0.1111111111111111,\"#46039f\"],[0.2222222222222222,\"#7201a8\"],[0.3333333333333333,\"#9c179e\"],[0.4444444444444444,\"#bd3786\"],[0.5555555555555556,\"#d8576b\"],[0.6666666666666666,\"#ed7953\"],[0.7777777777777778,\"#fb9f3a\"],[0.8888888888888888,\"#fdca26\"],[1.0,\"#f0f921\"]]}],\"heatmap\":[{\"type\":\"heatmap\",\"colorbar\":{\"outlinewidth\":0,\"ticks\":\"\"},\"colorscale\":[[0.0,\"#0d0887\"],[0.1111111111111111,\"#46039f\"],[0.2222222222222222,\"#7201a8\"],[0.3333333333333333,\"#9c179e\"],[0.4444444444444444,\"#bd3786\"],[0.5555555555555556,\"#d8576b\"],[0.6666666666666666,\"#ed7953\"],[0.7777777777777778,\"#fb9f3a\"],[0.8888888888888888,\"#fdca26\"],[1.0,\"#f0f921\"]]}],\"heatmapgl\":[{\"type\":\"heatmapgl\",\"colorbar\":{\"outlinewidth\":0,\"ticks\":\"\"},\"colorscale\":[[0.0,\"#0d0887\"],[0.1111111111111111,\"#46039f\"],[0.2222222222222222,\"#7201a8\"],[0.3333333333333333,\"#9c179e\"],[0.4444444444444444,\"#bd3786\"],[0.5555555555555556,\"#d8576b\"],[0.6666666666666666,\"#ed7953\"],[0.7777777777777778,\"#fb9f3a\"],[0.8888888888888888,\"#fdca26\"],[1.0,\"#f0f921\"]]}],\"contourcarpet\":[{\"type\":\"contourcarpet\",\"colorbar\":{\"outlinewidth\":0,\"ticks\":\"\"}}],\"contour\":[{\"type\":\"contour\",\"colorbar\":{\"outlinewidth\":0,\"ticks\":\"\"},\"colorscale\":[[0.0,\"#0d0887\"],[0.1111111111111111,\"#46039f\"],[0.2222222222222222,\"#7201a8\"],[0.3333333333333333,\"#9c179e\"],[0.4444444444444444,\"#bd3786\"],[0.5555555555555556,\"#d8576b\"],[0.6666666666666666,\"#ed7953\"],[0.7777777777777778,\"#fb9f3a\"],[0.8888888888888888,\"#fdca26\"],[1.0,\"#f0f921\"]]}],\"surface\":[{\"type\":\"surface\",\"colorbar\":{\"outlinewidth\":0,\"ticks\":\"\"},\"colorscale\":[[0.0,\"#0d0887\"],[0.1111111111111111,\"#46039f\"],[0.2222222222222222,\"#7201a8\"],[0.3333333333333333,\"#9c179e\"],[0.4444444444444444,\"#bd3786\"],[0.5555555555555556,\"#d8576b\"],[0.6666666666666666,\"#ed7953\"],[0.7777777777777778,\"#fb9f3a\"],[0.8888888888888888,\"#fdca26\"],[1.0,\"#f0f921\"]]}],\"mesh3d\":[{\"type\":\"mesh3d\",\"colorbar\":{\"outlinewidth\":0,\"ticks\":\"\"}}],\"scatter\":[{\"fillpattern\":{\"fillmode\":\"overlay\",\"size\":10,\"solidity\":0.2},\"type\":\"scatter\"}],\"parcoords\":[{\"type\":\"parcoords\",\"line\":{\"colorbar\":{\"outlinewidth\":0,\"ticks\":\"\"}}}],\"scatterpolargl\":[{\"type\":\"scatterpolargl\",\"marker\":{\"colorbar\":{\"outlinewidth\":0,\"ticks\":\"\"}}}],\"bar\":[{\"error_x\":{\"color\":\"#2a3f5f\"},\"error_y\":{\"color\":\"#2a3f5f\"},\"marker\":{\"line\":{\"color\":\"#E5ECF6\",\"width\":0.5},\"pattern\":{\"fillmode\":\"overlay\",\"size\":10,\"solidity\":0.2}},\"type\":\"bar\"}],\"scattergeo\":[{\"type\":\"scattergeo\",\"marker\":{\"colorbar\":{\"outlinewidth\":0,\"ticks\":\"\"}}}],\"scatterpolar\":[{\"type\":\"scatterpolar\",\"marker\":{\"colorbar\":{\"outlinewidth\":0,\"ticks\":\"\"}}}],\"histogram\":[{\"marker\":{\"pattern\":{\"fillmode\":\"overlay\",\"size\":10,\"solidity\":0.2}},\"type\":\"histogram\"}],\"scattergl\":[{\"type\":\"scattergl\",\"marker\":{\"colorbar\":{\"outlinewidth\":0,\"ticks\":\"\"}}}],\"scatter3d\":[{\"type\":\"scatter3d\",\"line\":{\"colorbar\":{\"outlinewidth\":0,\"ticks\":\"\"}},\"marker\":{\"colorbar\":{\"outlinewidth\":0,\"ticks\":\"\"}}}],\"scattermapbox\":[{\"type\":\"scattermapbox\",\"marker\":{\"colorbar\":{\"outlinewidth\":0,\"ticks\":\"\"}}}],\"scatterternary\":[{\"type\":\"scatterternary\",\"marker\":{\"colorbar\":{\"outlinewidth\":0,\"ticks\":\"\"}}}],\"scattercarpet\":[{\"type\":\"scattercarpet\",\"marker\":{\"colorbar\":{\"outlinewidth\":0,\"ticks\":\"\"}}}],\"carpet\":[{\"aaxis\":{\"endlinecolor\":\"#2a3f5f\",\"gridcolor\":\"white\",\"linecolor\":\"white\",\"minorgridcolor\":\"white\",\"startlinecolor\":\"#2a3f5f\"},\"baxis\":{\"endlinecolor\":\"#2a3f5f\",\"gridcolor\":\"white\",\"linecolor\":\"white\",\"minorgridcolor\":\"white\",\"startlinecolor\":\"#2a3f5f\"},\"type\":\"carpet\"}],\"table\":[{\"cells\":{\"fill\":{\"color\":\"#EBF0F8\"},\"line\":{\"color\":\"white\"}},\"header\":{\"fill\":{\"color\":\"#C8D4E3\"},\"line\":{\"color\":\"white\"}},\"type\":\"table\"}],\"barpolar\":[{\"marker\":{\"line\":{\"color\":\"#E5ECF6\",\"width\":0.5},\"pattern\":{\"fillmode\":\"overlay\",\"size\":10,\"solidity\":0.2}},\"type\":\"barpolar\"}],\"pie\":[{\"automargin\":true,\"type\":\"pie\"}]},\"layout\":{\"autotypenumbers\":\"strict\",\"colorway\":[\"#636efa\",\"#EF553B\",\"#00cc96\",\"#ab63fa\",\"#FFA15A\",\"#19d3f3\",\"#FF6692\",\"#B6E880\",\"#FF97FF\",\"#FECB52\"],\"font\":{\"color\":\"#2a3f5f\"},\"hovermode\":\"closest\",\"hoverlabel\":{\"align\":\"left\"},\"paper_bgcolor\":\"white\",\"plot_bgcolor\":\"#E5ECF6\",\"polar\":{\"bgcolor\":\"#E5ECF6\",\"angularaxis\":{\"gridcolor\":\"white\",\"linecolor\":\"white\",\"ticks\":\"\"},\"radialaxis\":{\"gridcolor\":\"white\",\"linecolor\":\"white\",\"ticks\":\"\"}},\"ternary\":{\"bgcolor\":\"#E5ECF6\",\"aaxis\":{\"gridcolor\":\"white\",\"linecolor\":\"white\",\"ticks\":\"\"},\"baxis\":{\"gridcolor\":\"white\",\"linecolor\":\"white\",\"ticks\":\"\"},\"caxis\":{\"gridcolor\":\"white\",\"linecolor\":\"white\",\"ticks\":\"\"}},\"coloraxis\":{\"colorbar\":{\"outlinewidth\":0,\"ticks\":\"\"}},\"colorscale\":{\"sequential\":[[0.0,\"#0d0887\"],[0.1111111111111111,\"#46039f\"],[0.2222222222222222,\"#7201a8\"],[0.3333333333333333,\"#9c179e\"],[0.4444444444444444,\"#bd3786\"],[0.5555555555555556,\"#d8576b\"],[0.6666666666666666,\"#ed7953\"],[0.7777777777777778,\"#fb9f3a\"],[0.8888888888888888,\"#fdca26\"],[1.0,\"#f0f921\"]],\"sequentialminus\":[[0.0,\"#0d0887\"],[0.1111111111111111,\"#46039f\"],[0.2222222222222222,\"#7201a8\"],[0.3333333333333333,\"#9c179e\"],[0.4444444444444444,\"#bd3786\"],[0.5555555555555556,\"#d8576b\"],[0.6666666666666666,\"#ed7953\"],[0.7777777777777778,\"#fb9f3a\"],[0.8888888888888888,\"#fdca26\"],[1.0,\"#f0f921\"]],\"diverging\":[[0,\"#8e0152\"],[0.1,\"#c51b7d\"],[0.2,\"#de77ae\"],[0.3,\"#f1b6da\"],[0.4,\"#fde0ef\"],[0.5,\"#f7f7f7\"],[0.6,\"#e6f5d0\"],[0.7,\"#b8e186\"],[0.8,\"#7fbc41\"],[0.9,\"#4d9221\"],[1,\"#276419\"]]},\"xaxis\":{\"gridcolor\":\"white\",\"linecolor\":\"white\",\"ticks\":\"\",\"title\":{\"standoff\":15},\"zerolinecolor\":\"white\",\"automargin\":true,\"zerolinewidth\":2},\"yaxis\":{\"gridcolor\":\"white\",\"linecolor\":\"white\",\"ticks\":\"\",\"title\":{\"standoff\":15},\"zerolinecolor\":\"white\",\"automargin\":true,\"zerolinewidth\":2},\"scene\":{\"xaxis\":{\"backgroundcolor\":\"#E5ECF6\",\"gridcolor\":\"white\",\"linecolor\":\"white\",\"showbackground\":true,\"ticks\":\"\",\"zerolinecolor\":\"white\",\"gridwidth\":2},\"yaxis\":{\"backgroundcolor\":\"#E5ECF6\",\"gridcolor\":\"white\",\"linecolor\":\"white\",\"showbackground\":true,\"ticks\":\"\",\"zerolinecolor\":\"white\",\"gridwidth\":2},\"zaxis\":{\"backgroundcolor\":\"#E5ECF6\",\"gridcolor\":\"white\",\"linecolor\":\"white\",\"showbackground\":true,\"ticks\":\"\",\"zerolinecolor\":\"white\",\"gridwidth\":2}},\"shapedefaults\":{\"line\":{\"color\":\"#2a3f5f\"}},\"annotationdefaults\":{\"arrowcolor\":\"#2a3f5f\",\"arrowhead\":0,\"arrowwidth\":1},\"geo\":{\"bgcolor\":\"white\",\"landcolor\":\"#E5ECF6\",\"subunitcolor\":\"white\",\"showland\":true,\"showlakes\":true,\"lakecolor\":\"white\"},\"title\":{\"x\":0.05},\"mapbox\":{\"style\":\"light\"}}},\"xaxis\":{\"anchor\":\"y\",\"domain\":[0.0,1.0],\"title\":{\"text\":\"No. Clusters\"}},\"yaxis\":{\"anchor\":\"x\",\"domain\":[0.0,1.0],\"title\":{\"text\":\"Silhouette Score\"}},\"legend\":{\"tracegroupgap\":0},\"margin\":{\"t\":60},\"shapes\":[{\"type\":\"line\",\"x0\":13,\"x1\":13,\"xref\":\"x\",\"y0\":0,\"y1\":1,\"yref\":\"y domain\"}],\"width\":800,\"height\":600,\"title\":{\"text\":\"Best Clustering Model\"}},                        {\"responsive\": true}                    ).then(function(){\n",
       "                            \n",
       "var gd = document.getElementById('592e33ae-b696-4157-9e74-b65adc25bb9e');\n",
       "var x = new MutationObserver(function (mutations, observer) {{\n",
       "        var display = window.getComputedStyle(gd).display;\n",
       "        if (!display || display === 'none') {{\n",
       "            console.log([gd, 'removed!']);\n",
       "            Plotly.purge(gd);\n",
       "            observer.disconnect();\n",
       "        }}\n",
       "}});\n",
       "\n",
       "// Listen for the removal of the full notebook cells\n",
       "var notebookContainer = gd.closest('#notebook-container');\n",
       "if (notebookContainer) {{\n",
       "    x.observe(notebookContainer, {childList: true});\n",
       "}}\n",
       "\n",
       "// Listen for the clearing of the current output cell\n",
       "var outputEl = gd.closest('.output');\n",
       "if (outputEl) {{\n",
       "    x.observe(outputEl, {childList: true});\n",
       "}}\n",
       "\n",
       "                        })                };                });            </script>        </div>"
      ]
     },
     "metadata": {},
     "output_type": "display_data"
    }
   ],
   "source": [
    "# Creating a plot showing the range of clusters and the silhouette score with best model parameters\n",
    "fig = px.line(x=range_n_cluster, y=silhouette_scores, labels=dict(x='No. Clusters', y='Silhouette Score'))\n",
    "fig.add_vline(best_cluster_model.n_clusters)\n",
    "fig.update_layout(width=800, height=600, title='Best Clustering Model')\n",
    "fig.show()\n",
    "fig.write_html(os.path.join('../reports/figures', 'cluserting_lineplot.html'))"
   ]
  },
  {
   "cell_type": "code",
   "execution_count": 80,
   "id": "21161bcd",
   "metadata": {},
   "outputs": [],
   "source": [
    "# Creating cluster labels\n",
    "cluster_labels = ['skills_group_' + str(label) for label in best_cluster_model.labels_]"
   ]
  },
  {
   "cell_type": "code",
   "execution_count": 81,
   "id": "e6e6dc66",
   "metadata": {},
   "outputs": [
    {
     "data": {
      "application/vnd.plotly.v1+json": {
       "config": {
        "plotlyServerURL": "https://plot.ly"
       },
       "data": [
        {
         "hovertemplate": "color=skills_group_0<br>x=%{x}<br>y=%{y}<br>text=%{text}<extra></extra>",
         "legendgroup": "skills_group_0",
         "marker": {
          "color": "#636efa",
          "symbol": "circle"
         },
         "mode": "markers+text",
         "name": "skills_group_0",
         "orientation": "v",
         "showlegend": true,
         "text": [
          "APL",
          "COBOL",
          "Clojure",
          "Crystal",
          "F#",
          "Fortran",
          "Haskell",
          "Julia",
          "LISP",
          "OCaml",
          "Perl",
          "R",
          "SAS",
          "CouchDB",
          "Couchbase",
          "IBM DB2",
          "Colocation",
          "IBM Cloud or Watson",
          "OpenStack",
          "Tidyverse",
          "Flow",
          "Emacs",
          "RStudio"
         ],
         "textposition": "top center",
         "type": "scatter",
         "x": [
          28.586397171020508,
          32.7144889831543,
          59.79940414428711,
          32.690185546875,
          41.142860412597656,
          36.43950271606445,
          47.24094009399414,
          39.34300994873047,
          54.819950103759766,
          44.70494079589844,
          45.32677459716797,
          56.23329544067383,
          53.96787643432617,
          14.962883949279785,
          13.176005363464355,
          30.23927879333496,
          22.06138801574707,
          27.324111938476562,
          21.424291610717773,
          59.44314956665039,
          25.801990509033203,
          57.07259750366211,
          57.969573974609375
         ],
         "xaxis": "x",
         "y": [
          19.0800838470459,
          27.8571834564209,
          18.190425872802734,
          23.50967025756836,
          10.85588550567627,
          29.384431838989258,
          12.74046802520752,
          32.40449905395508,
          16.722553253173828,
          12.597784996032715,
          24.520732879638672,
          46.790836334228516,
          42.821876525878906,
          41.38884353637695,
          42.5407829284668,
          29.36178970336914,
          7.388076305389404,
          30.9156551361084,
          3.601862668991089,
          45.352073669433594,
          17.111339569091797,
          17.26130485534668,
          48.329185485839844
         ],
         "yaxis": "y"
        },
        {
         "hovertemplate": "color=skills_group_6<br>x=%{x}<br>y=%{y}<br>text=%{text}<extra></extra>",
         "legendgroup": "skills_group_6",
         "marker": {
          "color": "#EF553B",
          "symbol": "circle"
         },
         "mode": "markers+text",
         "name": "skills_group_6",
         "orientation": "v",
         "showlegend": true,
         "text": [
          "Assembly",
          "Bash/Shell",
          "C",
          "C++",
          "Lua",
          "Rust",
          "GTK",
          "Qt",
          "CLion",
          "Nano",
          "Neovim",
          "Qt Creator",
          "Vim"
         ],
         "textposition": "top center",
         "type": "scatter",
         "x": [
          84.3783950805664,
          56.82090377807617,
          87.49092102050781,
          89.7497787475586,
          71.51750183105469,
          66.73783874511719,
          80.27813720703125,
          83.5053939819336,
          93.27024841308594,
          53.48435974121094,
          68.49250793457031,
          85.54106140136719,
          58.76093292236328
         ],
         "xaxis": "x",
         "y": [
          -7.259576797485352,
          -7.1170477867126465,
          -6.603626251220703,
          -6.675662994384766,
          -16.16669464111328,
          -18.924205780029297,
          4.041622638702393,
          5.142703056335449,
          -7.717385768890381,
          -5.816035747528076,
          -17.460186004638672,
          5.992388725280762,
          -8.347620010375977
         ],
         "yaxis": "y"
        },
        {
         "hovertemplate": "color=skills_group_4<br>x=%{x}<br>y=%{y}<br>text=%{text}<extra></extra>",
         "legendgroup": "skills_group_4",
         "marker": {
          "color": "#00cc96",
          "symbol": "circle"
         },
         "mode": "markers+text",
         "name": "skills_group_4",
         "orientation": "v",
         "showlegend": true,
         "text": [
          "C#",
          "PowerShell",
          "SQL",
          "VBA",
          "Microsoft SQL Server",
          "Microsoft Azure",
          "VMware",
          "ASP.NET",
          "ASP.NET Core ",
          "Blazor",
          ".NET",
          "Uno Platform",
          "Xamarin",
          "Notepad++",
          "Rider",
          "Visual Studio"
         ],
         "textposition": "top center",
         "type": "scatter",
         "x": [
          -45.55190658569336,
          -41.40862274169922,
          -63.21007537841797,
          -64.04411315917969,
          -60.61729049682617,
          -58.51374053955078,
          -34.81956481933594,
          -53.154747009277344,
          -53.06694793701172,
          -54.13058090209961,
          -47.9375114440918,
          -50.06218338012695,
          -47.892616271972656,
          -38.41096115112305,
          -46.98394012451172,
          -42.20405960083008
         ],
         "xaxis": "x",
         "y": [
          105.9685287475586,
          103.11927032470703,
          101.88150024414062,
          107.8549575805664,
          105.97508239746094,
          110.36409759521484,
          111.37055206298828,
          108.07953643798828,
          105.25499725341797,
          101.58035278320312,
          106.14459228515625,
          93.90404510498047,
          110.27877807617188,
          110.73320007324219,
          101.0960464477539,
          108.8597183227539
         ],
         "yaxis": "y"
        },
        {
         "hovertemplate": "color=skills_group_5<br>x=%{x}<br>y=%{y}<br>text=%{text}<extra></extra>",
         "legendgroup": "skills_group_5",
         "marker": {
          "color": "#ab63fa",
          "symbol": "circle"
         },
         "mode": "markers+text",
         "name": "skills_group_5",
         "orientation": "v",
         "showlegend": true,
         "text": [
          "Dart",
          "Kotlin",
          "Cloud Firestore",
          "Firebase Realtime Database",
          "SQLite",
          "Firebase",
          "Google Cloud",
          "Flutter",
          "Android Studio"
         ],
         "textposition": "top center",
         "type": "scatter",
         "x": [
          -42.07310104370117,
          -41.65411376953125,
          -46.351905822753906,
          -42.219635009765625,
          -53.81938552856445,
          -43.787559509277344,
          -44.87547302246094,
          -42.45172119140625,
          -42.93892288208008
         ],
         "xaxis": "x",
         "y": [
          -17.24542999267578,
          -7.079401016235352,
          -29.46427345275879,
          -27.694814682006836,
          -6.733370304107666,
          -29.692880630493164,
          -33.78306198120117,
          -15.126262664794922,
          -9.293187141418457
         ],
         "yaxis": "y"
        },
        {
         "hovertemplate": "color=skills_group_8<br>x=%{x}<br>y=%{y}<br>text=%{text}<extra></extra>",
         "legendgroup": "skills_group_8",
         "marker": {
          "color": "#FFA15A",
          "symbol": "circle"
         },
         "mode": "markers+text",
         "name": "skills_group_8",
         "orientation": "v",
         "showlegend": true,
         "text": [
          "Delphi",
          "Unity 3D",
          "Unreal Engine",
          "RAD Studio (Delphi, C++ Builder)"
         ],
         "textposition": "top center",
         "type": "scatter",
         "x": [
          3.0867061614990234,
          -26.681140899658203,
          -24.949005126953125,
          2.34965181350708
         ],
         "xaxis": "x",
         "y": [
          85.40287780761719,
          92.47111511230469,
          91.16951751708984,
          83.42130279541016
         ],
         "yaxis": "y"
        },
        {
         "hovertemplate": "color=skills_group_10<br>x=%{x}<br>y=%{y}<br>text=%{text}<extra></extra>",
         "legendgroup": "skills_group_10",
         "marker": {
          "color": "#19d3f3",
          "symbol": "circle"
         },
         "mode": "markers+text",
         "name": "skills_group_10",
         "orientation": "v",
         "showlegend": true,
         "text": [
          "Elixir",
          "Erlang",
          "Phoenix"
         ],
         "textposition": "top center",
         "type": "scatter",
         "x": [
          62.4478759765625,
          65.62393188476562,
          61.58067321777344
         ],
         "xaxis": "x",
         "y": [
          -54.22056579589844,
          -53.753604888916016,
          -56.183074951171875
         ],
         "yaxis": "y"
        },
        {
         "hovertemplate": "color=skills_group_2<br>x=%{x}<br>y=%{y}<br>text=%{text}<extra></extra>",
         "legendgroup": "skills_group_2",
         "marker": {
          "color": "#FF6692",
          "symbol": "circle"
         },
         "mode": "markers+text",
         "name": "skills_group_2",
         "orientation": "v",
         "showlegend": true,
         "text": [
          "Go",
          "Scala",
          "Cassandra",
          "DynamoDB",
          "Elasticsearch",
          "Neo4j",
          "PostgreSQL",
          "Redis",
          "AWS",
          "DigitalOcean",
          "Linode",
          "Play Framework",
          "Apache Kafka",
          "Apache Spark",
          "Hadoop",
          "Ansible",
          "Chef",
          "Docker",
          "Kubernetes",
          "Pulumi",
          "Puppet",
          "Terraform",
          "GoLand"
         ],
         "textposition": "top center",
         "type": "scatter",
         "x": [
          32.05923843383789,
          23.06233787536621,
          16.62232208251953,
          12.718174934387207,
          11.423802375793457,
          13.1107177734375,
          12.014753341674805,
          10.127586364746094,
          12.847721099853516,
          5.402435302734375,
          2.222952127456665,
          22.655231475830078,
          19.86073112487793,
          23.737030029296875,
          25.554550170898438,
          23.90782356262207,
          33.404911041259766,
          14.888371467590332,
          17.508005142211914,
          23.418302536010742,
          35.59126663208008,
          21.541492462158203,
          32.728572845458984
         ],
         "xaxis": "x",
         "y": [
          -65.80471801757812,
          -17.56797981262207,
          -28.61931800842285,
          -57.5457763671875,
          -39.19423294067383,
          -33.478572845458984,
          -47.64365768432617,
          -42.32685089111328,
          -55.232948303222656,
          -43.301963806152344,
          -43.907745361328125,
          -14.70676040649414,
          -27.849130630493164,
          -21.72603416442871,
          -23.00320816040039,
          -43.92837142944336,
          -42.801326751708984,
          -45.90560531616211,
          -45.600440979003906,
          -50.26698684692383,
          -42.6492805480957,
          -46.87791442871094,
          -67.822509765625
         ],
         "yaxis": "y"
        },
        {
         "hovertemplate": "color=skills_group_7<br>x=%{x}<br>y=%{y}<br>text=%{text}<extra></extra>",
         "legendgroup": "skills_group_7",
         "marker": {
          "color": "#B6E880",
          "symbol": "circle"
         },
         "mode": "markers+text",
         "name": "skills_group_7",
         "orientation": "v",
         "showlegend": true,
         "text": [
          "Groovy",
          "Java",
          "Oracle",
          "Oracle Cloud Infrastructure",
          "Spring",
          "Atom",
          "Eclipse",
          "IntelliJ",
          "NetBeans",
          "Sublime Text"
         ],
         "textposition": "top center",
         "type": "scatter",
         "x": [
          -29.5918025970459,
          -22.993083953857422,
          -16.78773307800293,
          -13.219330787658691,
          -26.313417434692383,
          -10.456511497497559,
          -21.9036808013916,
          -22.951589584350586,
          -22.820690155029297,
          -8.988651275634766
         ],
         "xaxis": "x",
         "y": [
          16.53583335876465,
          19.667085647583008,
          22.495853424072266,
          23.65100860595703,
          18.220773696899414,
          12.001450538635254,
          23.998685836791992,
          17.258052825927734,
          26.883331298828125,
          10.188177108764648
         ],
         "yaxis": "y"
        },
        {
         "hovertemplate": "color=skills_group_1<br>x=%{x}<br>y=%{y}<br>text=%{text}<extra></extra>",
         "legendgroup": "skills_group_1",
         "marker": {
          "color": "#FF97FF",
          "symbol": "circle"
         },
         "mode": "markers+text",
         "name": "skills_group_1",
         "orientation": "v",
         "showlegend": true,
         "text": [
          "HTML/CSS",
          "JavaScript",
          "Solidity",
          "TypeScript",
          "MongoDB",
          "Heroku",
          "Angular",
          "Angular.js",
          "Deno",
          "Express",
          "Fastify",
          "Gatsby",
          "Next.js",
          "Node.js",
          "Nuxt.js",
          "React.js",
          "Svelte",
          "Vue.js",
          "Electron",
          "React Native",
          "Yarn",
          "npm",
          "Visual Studio Code"
         ],
         "textposition": "top center",
         "type": "scatter",
         "x": [
          -80.00420379638672,
          -80.51782989501953,
          -89.49779510498047,
          -86.68988800048828,
          -74.93582153320312,
          -69.6656265258789,
          -90.70975494384766,
          -93.10560607910156,
          -61.618167877197266,
          -73.6682357788086,
          -70.44488525390625,
          -92.41697692871094,
          -88.90557098388672,
          -75.7160873413086,
          -52.91819381713867,
          -85.70325469970703,
          -61.812110900878906,
          -53.24473571777344,
          -72.76718139648438,
          -83.116455078125,
          -85.9718246459961,
          -82.639892578125,
          -79.89781951904297
         ],
         "xaxis": "x",
         "y": [
          -45.91023254394531,
          -48.17117691040039,
          -72.651611328125,
          -53.6199951171875,
          -65.33312225341797,
          -62.750640869140625,
          -50.975948333740234,
          -49.30770492553711,
          -82.55143737792969,
          -62.2127799987793,
          -69.4513168334961,
          -66.62281799316406,
          -67.70587158203125,
          -60.23199462890625,
          -58.4578742980957,
          -64.36137390136719,
          -84.76050567626953,
          -56.354522705078125,
          -57.11923599243164,
          -66.73713684082031,
          -60.264923095703125,
          -55.872894287109375,
          -53.26548767089844
         ],
         "yaxis": "y"
        },
        {
         "hovertemplate": "color=skills_group_3<br>x=%{x}<br>y=%{y}<br>text=%{text}<extra></extra>",
         "legendgroup": "skills_group_3",
         "marker": {
          "color": "#FECB52",
          "symbol": "circle"
         },
         "mode": "markers+text",
         "name": "skills_group_3",
         "orientation": "v",
         "showlegend": true,
         "text": [
          "MATLAB",
          "Python",
          "Django",
          "FastAPI",
          "Flask",
          "Hugging Face Transformers",
          "Keras",
          "NumPy",
          "Pandas",
          "Scikit-learn",
          "TensorFlow",
          "Torch/PyTorch",
          "IPython/Jupyter",
          "PyCharm",
          "Spyder"
         ],
         "textposition": "top center",
         "type": "scatter",
         "x": [
          106.27397918701172,
          110.74819946289062,
          114.1604995727539,
          111.04961395263672,
          111.2257080078125,
          113.9605941772461,
          118.27413940429688,
          111.92236328125,
          114.09750366210938,
          113.97706604003906,
          116.96475219726562,
          115.21653747558594,
          118.0018081665039,
          107.45610809326172,
          121.55853271484375
         ],
         "xaxis": "x",
         "y": [
          0.08821575343608856,
          -9.13119888305664,
          -11.44327449798584,
          -17.31197166442871,
          -13.833066940307617,
          17.246870040893555,
          9.231489181518555,
          -1.4088759422302246,
          -0.9954506158828735,
          2.974501609802246,
          11.175077438354492,
          14.076578140258789,
          -1.9994502067565918,
          -8.34756851196289,
          -2.1419942378997803
         ],
         "yaxis": "y"
        },
        {
         "hovertemplate": "color=skills_group_12<br>x=%{x}<br>y=%{y}<br>text=%{text}<extra></extra>",
         "legendgroup": "skills_group_12",
         "marker": {
          "color": "#636efa",
          "symbol": "circle"
         },
         "mode": "markers+text",
         "name": "skills_group_12",
         "orientation": "v",
         "showlegend": true,
         "text": [
          "Objective-C",
          "Ruby",
          "Swift",
          "Ruby on Rails",
          "Homebrew",
          "RubyMine",
          "TextMate",
          "Xcode"
         ],
         "textposition": "top center",
         "type": "scatter",
         "x": [
          -18.965782165527344,
          -5.313509941101074,
          -20.81816291809082,
          -6.379287242889404,
          -19.11511993408203,
          -9.273982048034668,
          -13.039593696594238,
          -20.3248233795166
         ],
         "xaxis": "x",
         "y": [
          -28.456111907958984,
          -19.8446102142334,
          -30.957977294921875,
          -17.99435043334961,
          -37.09394073486328,
          -20.74016571044922,
          -23.014999389648438,
          -33.217796325683594
         ],
         "yaxis": "y"
        },
        {
         "hovertemplate": "color=skills_group_9<br>x=%{x}<br>y=%{y}<br>text=%{text}<extra></extra>",
         "legendgroup": "skills_group_9",
         "marker": {
          "color": "#EF553B",
          "symbol": "circle"
         },
         "mode": "markers+text",
         "name": "skills_group_9",
         "orientation": "v",
         "showlegend": true,
         "text": [
          "PHP",
          "MariaDB",
          "MySQL",
          "Managed Hosting",
          "OVH",
          "Drupal",
          "Laravel",
          "Symfony",
          "jQuery",
          "PhpStorm",
          "Webstorm"
         ],
         "textposition": "top center",
         "type": "scatter",
         "x": [
          -71.52249908447266,
          -72.37509155273438,
          -67.77088165283203,
          -69.83134460449219,
          -84.33109283447266,
          -80.31582641601562,
          -72.67923736572266,
          -80.42698669433594,
          -67.2142333984375,
          -76.7621078491211,
          -77.94564819335938
         ],
         "xaxis": "x",
         "y": [
          -4.474974632263184,
          -8.047282218933105,
          -5.412024974822998,
          -11.670036315917969,
          -3.8476176261901855,
          -8.615192413330078,
          -2.312504768371582,
          -4.627124786376953,
          0.08395574986934662,
          -1.943204641342163,
          2.0832865238189697
         ],
         "yaxis": "y"
        },
        {
         "hovertemplate": "color=skills_group_11<br>x=%{x}<br>y=%{y}<br>text=%{text}<extra></extra>",
         "legendgroup": "skills_group_11",
         "marker": {
          "color": "#00cc96",
          "symbol": "circle"
         },
         "mode": "markers+text",
         "name": "skills_group_11",
         "orientation": "v",
         "showlegend": true,
         "text": [
          "Capacitor",
          "Cordova",
          "Ionic"
         ],
         "textposition": "top center",
         "type": "scatter",
         "x": [
          -103.329345703125,
          -102.28355407714844,
          -101.33345031738281
         ],
         "xaxis": "x",
         "y": [
          33.83605194091797,
          29.930898666381836,
          32.346527099609375
         ],
         "yaxis": "y"
        }
       ],
       "layout": {
        "height": 800,
        "legend": {
         "title": {
          "text": "color"
         },
         "tracegroupgap": 0
        },
        "margin": {
         "t": 60
        },
        "template": {
         "data": {
          "bar": [
           {
            "error_x": {
             "color": "#2a3f5f"
            },
            "error_y": {
             "color": "#2a3f5f"
            },
            "marker": {
             "line": {
              "color": "#E5ECF6",
              "width": 0.5
             },
             "pattern": {
              "fillmode": "overlay",
              "size": 10,
              "solidity": 0.2
             }
            },
            "type": "bar"
           }
          ],
          "barpolar": [
           {
            "marker": {
             "line": {
              "color": "#E5ECF6",
              "width": 0.5
             },
             "pattern": {
              "fillmode": "overlay",
              "size": 10,
              "solidity": 0.2
             }
            },
            "type": "barpolar"
           }
          ],
          "carpet": [
           {
            "aaxis": {
             "endlinecolor": "#2a3f5f",
             "gridcolor": "white",
             "linecolor": "white",
             "minorgridcolor": "white",
             "startlinecolor": "#2a3f5f"
            },
            "baxis": {
             "endlinecolor": "#2a3f5f",
             "gridcolor": "white",
             "linecolor": "white",
             "minorgridcolor": "white",
             "startlinecolor": "#2a3f5f"
            },
            "type": "carpet"
           }
          ],
          "choropleth": [
           {
            "colorbar": {
             "outlinewidth": 0,
             "ticks": ""
            },
            "type": "choropleth"
           }
          ],
          "contour": [
           {
            "colorbar": {
             "outlinewidth": 0,
             "ticks": ""
            },
            "colorscale": [
             [
              0,
              "#0d0887"
             ],
             [
              0.1111111111111111,
              "#46039f"
             ],
             [
              0.2222222222222222,
              "#7201a8"
             ],
             [
              0.3333333333333333,
              "#9c179e"
             ],
             [
              0.4444444444444444,
              "#bd3786"
             ],
             [
              0.5555555555555556,
              "#d8576b"
             ],
             [
              0.6666666666666666,
              "#ed7953"
             ],
             [
              0.7777777777777778,
              "#fb9f3a"
             ],
             [
              0.8888888888888888,
              "#fdca26"
             ],
             [
              1,
              "#f0f921"
             ]
            ],
            "type": "contour"
           }
          ],
          "contourcarpet": [
           {
            "colorbar": {
             "outlinewidth": 0,
             "ticks": ""
            },
            "type": "contourcarpet"
           }
          ],
          "heatmap": [
           {
            "colorbar": {
             "outlinewidth": 0,
             "ticks": ""
            },
            "colorscale": [
             [
              0,
              "#0d0887"
             ],
             [
              0.1111111111111111,
              "#46039f"
             ],
             [
              0.2222222222222222,
              "#7201a8"
             ],
             [
              0.3333333333333333,
              "#9c179e"
             ],
             [
              0.4444444444444444,
              "#bd3786"
             ],
             [
              0.5555555555555556,
              "#d8576b"
             ],
             [
              0.6666666666666666,
              "#ed7953"
             ],
             [
              0.7777777777777778,
              "#fb9f3a"
             ],
             [
              0.8888888888888888,
              "#fdca26"
             ],
             [
              1,
              "#f0f921"
             ]
            ],
            "type": "heatmap"
           }
          ],
          "heatmapgl": [
           {
            "colorbar": {
             "outlinewidth": 0,
             "ticks": ""
            },
            "colorscale": [
             [
              0,
              "#0d0887"
             ],
             [
              0.1111111111111111,
              "#46039f"
             ],
             [
              0.2222222222222222,
              "#7201a8"
             ],
             [
              0.3333333333333333,
              "#9c179e"
             ],
             [
              0.4444444444444444,
              "#bd3786"
             ],
             [
              0.5555555555555556,
              "#d8576b"
             ],
             [
              0.6666666666666666,
              "#ed7953"
             ],
             [
              0.7777777777777778,
              "#fb9f3a"
             ],
             [
              0.8888888888888888,
              "#fdca26"
             ],
             [
              1,
              "#f0f921"
             ]
            ],
            "type": "heatmapgl"
           }
          ],
          "histogram": [
           {
            "marker": {
             "pattern": {
              "fillmode": "overlay",
              "size": 10,
              "solidity": 0.2
             }
            },
            "type": "histogram"
           }
          ],
          "histogram2d": [
           {
            "colorbar": {
             "outlinewidth": 0,
             "ticks": ""
            },
            "colorscale": [
             [
              0,
              "#0d0887"
             ],
             [
              0.1111111111111111,
              "#46039f"
             ],
             [
              0.2222222222222222,
              "#7201a8"
             ],
             [
              0.3333333333333333,
              "#9c179e"
             ],
             [
              0.4444444444444444,
              "#bd3786"
             ],
             [
              0.5555555555555556,
              "#d8576b"
             ],
             [
              0.6666666666666666,
              "#ed7953"
             ],
             [
              0.7777777777777778,
              "#fb9f3a"
             ],
             [
              0.8888888888888888,
              "#fdca26"
             ],
             [
              1,
              "#f0f921"
             ]
            ],
            "type": "histogram2d"
           }
          ],
          "histogram2dcontour": [
           {
            "colorbar": {
             "outlinewidth": 0,
             "ticks": ""
            },
            "colorscale": [
             [
              0,
              "#0d0887"
             ],
             [
              0.1111111111111111,
              "#46039f"
             ],
             [
              0.2222222222222222,
              "#7201a8"
             ],
             [
              0.3333333333333333,
              "#9c179e"
             ],
             [
              0.4444444444444444,
              "#bd3786"
             ],
             [
              0.5555555555555556,
              "#d8576b"
             ],
             [
              0.6666666666666666,
              "#ed7953"
             ],
             [
              0.7777777777777778,
              "#fb9f3a"
             ],
             [
              0.8888888888888888,
              "#fdca26"
             ],
             [
              1,
              "#f0f921"
             ]
            ],
            "type": "histogram2dcontour"
           }
          ],
          "mesh3d": [
           {
            "colorbar": {
             "outlinewidth": 0,
             "ticks": ""
            },
            "type": "mesh3d"
           }
          ],
          "parcoords": [
           {
            "line": {
             "colorbar": {
              "outlinewidth": 0,
              "ticks": ""
             }
            },
            "type": "parcoords"
           }
          ],
          "pie": [
           {
            "automargin": true,
            "type": "pie"
           }
          ],
          "scatter": [
           {
            "fillpattern": {
             "fillmode": "overlay",
             "size": 10,
             "solidity": 0.2
            },
            "type": "scatter"
           }
          ],
          "scatter3d": [
           {
            "line": {
             "colorbar": {
              "outlinewidth": 0,
              "ticks": ""
             }
            },
            "marker": {
             "colorbar": {
              "outlinewidth": 0,
              "ticks": ""
             }
            },
            "type": "scatter3d"
           }
          ],
          "scattercarpet": [
           {
            "marker": {
             "colorbar": {
              "outlinewidth": 0,
              "ticks": ""
             }
            },
            "type": "scattercarpet"
           }
          ],
          "scattergeo": [
           {
            "marker": {
             "colorbar": {
              "outlinewidth": 0,
              "ticks": ""
             }
            },
            "type": "scattergeo"
           }
          ],
          "scattergl": [
           {
            "marker": {
             "colorbar": {
              "outlinewidth": 0,
              "ticks": ""
             }
            },
            "type": "scattergl"
           }
          ],
          "scattermapbox": [
           {
            "marker": {
             "colorbar": {
              "outlinewidth": 0,
              "ticks": ""
             }
            },
            "type": "scattermapbox"
           }
          ],
          "scatterpolar": [
           {
            "marker": {
             "colorbar": {
              "outlinewidth": 0,
              "ticks": ""
             }
            },
            "type": "scatterpolar"
           }
          ],
          "scatterpolargl": [
           {
            "marker": {
             "colorbar": {
              "outlinewidth": 0,
              "ticks": ""
             }
            },
            "type": "scatterpolargl"
           }
          ],
          "scatterternary": [
           {
            "marker": {
             "colorbar": {
              "outlinewidth": 0,
              "ticks": ""
             }
            },
            "type": "scatterternary"
           }
          ],
          "surface": [
           {
            "colorbar": {
             "outlinewidth": 0,
             "ticks": ""
            },
            "colorscale": [
             [
              0,
              "#0d0887"
             ],
             [
              0.1111111111111111,
              "#46039f"
             ],
             [
              0.2222222222222222,
              "#7201a8"
             ],
             [
              0.3333333333333333,
              "#9c179e"
             ],
             [
              0.4444444444444444,
              "#bd3786"
             ],
             [
              0.5555555555555556,
              "#d8576b"
             ],
             [
              0.6666666666666666,
              "#ed7953"
             ],
             [
              0.7777777777777778,
              "#fb9f3a"
             ],
             [
              0.8888888888888888,
              "#fdca26"
             ],
             [
              1,
              "#f0f921"
             ]
            ],
            "type": "surface"
           }
          ],
          "table": [
           {
            "cells": {
             "fill": {
              "color": "#EBF0F8"
             },
             "line": {
              "color": "white"
             }
            },
            "header": {
             "fill": {
              "color": "#C8D4E3"
             },
             "line": {
              "color": "white"
             }
            },
            "type": "table"
           }
          ]
         },
         "layout": {
          "annotationdefaults": {
           "arrowcolor": "#2a3f5f",
           "arrowhead": 0,
           "arrowwidth": 1
          },
          "autotypenumbers": "strict",
          "coloraxis": {
           "colorbar": {
            "outlinewidth": 0,
            "ticks": ""
           }
          },
          "colorscale": {
           "diverging": [
            [
             0,
             "#8e0152"
            ],
            [
             0.1,
             "#c51b7d"
            ],
            [
             0.2,
             "#de77ae"
            ],
            [
             0.3,
             "#f1b6da"
            ],
            [
             0.4,
             "#fde0ef"
            ],
            [
             0.5,
             "#f7f7f7"
            ],
            [
             0.6,
             "#e6f5d0"
            ],
            [
             0.7,
             "#b8e186"
            ],
            [
             0.8,
             "#7fbc41"
            ],
            [
             0.9,
             "#4d9221"
            ],
            [
             1,
             "#276419"
            ]
           ],
           "sequential": [
            [
             0,
             "#0d0887"
            ],
            [
             0.1111111111111111,
             "#46039f"
            ],
            [
             0.2222222222222222,
             "#7201a8"
            ],
            [
             0.3333333333333333,
             "#9c179e"
            ],
            [
             0.4444444444444444,
             "#bd3786"
            ],
            [
             0.5555555555555556,
             "#d8576b"
            ],
            [
             0.6666666666666666,
             "#ed7953"
            ],
            [
             0.7777777777777778,
             "#fb9f3a"
            ],
            [
             0.8888888888888888,
             "#fdca26"
            ],
            [
             1,
             "#f0f921"
            ]
           ],
           "sequentialminus": [
            [
             0,
             "#0d0887"
            ],
            [
             0.1111111111111111,
             "#46039f"
            ],
            [
             0.2222222222222222,
             "#7201a8"
            ],
            [
             0.3333333333333333,
             "#9c179e"
            ],
            [
             0.4444444444444444,
             "#bd3786"
            ],
            [
             0.5555555555555556,
             "#d8576b"
            ],
            [
             0.6666666666666666,
             "#ed7953"
            ],
            [
             0.7777777777777778,
             "#fb9f3a"
            ],
            [
             0.8888888888888888,
             "#fdca26"
            ],
            [
             1,
             "#f0f921"
            ]
           ]
          },
          "colorway": [
           "#636efa",
           "#EF553B",
           "#00cc96",
           "#ab63fa",
           "#FFA15A",
           "#19d3f3",
           "#FF6692",
           "#B6E880",
           "#FF97FF",
           "#FECB52"
          ],
          "font": {
           "color": "#2a3f5f"
          },
          "geo": {
           "bgcolor": "white",
           "lakecolor": "white",
           "landcolor": "#E5ECF6",
           "showlakes": true,
           "showland": true,
           "subunitcolor": "white"
          },
          "hoverlabel": {
           "align": "left"
          },
          "hovermode": "closest",
          "mapbox": {
           "style": "light"
          },
          "paper_bgcolor": "white",
          "plot_bgcolor": "#E5ECF6",
          "polar": {
           "angularaxis": {
            "gridcolor": "white",
            "linecolor": "white",
            "ticks": ""
           },
           "bgcolor": "#E5ECF6",
           "radialaxis": {
            "gridcolor": "white",
            "linecolor": "white",
            "ticks": ""
           }
          },
          "scene": {
           "xaxis": {
            "backgroundcolor": "#E5ECF6",
            "gridcolor": "white",
            "gridwidth": 2,
            "linecolor": "white",
            "showbackground": true,
            "ticks": "",
            "zerolinecolor": "white"
           },
           "yaxis": {
            "backgroundcolor": "#E5ECF6",
            "gridcolor": "white",
            "gridwidth": 2,
            "linecolor": "white",
            "showbackground": true,
            "ticks": "",
            "zerolinecolor": "white"
           },
           "zaxis": {
            "backgroundcolor": "#E5ECF6",
            "gridcolor": "white",
            "gridwidth": 2,
            "linecolor": "white",
            "showbackground": true,
            "ticks": "",
            "zerolinecolor": "white"
           }
          },
          "shapedefaults": {
           "line": {
            "color": "#2a3f5f"
           }
          },
          "ternary": {
           "aaxis": {
            "gridcolor": "white",
            "linecolor": "white",
            "ticks": ""
           },
           "baxis": {
            "gridcolor": "white",
            "linecolor": "white",
            "ticks": ""
           },
           "bgcolor": "#E5ECF6",
           "caxis": {
            "gridcolor": "white",
            "linecolor": "white",
            "ticks": ""
           }
          },
          "title": {
           "x": 0.05
          },
          "xaxis": {
           "automargin": true,
           "gridcolor": "white",
           "linecolor": "white",
           "ticks": "",
           "title": {
            "standoff": 15
           },
           "zerolinecolor": "white",
           "zerolinewidth": 2
          },
          "yaxis": {
           "automargin": true,
           "gridcolor": "white",
           "linecolor": "white",
           "ticks": "",
           "title": {
            "standoff": 15
           },
           "zerolinecolor": "white",
           "zerolinewidth": 2
          }
         }
        },
        "title": {
         "text": "Clustered Scatter Plot"
        },
        "width": 1000,
        "xaxis": {
         "anchor": "y",
         "domain": [
          0,
          1
         ],
         "title": {
          "text": "x"
         }
        },
        "yaxis": {
         "anchor": "x",
         "domain": [
          0,
          1
         ],
         "title": {
          "text": "y"
         }
        }
       }
      },
      "text/html": [
       "<div>                            <div id=\"f8cca8f2-8749-479f-baf2-4f29b065d29c\" class=\"plotly-graph-div\" style=\"height:800px; width:1000px;\"></div>            <script type=\"text/javascript\">                require([\"plotly\"], function(Plotly) {                    window.PLOTLYENV=window.PLOTLYENV || {};                                    if (document.getElementById(\"f8cca8f2-8749-479f-baf2-4f29b065d29c\")) {                    Plotly.newPlot(                        \"f8cca8f2-8749-479f-baf2-4f29b065d29c\",                        [{\"hovertemplate\":\"color=skills_group_0<br>x=%{x}<br>y=%{y}<br>text=%{text}<extra></extra>\",\"legendgroup\":\"skills_group_0\",\"marker\":{\"color\":\"#636efa\",\"symbol\":\"circle\"},\"mode\":\"markers+text\",\"name\":\"skills_group_0\",\"orientation\":\"v\",\"showlegend\":true,\"text\":[\"APL\",\"COBOL\",\"Clojure\",\"Crystal\",\"F#\",\"Fortran\",\"Haskell\",\"Julia\",\"LISP\",\"OCaml\",\"Perl\",\"R\",\"SAS\",\"CouchDB\",\"Couchbase\",\"IBM DB2\",\"Colocation\",\"IBM Cloud or Watson\",\"OpenStack\",\"Tidyverse\",\"Flow\",\"Emacs\",\"RStudio\"],\"x\":[28.586397171020508,32.7144889831543,59.79940414428711,32.690185546875,41.142860412597656,36.43950271606445,47.24094009399414,39.34300994873047,54.819950103759766,44.70494079589844,45.32677459716797,56.23329544067383,53.96787643432617,14.962883949279785,13.176005363464355,30.23927879333496,22.06138801574707,27.324111938476562,21.424291610717773,59.44314956665039,25.801990509033203,57.07259750366211,57.969573974609375],\"xaxis\":\"x\",\"y\":[19.0800838470459,27.8571834564209,18.190425872802734,23.50967025756836,10.85588550567627,29.384431838989258,12.74046802520752,32.40449905395508,16.722553253173828,12.597784996032715,24.520732879638672,46.790836334228516,42.821876525878906,41.38884353637695,42.5407829284668,29.36178970336914,7.388076305389404,30.9156551361084,3.601862668991089,45.352073669433594,17.111339569091797,17.26130485534668,48.329185485839844],\"yaxis\":\"y\",\"type\":\"scatter\",\"textposition\":\"top center\"},{\"hovertemplate\":\"color=skills_group_6<br>x=%{x}<br>y=%{y}<br>text=%{text}<extra></extra>\",\"legendgroup\":\"skills_group_6\",\"marker\":{\"color\":\"#EF553B\",\"symbol\":\"circle\"},\"mode\":\"markers+text\",\"name\":\"skills_group_6\",\"orientation\":\"v\",\"showlegend\":true,\"text\":[\"Assembly\",\"Bash/Shell\",\"C\",\"C++\",\"Lua\",\"Rust\",\"GTK\",\"Qt\",\"CLion\",\"Nano\",\"Neovim\",\"Qt Creator\",\"Vim\"],\"x\":[84.3783950805664,56.82090377807617,87.49092102050781,89.7497787475586,71.51750183105469,66.73783874511719,80.27813720703125,83.5053939819336,93.27024841308594,53.48435974121094,68.49250793457031,85.54106140136719,58.76093292236328],\"xaxis\":\"x\",\"y\":[-7.259576797485352,-7.1170477867126465,-6.603626251220703,-6.675662994384766,-16.16669464111328,-18.924205780029297,4.041622638702393,5.142703056335449,-7.717385768890381,-5.816035747528076,-17.460186004638672,5.992388725280762,-8.347620010375977],\"yaxis\":\"y\",\"type\":\"scatter\",\"textposition\":\"top center\"},{\"hovertemplate\":\"color=skills_group_4<br>x=%{x}<br>y=%{y}<br>text=%{text}<extra></extra>\",\"legendgroup\":\"skills_group_4\",\"marker\":{\"color\":\"#00cc96\",\"symbol\":\"circle\"},\"mode\":\"markers+text\",\"name\":\"skills_group_4\",\"orientation\":\"v\",\"showlegend\":true,\"text\":[\"C#\",\"PowerShell\",\"SQL\",\"VBA\",\"Microsoft SQL Server\",\"Microsoft Azure\",\"VMware\",\"ASP.NET\",\"ASP.NET Core \",\"Blazor\",\".NET\",\"Uno Platform\",\"Xamarin\",\"Notepad++\",\"Rider\",\"Visual Studio\"],\"x\":[-45.55190658569336,-41.40862274169922,-63.21007537841797,-64.04411315917969,-60.61729049682617,-58.51374053955078,-34.81956481933594,-53.154747009277344,-53.06694793701172,-54.13058090209961,-47.9375114440918,-50.06218338012695,-47.892616271972656,-38.41096115112305,-46.98394012451172,-42.20405960083008],\"xaxis\":\"x\",\"y\":[105.9685287475586,103.11927032470703,101.88150024414062,107.8549575805664,105.97508239746094,110.36409759521484,111.37055206298828,108.07953643798828,105.25499725341797,101.58035278320312,106.14459228515625,93.90404510498047,110.27877807617188,110.73320007324219,101.0960464477539,108.8597183227539],\"yaxis\":\"y\",\"type\":\"scatter\",\"textposition\":\"top center\"},{\"hovertemplate\":\"color=skills_group_5<br>x=%{x}<br>y=%{y}<br>text=%{text}<extra></extra>\",\"legendgroup\":\"skills_group_5\",\"marker\":{\"color\":\"#ab63fa\",\"symbol\":\"circle\"},\"mode\":\"markers+text\",\"name\":\"skills_group_5\",\"orientation\":\"v\",\"showlegend\":true,\"text\":[\"Dart\",\"Kotlin\",\"Cloud Firestore\",\"Firebase Realtime Database\",\"SQLite\",\"Firebase\",\"Google Cloud\",\"Flutter\",\"Android Studio\"],\"x\":[-42.07310104370117,-41.65411376953125,-46.351905822753906,-42.219635009765625,-53.81938552856445,-43.787559509277344,-44.87547302246094,-42.45172119140625,-42.93892288208008],\"xaxis\":\"x\",\"y\":[-17.24542999267578,-7.079401016235352,-29.46427345275879,-27.694814682006836,-6.733370304107666,-29.692880630493164,-33.78306198120117,-15.126262664794922,-9.293187141418457],\"yaxis\":\"y\",\"type\":\"scatter\",\"textposition\":\"top center\"},{\"hovertemplate\":\"color=skills_group_8<br>x=%{x}<br>y=%{y}<br>text=%{text}<extra></extra>\",\"legendgroup\":\"skills_group_8\",\"marker\":{\"color\":\"#FFA15A\",\"symbol\":\"circle\"},\"mode\":\"markers+text\",\"name\":\"skills_group_8\",\"orientation\":\"v\",\"showlegend\":true,\"text\":[\"Delphi\",\"Unity 3D\",\"Unreal Engine\",\"RAD Studio (Delphi, C++ Builder)\"],\"x\":[3.0867061614990234,-26.681140899658203,-24.949005126953125,2.34965181350708],\"xaxis\":\"x\",\"y\":[85.40287780761719,92.47111511230469,91.16951751708984,83.42130279541016],\"yaxis\":\"y\",\"type\":\"scatter\",\"textposition\":\"top center\"},{\"hovertemplate\":\"color=skills_group_10<br>x=%{x}<br>y=%{y}<br>text=%{text}<extra></extra>\",\"legendgroup\":\"skills_group_10\",\"marker\":{\"color\":\"#19d3f3\",\"symbol\":\"circle\"},\"mode\":\"markers+text\",\"name\":\"skills_group_10\",\"orientation\":\"v\",\"showlegend\":true,\"text\":[\"Elixir\",\"Erlang\",\"Phoenix\"],\"x\":[62.4478759765625,65.62393188476562,61.58067321777344],\"xaxis\":\"x\",\"y\":[-54.22056579589844,-53.753604888916016,-56.183074951171875],\"yaxis\":\"y\",\"type\":\"scatter\",\"textposition\":\"top center\"},{\"hovertemplate\":\"color=skills_group_2<br>x=%{x}<br>y=%{y}<br>text=%{text}<extra></extra>\",\"legendgroup\":\"skills_group_2\",\"marker\":{\"color\":\"#FF6692\",\"symbol\":\"circle\"},\"mode\":\"markers+text\",\"name\":\"skills_group_2\",\"orientation\":\"v\",\"showlegend\":true,\"text\":[\"Go\",\"Scala\",\"Cassandra\",\"DynamoDB\",\"Elasticsearch\",\"Neo4j\",\"PostgreSQL\",\"Redis\",\"AWS\",\"DigitalOcean\",\"Linode\",\"Play Framework\",\"Apache Kafka\",\"Apache Spark\",\"Hadoop\",\"Ansible\",\"Chef\",\"Docker\",\"Kubernetes\",\"Pulumi\",\"Puppet\",\"Terraform\",\"GoLand\"],\"x\":[32.05923843383789,23.06233787536621,16.62232208251953,12.718174934387207,11.423802375793457,13.1107177734375,12.014753341674805,10.127586364746094,12.847721099853516,5.402435302734375,2.222952127456665,22.655231475830078,19.86073112487793,23.737030029296875,25.554550170898438,23.90782356262207,33.404911041259766,14.888371467590332,17.508005142211914,23.418302536010742,35.59126663208008,21.541492462158203,32.728572845458984],\"xaxis\":\"x\",\"y\":[-65.80471801757812,-17.56797981262207,-28.61931800842285,-57.5457763671875,-39.19423294067383,-33.478572845458984,-47.64365768432617,-42.32685089111328,-55.232948303222656,-43.301963806152344,-43.907745361328125,-14.70676040649414,-27.849130630493164,-21.72603416442871,-23.00320816040039,-43.92837142944336,-42.801326751708984,-45.90560531616211,-45.600440979003906,-50.26698684692383,-42.6492805480957,-46.87791442871094,-67.822509765625],\"yaxis\":\"y\",\"type\":\"scatter\",\"textposition\":\"top center\"},{\"hovertemplate\":\"color=skills_group_7<br>x=%{x}<br>y=%{y}<br>text=%{text}<extra></extra>\",\"legendgroup\":\"skills_group_7\",\"marker\":{\"color\":\"#B6E880\",\"symbol\":\"circle\"},\"mode\":\"markers+text\",\"name\":\"skills_group_7\",\"orientation\":\"v\",\"showlegend\":true,\"text\":[\"Groovy\",\"Java\",\"Oracle\",\"Oracle Cloud Infrastructure\",\"Spring\",\"Atom\",\"Eclipse\",\"IntelliJ\",\"NetBeans\",\"Sublime Text\"],\"x\":[-29.5918025970459,-22.993083953857422,-16.78773307800293,-13.219330787658691,-26.313417434692383,-10.456511497497559,-21.9036808013916,-22.951589584350586,-22.820690155029297,-8.988651275634766],\"xaxis\":\"x\",\"y\":[16.53583335876465,19.667085647583008,22.495853424072266,23.65100860595703,18.220773696899414,12.001450538635254,23.998685836791992,17.258052825927734,26.883331298828125,10.188177108764648],\"yaxis\":\"y\",\"type\":\"scatter\",\"textposition\":\"top center\"},{\"hovertemplate\":\"color=skills_group_1<br>x=%{x}<br>y=%{y}<br>text=%{text}<extra></extra>\",\"legendgroup\":\"skills_group_1\",\"marker\":{\"color\":\"#FF97FF\",\"symbol\":\"circle\"},\"mode\":\"markers+text\",\"name\":\"skills_group_1\",\"orientation\":\"v\",\"showlegend\":true,\"text\":[\"HTML/CSS\",\"JavaScript\",\"Solidity\",\"TypeScript\",\"MongoDB\",\"Heroku\",\"Angular\",\"Angular.js\",\"Deno\",\"Express\",\"Fastify\",\"Gatsby\",\"Next.js\",\"Node.js\",\"Nuxt.js\",\"React.js\",\"Svelte\",\"Vue.js\",\"Electron\",\"React Native\",\"Yarn\",\"npm\",\"Visual Studio Code\"],\"x\":[-80.00420379638672,-80.51782989501953,-89.49779510498047,-86.68988800048828,-74.93582153320312,-69.6656265258789,-90.70975494384766,-93.10560607910156,-61.618167877197266,-73.6682357788086,-70.44488525390625,-92.41697692871094,-88.90557098388672,-75.7160873413086,-52.91819381713867,-85.70325469970703,-61.812110900878906,-53.24473571777344,-72.76718139648438,-83.116455078125,-85.9718246459961,-82.639892578125,-79.89781951904297],\"xaxis\":\"x\",\"y\":[-45.91023254394531,-48.17117691040039,-72.651611328125,-53.6199951171875,-65.33312225341797,-62.750640869140625,-50.975948333740234,-49.30770492553711,-82.55143737792969,-62.2127799987793,-69.4513168334961,-66.62281799316406,-67.70587158203125,-60.23199462890625,-58.4578742980957,-64.36137390136719,-84.76050567626953,-56.354522705078125,-57.11923599243164,-66.73713684082031,-60.264923095703125,-55.872894287109375,-53.26548767089844],\"yaxis\":\"y\",\"type\":\"scatter\",\"textposition\":\"top center\"},{\"hovertemplate\":\"color=skills_group_3<br>x=%{x}<br>y=%{y}<br>text=%{text}<extra></extra>\",\"legendgroup\":\"skills_group_3\",\"marker\":{\"color\":\"#FECB52\",\"symbol\":\"circle\"},\"mode\":\"markers+text\",\"name\":\"skills_group_3\",\"orientation\":\"v\",\"showlegend\":true,\"text\":[\"MATLAB\",\"Python\",\"Django\",\"FastAPI\",\"Flask\",\"Hugging Face Transformers\",\"Keras\",\"NumPy\",\"Pandas\",\"Scikit-learn\",\"TensorFlow\",\"Torch/PyTorch\",\"IPython/Jupyter\",\"PyCharm\",\"Spyder\"],\"x\":[106.27397918701172,110.74819946289062,114.1604995727539,111.04961395263672,111.2257080078125,113.9605941772461,118.27413940429688,111.92236328125,114.09750366210938,113.97706604003906,116.96475219726562,115.21653747558594,118.0018081665039,107.45610809326172,121.55853271484375],\"xaxis\":\"x\",\"y\":[0.08821575343608856,-9.13119888305664,-11.44327449798584,-17.31197166442871,-13.833066940307617,17.246870040893555,9.231489181518555,-1.4088759422302246,-0.9954506158828735,2.974501609802246,11.175077438354492,14.076578140258789,-1.9994502067565918,-8.34756851196289,-2.1419942378997803],\"yaxis\":\"y\",\"type\":\"scatter\",\"textposition\":\"top center\"},{\"hovertemplate\":\"color=skills_group_12<br>x=%{x}<br>y=%{y}<br>text=%{text}<extra></extra>\",\"legendgroup\":\"skills_group_12\",\"marker\":{\"color\":\"#636efa\",\"symbol\":\"circle\"},\"mode\":\"markers+text\",\"name\":\"skills_group_12\",\"orientation\":\"v\",\"showlegend\":true,\"text\":[\"Objective-C\",\"Ruby\",\"Swift\",\"Ruby on Rails\",\"Homebrew\",\"RubyMine\",\"TextMate\",\"Xcode\"],\"x\":[-18.965782165527344,-5.313509941101074,-20.81816291809082,-6.379287242889404,-19.11511993408203,-9.273982048034668,-13.039593696594238,-20.3248233795166],\"xaxis\":\"x\",\"y\":[-28.456111907958984,-19.8446102142334,-30.957977294921875,-17.99435043334961,-37.09394073486328,-20.74016571044922,-23.014999389648438,-33.217796325683594],\"yaxis\":\"y\",\"type\":\"scatter\",\"textposition\":\"top center\"},{\"hovertemplate\":\"color=skills_group_9<br>x=%{x}<br>y=%{y}<br>text=%{text}<extra></extra>\",\"legendgroup\":\"skills_group_9\",\"marker\":{\"color\":\"#EF553B\",\"symbol\":\"circle\"},\"mode\":\"markers+text\",\"name\":\"skills_group_9\",\"orientation\":\"v\",\"showlegend\":true,\"text\":[\"PHP\",\"MariaDB\",\"MySQL\",\"Managed Hosting\",\"OVH\",\"Drupal\",\"Laravel\",\"Symfony\",\"jQuery\",\"PhpStorm\",\"Webstorm\"],\"x\":[-71.52249908447266,-72.37509155273438,-67.77088165283203,-69.83134460449219,-84.33109283447266,-80.31582641601562,-72.67923736572266,-80.42698669433594,-67.2142333984375,-76.7621078491211,-77.94564819335938],\"xaxis\":\"x\",\"y\":[-4.474974632263184,-8.047282218933105,-5.412024974822998,-11.670036315917969,-3.8476176261901855,-8.615192413330078,-2.312504768371582,-4.627124786376953,0.08395574986934662,-1.943204641342163,2.0832865238189697],\"yaxis\":\"y\",\"type\":\"scatter\",\"textposition\":\"top center\"},{\"hovertemplate\":\"color=skills_group_11<br>x=%{x}<br>y=%{y}<br>text=%{text}<extra></extra>\",\"legendgroup\":\"skills_group_11\",\"marker\":{\"color\":\"#00cc96\",\"symbol\":\"circle\"},\"mode\":\"markers+text\",\"name\":\"skills_group_11\",\"orientation\":\"v\",\"showlegend\":true,\"text\":[\"Capacitor\",\"Cordova\",\"Ionic\"],\"x\":[-103.329345703125,-102.28355407714844,-101.33345031738281],\"xaxis\":\"x\",\"y\":[33.83605194091797,29.930898666381836,32.346527099609375],\"yaxis\":\"y\",\"type\":\"scatter\",\"textposition\":\"top center\"}],                        {\"template\":{\"data\":{\"histogram2dcontour\":[{\"type\":\"histogram2dcontour\",\"colorbar\":{\"outlinewidth\":0,\"ticks\":\"\"},\"colorscale\":[[0.0,\"#0d0887\"],[0.1111111111111111,\"#46039f\"],[0.2222222222222222,\"#7201a8\"],[0.3333333333333333,\"#9c179e\"],[0.4444444444444444,\"#bd3786\"],[0.5555555555555556,\"#d8576b\"],[0.6666666666666666,\"#ed7953\"],[0.7777777777777778,\"#fb9f3a\"],[0.8888888888888888,\"#fdca26\"],[1.0,\"#f0f921\"]]}],\"choropleth\":[{\"type\":\"choropleth\",\"colorbar\":{\"outlinewidth\":0,\"ticks\":\"\"}}],\"histogram2d\":[{\"type\":\"histogram2d\",\"colorbar\":{\"outlinewidth\":0,\"ticks\":\"\"},\"colorscale\":[[0.0,\"#0d0887\"],[0.1111111111111111,\"#46039f\"],[0.2222222222222222,\"#7201a8\"],[0.3333333333333333,\"#9c179e\"],[0.4444444444444444,\"#bd3786\"],[0.5555555555555556,\"#d8576b\"],[0.6666666666666666,\"#ed7953\"],[0.7777777777777778,\"#fb9f3a\"],[0.8888888888888888,\"#fdca26\"],[1.0,\"#f0f921\"]]}],\"heatmap\":[{\"type\":\"heatmap\",\"colorbar\":{\"outlinewidth\":0,\"ticks\":\"\"},\"colorscale\":[[0.0,\"#0d0887\"],[0.1111111111111111,\"#46039f\"],[0.2222222222222222,\"#7201a8\"],[0.3333333333333333,\"#9c179e\"],[0.4444444444444444,\"#bd3786\"],[0.5555555555555556,\"#d8576b\"],[0.6666666666666666,\"#ed7953\"],[0.7777777777777778,\"#fb9f3a\"],[0.8888888888888888,\"#fdca26\"],[1.0,\"#f0f921\"]]}],\"heatmapgl\":[{\"type\":\"heatmapgl\",\"colorbar\":{\"outlinewidth\":0,\"ticks\":\"\"},\"colorscale\":[[0.0,\"#0d0887\"],[0.1111111111111111,\"#46039f\"],[0.2222222222222222,\"#7201a8\"],[0.3333333333333333,\"#9c179e\"],[0.4444444444444444,\"#bd3786\"],[0.5555555555555556,\"#d8576b\"],[0.6666666666666666,\"#ed7953\"],[0.7777777777777778,\"#fb9f3a\"],[0.8888888888888888,\"#fdca26\"],[1.0,\"#f0f921\"]]}],\"contourcarpet\":[{\"type\":\"contourcarpet\",\"colorbar\":{\"outlinewidth\":0,\"ticks\":\"\"}}],\"contour\":[{\"type\":\"contour\",\"colorbar\":{\"outlinewidth\":0,\"ticks\":\"\"},\"colorscale\":[[0.0,\"#0d0887\"],[0.1111111111111111,\"#46039f\"],[0.2222222222222222,\"#7201a8\"],[0.3333333333333333,\"#9c179e\"],[0.4444444444444444,\"#bd3786\"],[0.5555555555555556,\"#d8576b\"],[0.6666666666666666,\"#ed7953\"],[0.7777777777777778,\"#fb9f3a\"],[0.8888888888888888,\"#fdca26\"],[1.0,\"#f0f921\"]]}],\"surface\":[{\"type\":\"surface\",\"colorbar\":{\"outlinewidth\":0,\"ticks\":\"\"},\"colorscale\":[[0.0,\"#0d0887\"],[0.1111111111111111,\"#46039f\"],[0.2222222222222222,\"#7201a8\"],[0.3333333333333333,\"#9c179e\"],[0.4444444444444444,\"#bd3786\"],[0.5555555555555556,\"#d8576b\"],[0.6666666666666666,\"#ed7953\"],[0.7777777777777778,\"#fb9f3a\"],[0.8888888888888888,\"#fdca26\"],[1.0,\"#f0f921\"]]}],\"mesh3d\":[{\"type\":\"mesh3d\",\"colorbar\":{\"outlinewidth\":0,\"ticks\":\"\"}}],\"scatter\":[{\"fillpattern\":{\"fillmode\":\"overlay\",\"size\":10,\"solidity\":0.2},\"type\":\"scatter\"}],\"parcoords\":[{\"type\":\"parcoords\",\"line\":{\"colorbar\":{\"outlinewidth\":0,\"ticks\":\"\"}}}],\"scatterpolargl\":[{\"type\":\"scatterpolargl\",\"marker\":{\"colorbar\":{\"outlinewidth\":0,\"ticks\":\"\"}}}],\"bar\":[{\"error_x\":{\"color\":\"#2a3f5f\"},\"error_y\":{\"color\":\"#2a3f5f\"},\"marker\":{\"line\":{\"color\":\"#E5ECF6\",\"width\":0.5},\"pattern\":{\"fillmode\":\"overlay\",\"size\":10,\"solidity\":0.2}},\"type\":\"bar\"}],\"scattergeo\":[{\"type\":\"scattergeo\",\"marker\":{\"colorbar\":{\"outlinewidth\":0,\"ticks\":\"\"}}}],\"scatterpolar\":[{\"type\":\"scatterpolar\",\"marker\":{\"colorbar\":{\"outlinewidth\":0,\"ticks\":\"\"}}}],\"histogram\":[{\"marker\":{\"pattern\":{\"fillmode\":\"overlay\",\"size\":10,\"solidity\":0.2}},\"type\":\"histogram\"}],\"scattergl\":[{\"type\":\"scattergl\",\"marker\":{\"colorbar\":{\"outlinewidth\":0,\"ticks\":\"\"}}}],\"scatter3d\":[{\"type\":\"scatter3d\",\"line\":{\"colorbar\":{\"outlinewidth\":0,\"ticks\":\"\"}},\"marker\":{\"colorbar\":{\"outlinewidth\":0,\"ticks\":\"\"}}}],\"scattermapbox\":[{\"type\":\"scattermapbox\",\"marker\":{\"colorbar\":{\"outlinewidth\":0,\"ticks\":\"\"}}}],\"scatterternary\":[{\"type\":\"scatterternary\",\"marker\":{\"colorbar\":{\"outlinewidth\":0,\"ticks\":\"\"}}}],\"scattercarpet\":[{\"type\":\"scattercarpet\",\"marker\":{\"colorbar\":{\"outlinewidth\":0,\"ticks\":\"\"}}}],\"carpet\":[{\"aaxis\":{\"endlinecolor\":\"#2a3f5f\",\"gridcolor\":\"white\",\"linecolor\":\"white\",\"minorgridcolor\":\"white\",\"startlinecolor\":\"#2a3f5f\"},\"baxis\":{\"endlinecolor\":\"#2a3f5f\",\"gridcolor\":\"white\",\"linecolor\":\"white\",\"minorgridcolor\":\"white\",\"startlinecolor\":\"#2a3f5f\"},\"type\":\"carpet\"}],\"table\":[{\"cells\":{\"fill\":{\"color\":\"#EBF0F8\"},\"line\":{\"color\":\"white\"}},\"header\":{\"fill\":{\"color\":\"#C8D4E3\"},\"line\":{\"color\":\"white\"}},\"type\":\"table\"}],\"barpolar\":[{\"marker\":{\"line\":{\"color\":\"#E5ECF6\",\"width\":0.5},\"pattern\":{\"fillmode\":\"overlay\",\"size\":10,\"solidity\":0.2}},\"type\":\"barpolar\"}],\"pie\":[{\"automargin\":true,\"type\":\"pie\"}]},\"layout\":{\"autotypenumbers\":\"strict\",\"colorway\":[\"#636efa\",\"#EF553B\",\"#00cc96\",\"#ab63fa\",\"#FFA15A\",\"#19d3f3\",\"#FF6692\",\"#B6E880\",\"#FF97FF\",\"#FECB52\"],\"font\":{\"color\":\"#2a3f5f\"},\"hovermode\":\"closest\",\"hoverlabel\":{\"align\":\"left\"},\"paper_bgcolor\":\"white\",\"plot_bgcolor\":\"#E5ECF6\",\"polar\":{\"bgcolor\":\"#E5ECF6\",\"angularaxis\":{\"gridcolor\":\"white\",\"linecolor\":\"white\",\"ticks\":\"\"},\"radialaxis\":{\"gridcolor\":\"white\",\"linecolor\":\"white\",\"ticks\":\"\"}},\"ternary\":{\"bgcolor\":\"#E5ECF6\",\"aaxis\":{\"gridcolor\":\"white\",\"linecolor\":\"white\",\"ticks\":\"\"},\"baxis\":{\"gridcolor\":\"white\",\"linecolor\":\"white\",\"ticks\":\"\"},\"caxis\":{\"gridcolor\":\"white\",\"linecolor\":\"white\",\"ticks\":\"\"}},\"coloraxis\":{\"colorbar\":{\"outlinewidth\":0,\"ticks\":\"\"}},\"colorscale\":{\"sequential\":[[0.0,\"#0d0887\"],[0.1111111111111111,\"#46039f\"],[0.2222222222222222,\"#7201a8\"],[0.3333333333333333,\"#9c179e\"],[0.4444444444444444,\"#bd3786\"],[0.5555555555555556,\"#d8576b\"],[0.6666666666666666,\"#ed7953\"],[0.7777777777777778,\"#fb9f3a\"],[0.8888888888888888,\"#fdca26\"],[1.0,\"#f0f921\"]],\"sequentialminus\":[[0.0,\"#0d0887\"],[0.1111111111111111,\"#46039f\"],[0.2222222222222222,\"#7201a8\"],[0.3333333333333333,\"#9c179e\"],[0.4444444444444444,\"#bd3786\"],[0.5555555555555556,\"#d8576b\"],[0.6666666666666666,\"#ed7953\"],[0.7777777777777778,\"#fb9f3a\"],[0.8888888888888888,\"#fdca26\"],[1.0,\"#f0f921\"]],\"diverging\":[[0,\"#8e0152\"],[0.1,\"#c51b7d\"],[0.2,\"#de77ae\"],[0.3,\"#f1b6da\"],[0.4,\"#fde0ef\"],[0.5,\"#f7f7f7\"],[0.6,\"#e6f5d0\"],[0.7,\"#b8e186\"],[0.8,\"#7fbc41\"],[0.9,\"#4d9221\"],[1,\"#276419\"]]},\"xaxis\":{\"gridcolor\":\"white\",\"linecolor\":\"white\",\"ticks\":\"\",\"title\":{\"standoff\":15},\"zerolinecolor\":\"white\",\"automargin\":true,\"zerolinewidth\":2},\"yaxis\":{\"gridcolor\":\"white\",\"linecolor\":\"white\",\"ticks\":\"\",\"title\":{\"standoff\":15},\"zerolinecolor\":\"white\",\"automargin\":true,\"zerolinewidth\":2},\"scene\":{\"xaxis\":{\"backgroundcolor\":\"#E5ECF6\",\"gridcolor\":\"white\",\"linecolor\":\"white\",\"showbackground\":true,\"ticks\":\"\",\"zerolinecolor\":\"white\",\"gridwidth\":2},\"yaxis\":{\"backgroundcolor\":\"#E5ECF6\",\"gridcolor\":\"white\",\"linecolor\":\"white\",\"showbackground\":true,\"ticks\":\"\",\"zerolinecolor\":\"white\",\"gridwidth\":2},\"zaxis\":{\"backgroundcolor\":\"#E5ECF6\",\"gridcolor\":\"white\",\"linecolor\":\"white\",\"showbackground\":true,\"ticks\":\"\",\"zerolinecolor\":\"white\",\"gridwidth\":2}},\"shapedefaults\":{\"line\":{\"color\":\"#2a3f5f\"}},\"annotationdefaults\":{\"arrowcolor\":\"#2a3f5f\",\"arrowhead\":0,\"arrowwidth\":1},\"geo\":{\"bgcolor\":\"white\",\"landcolor\":\"#E5ECF6\",\"subunitcolor\":\"white\",\"showland\":true,\"showlakes\":true,\"lakecolor\":\"white\"},\"title\":{\"x\":0.05},\"mapbox\":{\"style\":\"light\"}}},\"xaxis\":{\"anchor\":\"y\",\"domain\":[0.0,1.0],\"title\":{\"text\":\"x\"}},\"yaxis\":{\"anchor\":\"x\",\"domain\":[0.0,1.0],\"title\":{\"text\":\"y\"}},\"legend\":{\"title\":{\"text\":\"color\"},\"tracegroupgap\":0},\"margin\":{\"t\":60},\"title\":{\"text\":\"Clustered Scatter Plot\"},\"width\":1000,\"height\":800},                        {\"responsive\": true}                    ).then(function(){\n",
       "                            \n",
       "var gd = document.getElementById('f8cca8f2-8749-479f-baf2-4f29b065d29c');\n",
       "var x = new MutationObserver(function (mutations, observer) {{\n",
       "        var display = window.getComputedStyle(gd).display;\n",
       "        if (!display || display === 'none') {{\n",
       "            console.log([gd, 'removed!']);\n",
       "            Plotly.purge(gd);\n",
       "            observer.disconnect();\n",
       "        }}\n",
       "}});\n",
       "\n",
       "// Listen for the removal of the full notebook cells\n",
       "var notebookContainer = gd.closest('#notebook-container');\n",
       "if (notebookContainer) {{\n",
       "    x.observe(notebookContainer, {childList: true});\n",
       "}}\n",
       "\n",
       "// Listen for the clearing of the current output cell\n",
       "var outputEl = gd.closest('.output');\n",
       "if (outputEl) {{\n",
       "    x.observe(outputEl, {childList: true});\n",
       "}}\n",
       "\n",
       "                        })                };                });            </script>        </div>"
      ]
     },
     "metadata": {},
     "output_type": "display_data"
    }
   ],
   "source": [
    "# Creating a scatter plot of tsne_projections categorized by the clustering labels\n",
    "fig = px.scatter(x=tsne_projection[0], y=tsne_projection[1],\n",
    "                text=tsne_projection.index.droplevel(), color=cluster_labels)\n",
    "fig.update_traces(textposition='top center')\n",
    "fig.update_layout(width=1000, height=800, title_text='Clustered Scatter Plot')\n",
    "fig.show()\n",
    "fig.write_html(os.path.join('../reports/figures', \n",
    "                            'cluserting_scatterplot.html'))"
   ]
  },
  {
   "cell_type": "markdown",
   "id": "711cfcfc",
   "metadata": {},
   "source": [
    "### Create New Features"
   ]
  },
  {
   "cell_type": "code",
   "execution_count": 82,
   "id": "04ff52c7",
   "metadata": {},
   "outputs": [
    {
     "name": "stdout",
     "output_type": "stream",
     "text": [
      "skills_group_0\n",
      "['APL', 'COBOL', 'Clojure', 'Crystal', 'F#', 'Fortran', 'Haskell', 'Julia', 'LISP', 'OCaml', 'Perl', 'R', 'SAS', 'CouchDB', 'Couchbase', 'IBM DB2', 'Colocation', 'IBM Cloud or Watson', 'OpenStack', 'Tidyverse', 'Flow', 'Emacs', 'RStudio']\n",
      "----------------------------------------------------------------------------------------------------\n",
      "skills_group_1\n",
      "['HTML/CSS', 'JavaScript', 'Solidity', 'TypeScript', 'MongoDB', 'Heroku', 'Angular', 'Angular.js', 'Deno', 'Express', 'Fastify', 'Gatsby', 'Next.js', 'Node.js', 'Nuxt.js', 'React.js', 'Svelte', 'Vue.js', 'Electron', 'React Native', 'Yarn', 'npm', 'Visual Studio Code']\n",
      "----------------------------------------------------------------------------------------------------\n",
      "skills_group_10\n",
      "['Elixir', 'Erlang', 'Phoenix']\n",
      "----------------------------------------------------------------------------------------------------\n",
      "skills_group_11\n",
      "['Capacitor', 'Cordova', 'Ionic']\n",
      "----------------------------------------------------------------------------------------------------\n",
      "skills_group_12\n",
      "['Objective-C', 'Ruby', 'Swift', 'Ruby on Rails', 'Homebrew', 'RubyMine', 'TextMate', 'Xcode']\n",
      "----------------------------------------------------------------------------------------------------\n",
      "skills_group_2\n",
      "['Go', 'Scala', 'Cassandra', 'DynamoDB', 'Elasticsearch', 'Neo4j', 'PostgreSQL', 'Redis', 'AWS', 'DigitalOcean', 'Linode', 'Play Framework', 'Apache Kafka', 'Apache Spark', 'Hadoop', 'Ansible', 'Chef', 'Docker', 'Kubernetes', 'Pulumi', 'Puppet', 'Terraform', 'GoLand']\n",
      "----------------------------------------------------------------------------------------------------\n",
      "skills_group_3\n",
      "['MATLAB', 'Python', 'Django', 'FastAPI', 'Flask', 'Hugging Face Transformers', 'Keras', 'NumPy', 'Pandas', 'Scikit-learn', 'TensorFlow', 'Torch/PyTorch', 'IPython/Jupyter', 'PyCharm', 'Spyder']\n",
      "----------------------------------------------------------------------------------------------------\n",
      "skills_group_4\n",
      "['C#', 'PowerShell', 'SQL', 'VBA', 'Microsoft SQL Server', 'Microsoft Azure', 'VMware', 'ASP.NET', 'ASP.NET Core ', 'Blazor', '.NET', 'Uno Platform', 'Xamarin', 'Notepad++', 'Rider', 'Visual Studio']\n",
      "----------------------------------------------------------------------------------------------------\n",
      "skills_group_5\n",
      "['Dart', 'Kotlin', 'Cloud Firestore', 'Firebase Realtime Database', 'SQLite', 'Firebase', 'Google Cloud', 'Flutter', 'Android Studio']\n",
      "----------------------------------------------------------------------------------------------------\n",
      "skills_group_6\n",
      "['Assembly', 'Bash/Shell', 'C', 'C++', 'Lua', 'Rust', 'GTK', 'Qt', 'CLion', 'Nano', 'Neovim', 'Qt Creator', 'Vim']\n",
      "----------------------------------------------------------------------------------------------------\n"
     ]
    }
   ],
   "source": [
    "# Creating a skills_clusters variable\n",
    "skills_clusters = tsne_projection.index.droplevel(level=0).to_series().groupby(cluster_labels).apply(list)\n",
    "\n",
    "# Displaying 10 observations of the skills_clusters\n",
    "for cluster, label in skills_clusters[:10].items():\n",
    "    print(cluster)\n",
    "    print(label)\n",
    "    print('-'*100)"
   ]
  },
  {
   "cell_type": "code",
   "execution_count": 83,
   "id": "7b7a1166",
   "metadata": {},
   "outputs": [],
   "source": [
    "# Creating new features\n",
    "new_features = []\n",
    "\n",
    "for cluster, skills in skills_clusters.items():\n",
    "    cluster_sum = skills_ohe.droplevel(level=0, axis=1)[skills].sum(axis=1)\n",
    "    cluster_sum.name = cluster\n",
    "    new_features.append(cluster_sum)\n",
    "    \n",
    "fe_clustered_skills = pd.concat(new_features, axis=1)"
   ]
  },
  {
   "cell_type": "code",
   "execution_count": 84,
   "id": "9cec8e2a",
   "metadata": {},
   "outputs": [
    {
     "data": {
      "text/html": [
       "<div>\n",
       "<style scoped>\n",
       "    .dataframe tbody tr th:only-of-type {\n",
       "        vertical-align: middle;\n",
       "    }\n",
       "\n",
       "    .dataframe tbody tr th {\n",
       "        vertical-align: top;\n",
       "    }\n",
       "\n",
       "    .dataframe thead th {\n",
       "        text-align: right;\n",
       "    }\n",
       "</style>\n",
       "<table border=\"1\" class=\"dataframe\">\n",
       "  <thead>\n",
       "    <tr style=\"text-align: right;\">\n",
       "      <th></th>\n",
       "      <th>skills_group_0</th>\n",
       "      <th>skills_group_1</th>\n",
       "      <th>skills_group_10</th>\n",
       "      <th>skills_group_11</th>\n",
       "      <th>skills_group_12</th>\n",
       "      <th>skills_group_2</th>\n",
       "      <th>skills_group_3</th>\n",
       "      <th>skills_group_4</th>\n",
       "      <th>skills_group_5</th>\n",
       "      <th>skills_group_6</th>\n",
       "      <th>skills_group_7</th>\n",
       "      <th>skills_group_8</th>\n",
       "      <th>skills_group_9</th>\n",
       "    </tr>\n",
       "  </thead>\n",
       "  <tbody>\n",
       "    <tr>\n",
       "      <th>0</th>\n",
       "      <td>0</td>\n",
       "      <td>0</td>\n",
       "      <td>0</td>\n",
       "      <td>0</td>\n",
       "      <td>0</td>\n",
       "      <td>0</td>\n",
       "      <td>0</td>\n",
       "      <td>0</td>\n",
       "      <td>0</td>\n",
       "      <td>0</td>\n",
       "      <td>0</td>\n",
       "      <td>0</td>\n",
       "      <td>0</td>\n",
       "    </tr>\n",
       "    <tr>\n",
       "      <th>1</th>\n",
       "      <td>0</td>\n",
       "      <td>2</td>\n",
       "      <td>0</td>\n",
       "      <td>0</td>\n",
       "      <td>0</td>\n",
       "      <td>0</td>\n",
       "      <td>0</td>\n",
       "      <td>0</td>\n",
       "      <td>0</td>\n",
       "      <td>0</td>\n",
       "      <td>0</td>\n",
       "      <td>0</td>\n",
       "      <td>0</td>\n",
       "    </tr>\n",
       "    <tr>\n",
       "      <th>2</th>\n",
       "      <td>0</td>\n",
       "      <td>3</td>\n",
       "      <td>0</td>\n",
       "      <td>0</td>\n",
       "      <td>0</td>\n",
       "      <td>0</td>\n",
       "      <td>2</td>\n",
       "      <td>4</td>\n",
       "      <td>0</td>\n",
       "      <td>1</td>\n",
       "      <td>0</td>\n",
       "      <td>0</td>\n",
       "      <td>0</td>\n",
       "    </tr>\n",
       "    <tr>\n",
       "      <th>3</th>\n",
       "      <td>0</td>\n",
       "      <td>3</td>\n",
       "      <td>0</td>\n",
       "      <td>0</td>\n",
       "      <td>0</td>\n",
       "      <td>0</td>\n",
       "      <td>0</td>\n",
       "      <td>8</td>\n",
       "      <td>0</td>\n",
       "      <td>0</td>\n",
       "      <td>0</td>\n",
       "      <td>0</td>\n",
       "      <td>0</td>\n",
       "    </tr>\n",
       "    <tr>\n",
       "      <th>4</th>\n",
       "      <td>0</td>\n",
       "      <td>7</td>\n",
       "      <td>0</td>\n",
       "      <td>0</td>\n",
       "      <td>2</td>\n",
       "      <td>1</td>\n",
       "      <td>0</td>\n",
       "      <td>9</td>\n",
       "      <td>3</td>\n",
       "      <td>0</td>\n",
       "      <td>0</td>\n",
       "      <td>0</td>\n",
       "      <td>1</td>\n",
       "    </tr>\n",
       "  </tbody>\n",
       "</table>\n",
       "</div>"
      ],
      "text/plain": [
       "   skills_group_0  skills_group_1  skills_group_10  skills_group_11  \\\n",
       "0               0               0                0                0   \n",
       "1               0               2                0                0   \n",
       "2               0               3                0                0   \n",
       "3               0               3                0                0   \n",
       "4               0               7                0                0   \n",
       "\n",
       "   skills_group_12  skills_group_2  skills_group_3  skills_group_4  \\\n",
       "0                0               0               0               0   \n",
       "1                0               0               0               0   \n",
       "2                0               0               2               4   \n",
       "3                0               0               0               8   \n",
       "4                2               1               0               9   \n",
       "\n",
       "   skills_group_5  skills_group_6  skills_group_7  skills_group_8  \\\n",
       "0               0               0               0               0   \n",
       "1               0               0               0               0   \n",
       "2               0               1               0               0   \n",
       "3               0               0               0               0   \n",
       "4               3               0               0               0   \n",
       "\n",
       "   skills_group_9  \n",
       "0               0  \n",
       "1               0  \n",
       "2               0  \n",
       "3               0  \n",
       "4               1  "
      ]
     },
     "execution_count": 84,
     "metadata": {},
     "output_type": "execute_result"
    }
   ],
   "source": [
    "# Displaying first 5 observations from the clustered DataFrame\n",
    "fe_clustered_skills.head()"
   ]
  },
  {
   "cell_type": "markdown",
   "id": "40b975b1",
   "metadata": {},
   "source": [
    "## Illustration Model"
   ]
  },
  {
   "cell_type": "markdown",
   "id": "7ca8285d",
   "metadata": {},
   "source": [
    "### Train/Test Split"
   ]
  },
  {
   "cell_type": "code",
   "execution_count": 85,
   "id": "b8df89f9",
   "metadata": {},
   "outputs": [],
   "source": [
    "# Concatenating the clustered skills with the standardized skills DataFrame\n",
    "combined_features_df = pd.concat([fe_clustered_skills, \n",
    "                                  skills_ohe.droplevel(level=0, axis=1)], \n",
    "                                axis=1)\n",
    "\n",
    "# Creating roles_df from one-hot encoded dataframe\n",
    "roles_df = ohe_df['DevType'].copy()"
   ]
  },
  {
   "cell_type": "code",
   "execution_count": 86,
   "id": "6993e1b8",
   "metadata": {},
   "outputs": [
    {
     "name": "stdout",
     "output_type": "stream",
     "text": [
      "X_train shape is (51287, 174)\n",
      "--------------------------------------------------\n",
      "X_test shape is (21981, 174)\n",
      "--------------------------------------------------\n",
      "y_train shape is (51287, 29)\n",
      "--------------------------------------------------\n",
      "y_test shape is (21981, 29)\n"
     ]
    }
   ],
   "source": [
    "# importing train_test_split from sklearn\n",
    "from sklearn.model_selection import train_test_split\n",
    "\n",
    "# Applying train/test split to combined_features_df\n",
    "X_train, X_test, y_train, y_test = train_test_split(combined_features_df, roles_df, test_size=0.3, random_state=0)\n",
    "\n",
    "# Checking the shapes of train/test datasets\n",
    "print(\"X_train shape is\", X_train.shape)\n",
    "print('-'*50)\n",
    "print(\"X_test shape is\", X_test.shape)\n",
    "print('-'*50)\n",
    "print(\"y_train shape is\", y_train.shape)\n",
    "print('-'*50)\n",
    "print(\"y_test shape is\", y_test.shape)"
   ]
  },
  {
   "cell_type": "markdown",
   "id": "5234e27b",
   "metadata": {},
   "source": [
    "### Compute Class & Samples Weight to Deal with Class Imbalance"
   ]
  },
  {
   "cell_type": "code",
   "execution_count": 87,
   "id": "9f7bfd02",
   "metadata": {},
   "outputs": [],
   "source": [
    "# Assign class weights as an inverse of its frequency\n",
    "class_weights = (1 / roles_df.sum(axis=0))\n",
    "\n",
    "# Multiply class weight with the One-Hot encoded values and get the mea of each sample\n",
    "sample_weight = np.multiply(class_weights.values, y_train.values).sum(axis=1)"
   ]
  },
  {
   "cell_type": "code",
   "execution_count": 88,
   "id": "e545186e",
   "metadata": {},
   "outputs": [],
   "source": [
    "# Creating a function to calculate f1 from confusion matrix\n",
    "def f1_from_confusion_matrix(confusion_matrix):\n",
    "    return (confusion_matrix[1, 1] / \n",
    "            (confusion_matrix[1,1] + \n",
    "            (0.5 * (confusion_matrix[0,1] + confusion_matrix[1,0]))\n",
    "            ))"
   ]
  },
  {
   "cell_type": "code",
   "execution_count": 89,
   "id": "2f2889c1",
   "metadata": {},
   "outputs": [],
   "source": [
    "# Creating features_set variable which has original skills with clustered skills\n",
    "features_sets = {'original': skills_ohe.droplevel(level=0, axis=1).columns.tolist(),\n",
    "                'clusters': fe_clustered_skills.columns.tolist()}"
   ]
  },
  {
   "cell_type": "code",
   "execution_count": 90,
   "id": "57ad0e11",
   "metadata": {},
   "outputs": [],
   "source": [
    "# Importing libraries\n",
    "from sklearn.linear_model import LogisticRegression\n",
    "from sklearn.multioutput import MultiOutputClassifier\n",
    "from sklearn.metrics import multilabel_confusion_matrix"
   ]
  },
  {
   "cell_type": "code",
   "execution_count": 91,
   "id": "eb8d403a",
   "metadata": {},
   "outputs": [
    {
     "name": "stdout",
     "output_type": "stream",
     "text": [
      "Feature set: original\n",
      ".. Mean train F1: 0.11895910046164151\n",
      ".. Mean Test F1: 0.11750875850568084\n",
      "----------------------------------------------------------------------------------------------------\n",
      "Feature set: clusters\n",
      ".. Mean train F1: 0.15225492731960355\n",
      ".. Mean Test F1: 0.15215433034933049\n",
      "----------------------------------------------------------------------------------------------------\n"
     ]
    }
   ],
   "source": [
    "# Applying MultiOutputClassifier to the train and test set and calculating the F1 scores\n",
    "results = {}\n",
    "\n",
    "for feature_set_name, feature_set in features_sets.items():\n",
    "    # Create subsets of train and test\n",
    "    sub_train = X_train[feature_set].copy()\n",
    "    sub_test = X_test[feature_set].copy()\n",
    "    \n",
    "    # Train classifier\n",
    "    clf = MultiOutputClassifier(LogisticRegression())\n",
    "    clf.fit(sub_train, y_train, sample_weight=sample_weight)\n",
    "    \n",
    "    # Calculate F1 for train data\n",
    "    multilabel_confusion_matrices = multilabel_confusion_matrix(y_train, clf.predict(sub_train))\n",
    "    f1_train_scores = [f1_from_confusion_matrix(matrix) for matrix in multilabel_confusion_matrices]\n",
    "    \n",
    "    # Calculate F1 for test data\n",
    "    multilabel_confusion_matrices = multilabel_confusion_matrix(y_test, clf.predict(sub_test))\n",
    "    f1_test_scores = [f1_from_confusion_matrix(matrix) for matrix in multilabel_confusion_matrices]\n",
    "    \n",
    "    # Add to results\n",
    "    set_result = pd.DataFrame({'train': f1_train_scores, \"test\": f1_test_scores},\n",
    "                             index=roles_df.columns.tolist())\n",
    "    results[feature_set_name] = set_result.sort_values('test')\n",
    "    \n",
    "    # Displaying results\n",
    "    print(\"Feature set: \" + feature_set_name)\n",
    "    print('.. Mean train F1:', np.mean(f1_train_scores))\n",
    "    print('.. Mean Test F1:', np.mean(f1_test_scores))\n",
    "    print('-'*100)"
   ]
  },
  {
   "cell_type": "markdown",
   "id": "abb3c6ee",
   "metadata": {},
   "source": [
    "### Export New Features"
   ]
  },
  {
   "cell_type": "code",
   "execution_count": 92,
   "id": "28bdda43",
   "metadata": {},
   "outputs": [],
   "source": [
    "# Creating an export path variable\n",
    "features_path = os.path.join(EXPORT_FEATURES_DIR, 'features_skills_clusters.pkl')\n",
    "\n",
    "# Saving the clustered skills in a pickle file\n",
    "fe_clustered_skills.to_pickle(features_path)"
   ]
  },
  {
   "cell_type": "code",
   "execution_count": 93,
   "id": "1dd5dd0e",
   "metadata": {},
   "outputs": [],
   "source": [
    "# importing Yaml library\n",
    "import yaml\n",
    "\n",
    "# Creating a description file using yaml\n",
    "description_path = os.path.join(EXPORT_FEATURES_DIR, 'features_skills_clusters_description.yaml')\n",
    "with open(description_path, 'w') as outfile:\n",
    "    yaml.dump(skills_clusters.to_dict(), outfile) "
   ]
  },
  {
   "cell_type": "code",
   "execution_count": null,
   "id": "6ab896b7",
   "metadata": {},
   "outputs": [],
   "source": []
  }
 ],
 "metadata": {
  "kernelspec": {
   "display_name": "Python 3.9 (tensorflow)",
   "language": "python",
   "name": "tensorflow"
  },
  "language_info": {
   "codemirror_mode": {
    "name": "ipython",
    "version": 3
   },
   "file_extension": ".py",
   "mimetype": "text/x-python",
   "name": "python",
   "nbconvert_exporter": "python",
   "pygments_lexer": "ipython3",
   "version": "3.9.13"
  }
 },
 "nbformat": 4,
 "nbformat_minor": 5
}
