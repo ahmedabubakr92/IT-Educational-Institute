{
 "cells": [
  {
   "cell_type": "markdown",
   "id": "9f06bf58",
   "metadata": {},
   "source": [
    "# IT Educational Institute"
   ]
  },
  {
   "cell_type": "code",
   "execution_count": 5,
   "id": "08b1a423",
   "metadata": {},
   "outputs": [],
   "source": [
    "# Constants\n",
    "MLFLOW_TRACKING_URI = \"../models/mlruns\"\n",
    "MLFLOW_EXPERIMENT_NAME = \"skills_jobs_stackoverflow\""
   ]
  },
  {
   "cell_type": "code",
   "execution_count": 2,
   "id": "364dfa51",
   "metadata": {},
   "outputs": [],
   "source": [
    "# Importing libraries\n",
    "import mlflow\n",
    "from mlflow.tracking import MlflowClient\n",
    "import numpy as np\n",
    "import pandas as pd"
   ]
  },
  {
   "cell_type": "code",
   "execution_count": 3,
   "id": "f2e4380f",
   "metadata": {},
   "outputs": [],
   "source": [
    "# Initialize client\n",
    "mlflow.set_tracking_uri(MLFLOW_TRACKING_URI)\n",
    "client = MlflowClient()"
   ]
  },
  {
   "cell_type": "code",
   "execution_count": 6,
   "id": "f433a42e",
   "metadata": {},
   "outputs": [
    {
     "data": {
      "text/plain": [
       "<Experiment: artifact_location='../models/mlruns/0', creation_time=1674032442872, experiment_id='0', last_update_time=1674032442872, lifecycle_stage='active', name='skills_jobs_stackoverflow', tags={}>"
      ]
     },
     "execution_count": 6,
     "metadata": {},
     "output_type": "execute_result"
    }
   ],
   "source": [
    "# Getting experiment by name\n",
    "experiment = client.get_experiment_by_name(MLFLOW_EXPERIMENT_NAME)\n",
    "experiment"
   ]
  },
  {
   "cell_type": "code",
   "execution_count": 7,
   "id": "0c7e0dd1",
   "metadata": {},
   "outputs": [
    {
     "data": {
      "text/html": [
       "<div>\n",
       "<style scoped>\n",
       "    .dataframe tbody tr th:only-of-type {\n",
       "        vertical-align: middle;\n",
       "    }\n",
       "\n",
       "    .dataframe tbody tr th {\n",
       "        vertical-align: top;\n",
       "    }\n",
       "\n",
       "    .dataframe thead th {\n",
       "        text-align: right;\n",
       "    }\n",
       "</style>\n",
       "<table border=\"1\" class=\"dataframe\">\n",
       "  <thead>\n",
       "    <tr style=\"text-align: right;\">\n",
       "      <th></th>\n",
       "      <th>run_id</th>\n",
       "      <th>experiment_id</th>\n",
       "      <th>status</th>\n",
       "      <th>artifact_uri</th>\n",
       "      <th>start_time</th>\n",
       "      <th>end_time</th>\n",
       "      <th>metrics.precision_score</th>\n",
       "      <th>metrics.recall_score</th>\n",
       "      <th>metrics.accuracy_score</th>\n",
       "      <th>metrics.f1_score</th>\n",
       "      <th>tags.mlflow.user</th>\n",
       "      <th>tags.mlflow.source.type</th>\n",
       "      <th>tags.mlflow.runName</th>\n",
       "      <th>tags.mlflow.source.name</th>\n",
       "    </tr>\n",
       "  </thead>\n",
       "  <tbody>\n",
       "    <tr>\n",
       "      <th>0</th>\n",
       "      <td>f8e8a90e0637479b9a7b70866fbca833</td>\n",
       "      <td>0</td>\n",
       "      <td>FINISHED</td>\n",
       "      <td>../models/mlruns/0/f8e8a90e0637479b9a7b70866fb...</td>\n",
       "      <td>2023-01-23 18:23:14.235000+00:00</td>\n",
       "      <td>2023-01-23 18:23:16.281000+00:00</td>\n",
       "      <td>97.000000</td>\n",
       "      <td>60.004211</td>\n",
       "      <td>94.907895</td>\n",
       "      <td>73.289474</td>\n",
       "      <td>ahmedahmed</td>\n",
       "      <td>LOCAL</td>\n",
       "      <td>Random Forest: with PCA + Hyperparameter Tuning</td>\n",
       "      <td>/Users/ahmedahmed/opt/miniconda3/envs/tensorfl...</td>\n",
       "    </tr>\n",
       "    <tr>\n",
       "      <th>1</th>\n",
       "      <td>ec85cfcfb36741d4985a20e52db7fe2d</td>\n",
       "      <td>0</td>\n",
       "      <td>FINISHED</td>\n",
       "      <td>../models/mlruns/0/ec85cfcfb36741d4985a20e52db...</td>\n",
       "      <td>2023-01-23 10:08:19.769000+00:00</td>\n",
       "      <td>2023-01-23 10:08:20.163000+00:00</td>\n",
       "      <td>97.000000</td>\n",
       "      <td>60.004211</td>\n",
       "      <td>94.907895</td>\n",
       "      <td>73.289474</td>\n",
       "      <td>ahmedahmed</td>\n",
       "      <td>LOCAL</td>\n",
       "      <td>Random Forest: with PCA - Basic</td>\n",
       "      <td>/Users/ahmedahmed/opt/miniconda3/envs/tensorfl...</td>\n",
       "    </tr>\n",
       "    <tr>\n",
       "      <th>2</th>\n",
       "      <td>dbd98ae7e3614aee9f92c3149f7226c7</td>\n",
       "      <td>0</td>\n",
       "      <td>FINISHED</td>\n",
       "      <td>../models/mlruns/0/dbd98ae7e3614aee9f92c3149f7...</td>\n",
       "      <td>2023-01-18 11:08:49.537000+00:00</td>\n",
       "      <td>2023-01-18 11:08:50.056000+00:00</td>\n",
       "      <td>97.000000</td>\n",
       "      <td>60.004211</td>\n",
       "      <td>94.907895</td>\n",
       "      <td>73.289474</td>\n",
       "      <td>ahmedahmed</td>\n",
       "      <td>LOCAL</td>\n",
       "      <td>Random Forest: with PCA - Basic</td>\n",
       "      <td>/Users/ahmedahmed/opt/miniconda3/envs/tensorfl...</td>\n",
       "    </tr>\n",
       "    <tr>\n",
       "      <th>3</th>\n",
       "      <td>3b747cc685c2445ca16a6ed31e25c40b</td>\n",
       "      <td>0</td>\n",
       "      <td>FINISHED</td>\n",
       "      <td>../models/mlruns/0/3b747cc685c2445ca16a6ed31e2...</td>\n",
       "      <td>2023-01-18 09:01:44.422000+00:00</td>\n",
       "      <td>2023-01-18 09:01:44.430000+00:00</td>\n",
       "      <td>59.217895</td>\n",
       "      <td>27.523684</td>\n",
       "      <td>90.352632</td>\n",
       "      <td>36.256842</td>\n",
       "      <td>ahmedahmed</td>\n",
       "      <td>LOCAL</td>\n",
       "      <td>Baseline model: Logistic Regression</td>\n",
       "      <td>/Users/ahmedahmed/opt/miniconda3/envs/tensorfl...</td>\n",
       "    </tr>\n",
       "  </tbody>\n",
       "</table>\n",
       "</div>"
      ],
      "text/plain": [
       "                             run_id  ...                            tags.mlflow.source.name\n",
       "0  f8e8a90e0637479b9a7b70866fbca833  ...  /Users/ahmedahmed/opt/miniconda3/envs/tensorfl...\n",
       "1  ec85cfcfb36741d4985a20e52db7fe2d  ...  /Users/ahmedahmed/opt/miniconda3/envs/tensorfl...\n",
       "2  dbd98ae7e3614aee9f92c3149f7226c7  ...  /Users/ahmedahmed/opt/miniconda3/envs/tensorfl...\n",
       "3  3b747cc685c2445ca16a6ed31e25c40b  ...  /Users/ahmedahmed/opt/miniconda3/envs/tensorfl...\n",
       "\n",
       "[4 rows x 14 columns]"
      ]
     },
     "execution_count": 7,
     "metadata": {},
     "output_type": "execute_result"
    }
   ],
   "source": [
    "# Getting all mlflow runs\n",
    "runs = mlflow.search_runs([experiment.experiment_id])\n",
    "runs"
   ]
  },
  {
   "cell_type": "code",
   "execution_count": null,
   "id": "f4c96c84",
   "metadata": {},
   "outputs": [],
   "source": []
  }
 ],
 "metadata": {
  "kernelspec": {
   "display_name": "Python 3.9 (tensorflow)",
   "language": "python",
   "name": "tensorflow"
  },
  "language_info": {
   "codemirror_mode": {
    "name": "ipython",
    "version": 3
   },
   "file_extension": ".py",
   "mimetype": "text/x-python",
   "name": "python",
   "nbconvert_exporter": "python",
   "pygments_lexer": "ipython3",
   "version": "3.9.13"
  }
 },
 "nbformat": 4,
 "nbformat_minor": 5
}
