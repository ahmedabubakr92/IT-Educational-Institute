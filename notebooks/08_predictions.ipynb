{
 "cells": [
  {
   "cell_type": "markdown",
   "id": "22b20490",
   "metadata": {},
   "source": [
    "# IT Educational Institute"
   ]
  },
  {
   "cell_type": "code",
   "execution_count": 12,
   "id": "d0098ed6",
   "metadata": {},
   "outputs": [],
   "source": [
    "# Constants\n",
    "LOG_DATA_PKL = \"data.pkl\"\n",
    "LOG_MODEL_PKL = \"model.pkl\"\n",
    "LOG_METRICS_PKL = \"metrics.pkl\"\n",
    "\n",
    "MLFLOW_TRACKING_URI = \"../models/mlruns\"\n",
    "MLFLOW_RUN_ID = \"dbd98ae7e3614aee9f92c3149f7226c7\"\n",
    "\n",
    "CLUSTERS_YAML_PATH = \"../data/processed/features_skills_clusters_description.yaml\""
   ]
  },
  {
   "cell_type": "code",
   "execution_count": 2,
   "id": "e70f00f1",
   "metadata": {},
   "outputs": [],
   "source": [
    "# Importing libraries\n",
    "import os\n",
    "import pickle\n",
    "import yaml\n",
    "import numpy as np\n",
    "import pandas as pd\n",
    "import sklearn\n",
    "import mlflow\n",
    "from mlflow.tracking import MlflowClient"
   ]
  },
  {
   "cell_type": "markdown",
   "id": "e80e4547",
   "metadata": {},
   "source": [
    "## Initialize"
   ]
  },
  {
   "cell_type": "markdown",
   "id": "3370ecab",
   "metadata": {},
   "source": [
    "### MLFlow"
   ]
  },
  {
   "cell_type": "code",
   "execution_count": 5,
   "id": "1bd05c3c",
   "metadata": {},
   "outputs": [],
   "source": [
    "# Initialize client and experiment\n",
    "mlflow.set_tracking_uri(MLFLOW_TRACKING_URI)\n",
    "client = MlflowClient()\n",
    "\n",
    "run = mlflow.get_run(MLFLOW_RUN_ID)\n",
    "artifacts_path = run.info.artifact_uri"
   ]
  },
  {
   "cell_type": "markdown",
   "id": "aee8f46a",
   "metadata": {},
   "source": [
    "### Load Model"
   ]
  },
  {
   "cell_type": "code",
   "execution_count": 7,
   "id": "dfe48caf",
   "metadata": {},
   "outputs": [
    {
     "data": {
      "text/plain": [
       "{'model_description': 'Random Forest: with PCA - Basic',\n",
       " 'model_details': \"Pipeline(steps=[('robustscaler', RobustScaler()),\\n                ('pca', PCA(n_components=0.95)),\\n                ('randomforestclassifier',\\n                 RandomForestClassifier(n_jobs=8, random_state=0, verbose=1))])\",\n",
       " 'model_object': Pipeline(steps=[('robustscaler', RobustScaler()),\n",
       "                 ('pca', PCA(n_components=0.95)),\n",
       "                 ('randomforestclassifier',\n",
       "                  RandomForestClassifier(n_jobs=8, random_state=0, verbose=1))])}"
      ]
     },
     "execution_count": 7,
     "metadata": {},
     "output_type": "execute_result"
    }
   ],
   "source": [
    "# Loading model\n",
    "model_path = os.path.join(artifacts_path, LOG_MODEL_PKL)\n",
    "with open(model_path, 'rb') as f:\n",
    "    model = pickle.load(f)\n",
    "    \n",
    "# Displaying model\n",
    "model"
   ]
  },
  {
   "cell_type": "code",
   "execution_count": 8,
   "id": "9712b83e",
   "metadata": {},
   "outputs": [
    {
     "data": {
      "text/plain": [
       "dict_keys(['data_path', 'training_indices', 'test_indices', 'features_names', 'targets_names'])"
      ]
     },
     "execution_count": 8,
     "metadata": {},
     "output_type": "execute_result"
    }
   ],
   "source": [
    "# Loading data\n",
    "data_path = os.path.join(artifacts_path, LOG_DATA_PKL)\n",
    "with open(data_path, 'rb') as f:\n",
    "    data = pickle.load(f)\n",
    "    \n",
    "# Displaying data keys\n",
    "data.keys()"
   ]
  },
  {
   "cell_type": "code",
   "execution_count": 9,
   "id": "eca41c12",
   "metadata": {},
   "outputs": [],
   "source": [
    "# Unpacking variables\n",
    "features_names = pd.Series(data['features_names'])\n",
    "targets_names = pd.Series(data['targets_names'])\n",
    "classifier = model['model_object']"
   ]
  },
  {
   "cell_type": "code",
   "execution_count": 10,
   "id": "91b20635",
   "metadata": {},
   "outputs": [
    {
     "data": {
      "text/html": [
       "<style>#sk-container-id-1 {color: black;background-color: white;}#sk-container-id-1 pre{padding: 0;}#sk-container-id-1 div.sk-toggleable {background-color: white;}#sk-container-id-1 label.sk-toggleable__label {cursor: pointer;display: block;width: 100%;margin-bottom: 0;padding: 0.3em;box-sizing: border-box;text-align: center;}#sk-container-id-1 label.sk-toggleable__label-arrow:before {content: \"▸\";float: left;margin-right: 0.25em;color: #696969;}#sk-container-id-1 label.sk-toggleable__label-arrow:hover:before {color: black;}#sk-container-id-1 div.sk-estimator:hover label.sk-toggleable__label-arrow:before {color: black;}#sk-container-id-1 div.sk-toggleable__content {max-height: 0;max-width: 0;overflow: hidden;text-align: left;background-color: #f0f8ff;}#sk-container-id-1 div.sk-toggleable__content pre {margin: 0.2em;color: black;border-radius: 0.25em;background-color: #f0f8ff;}#sk-container-id-1 input.sk-toggleable__control:checked~div.sk-toggleable__content {max-height: 200px;max-width: 100%;overflow: auto;}#sk-container-id-1 input.sk-toggleable__control:checked~label.sk-toggleable__label-arrow:before {content: \"▾\";}#sk-container-id-1 div.sk-estimator input.sk-toggleable__control:checked~label.sk-toggleable__label {background-color: #d4ebff;}#sk-container-id-1 div.sk-label input.sk-toggleable__control:checked~label.sk-toggleable__label {background-color: #d4ebff;}#sk-container-id-1 input.sk-hidden--visually {border: 0;clip: rect(1px 1px 1px 1px);clip: rect(1px, 1px, 1px, 1px);height: 1px;margin: -1px;overflow: hidden;padding: 0;position: absolute;width: 1px;}#sk-container-id-1 div.sk-estimator {font-family: monospace;background-color: #f0f8ff;border: 1px dotted black;border-radius: 0.25em;box-sizing: border-box;margin-bottom: 0.5em;}#sk-container-id-1 div.sk-estimator:hover {background-color: #d4ebff;}#sk-container-id-1 div.sk-parallel-item::after {content: \"\";width: 100%;border-bottom: 1px solid gray;flex-grow: 1;}#sk-container-id-1 div.sk-label:hover label.sk-toggleable__label {background-color: #d4ebff;}#sk-container-id-1 div.sk-serial::before {content: \"\";position: absolute;border-left: 1px solid gray;box-sizing: border-box;top: 0;bottom: 0;left: 50%;z-index: 0;}#sk-container-id-1 div.sk-serial {display: flex;flex-direction: column;align-items: center;background-color: white;padding-right: 0.2em;padding-left: 0.2em;position: relative;}#sk-container-id-1 div.sk-item {position: relative;z-index: 1;}#sk-container-id-1 div.sk-parallel {display: flex;align-items: stretch;justify-content: center;background-color: white;position: relative;}#sk-container-id-1 div.sk-item::before, #sk-container-id-1 div.sk-parallel-item::before {content: \"\";position: absolute;border-left: 1px solid gray;box-sizing: border-box;top: 0;bottom: 0;left: 50%;z-index: -1;}#sk-container-id-1 div.sk-parallel-item {display: flex;flex-direction: column;z-index: 1;position: relative;background-color: white;}#sk-container-id-1 div.sk-parallel-item:first-child::after {align-self: flex-end;width: 50%;}#sk-container-id-1 div.sk-parallel-item:last-child::after {align-self: flex-start;width: 50%;}#sk-container-id-1 div.sk-parallel-item:only-child::after {width: 0;}#sk-container-id-1 div.sk-dashed-wrapped {border: 1px dashed gray;margin: 0 0.4em 0.5em 0.4em;box-sizing: border-box;padding-bottom: 0.4em;background-color: white;}#sk-container-id-1 div.sk-label label {font-family: monospace;font-weight: bold;display: inline-block;line-height: 1.2em;}#sk-container-id-1 div.sk-label-container {text-align: center;}#sk-container-id-1 div.sk-container {/* jupyter's `normalize.less` sets `[hidden] { display: none; }` but bootstrap.min.css set `[hidden] { display: none !important; }` so we also need the `!important` here to be able to override the default hidden behavior on the sphinx rendered scikit-learn.org. See: https://github.com/scikit-learn/scikit-learn/issues/21755 */display: inline-block !important;position: relative;}#sk-container-id-1 div.sk-text-repr-fallback {display: none;}</style><div id=\"sk-container-id-1\" class=\"sk-top-container\"><div class=\"sk-text-repr-fallback\"><pre>Pipeline(steps=[(&#x27;robustscaler&#x27;, RobustScaler()),\n",
       "                (&#x27;pca&#x27;, PCA(n_components=0.95)),\n",
       "                (&#x27;randomforestclassifier&#x27;,\n",
       "                 RandomForestClassifier(n_jobs=8, random_state=0, verbose=1))])</pre><b>In a Jupyter environment, please rerun this cell to show the HTML representation or trust the notebook. <br />On GitHub, the HTML representation is unable to render, please try loading this page with nbviewer.org.</b></div><div class=\"sk-container\" hidden><div class=\"sk-item sk-dashed-wrapped\"><div class=\"sk-label-container\"><div class=\"sk-label sk-toggleable\"><input class=\"sk-toggleable__control sk-hidden--visually\" id=\"sk-estimator-id-1\" type=\"checkbox\" ><label for=\"sk-estimator-id-1\" class=\"sk-toggleable__label sk-toggleable__label-arrow\">Pipeline</label><div class=\"sk-toggleable__content\"><pre>Pipeline(steps=[(&#x27;robustscaler&#x27;, RobustScaler()),\n",
       "                (&#x27;pca&#x27;, PCA(n_components=0.95)),\n",
       "                (&#x27;randomforestclassifier&#x27;,\n",
       "                 RandomForestClassifier(n_jobs=8, random_state=0, verbose=1))])</pre></div></div></div><div class=\"sk-serial\"><div class=\"sk-item\"><div class=\"sk-estimator sk-toggleable\"><input class=\"sk-toggleable__control sk-hidden--visually\" id=\"sk-estimator-id-2\" type=\"checkbox\" ><label for=\"sk-estimator-id-2\" class=\"sk-toggleable__label sk-toggleable__label-arrow\">RobustScaler</label><div class=\"sk-toggleable__content\"><pre>RobustScaler()</pre></div></div></div><div class=\"sk-item\"><div class=\"sk-estimator sk-toggleable\"><input class=\"sk-toggleable__control sk-hidden--visually\" id=\"sk-estimator-id-3\" type=\"checkbox\" ><label for=\"sk-estimator-id-3\" class=\"sk-toggleable__label sk-toggleable__label-arrow\">PCA</label><div class=\"sk-toggleable__content\"><pre>PCA(n_components=0.95)</pre></div></div></div><div class=\"sk-item\"><div class=\"sk-estimator sk-toggleable\"><input class=\"sk-toggleable__control sk-hidden--visually\" id=\"sk-estimator-id-4\" type=\"checkbox\" ><label for=\"sk-estimator-id-4\" class=\"sk-toggleable__label sk-toggleable__label-arrow\">RandomForestClassifier</label><div class=\"sk-toggleable__content\"><pre>RandomForestClassifier(n_jobs=8, random_state=0, verbose=1)</pre></div></div></div></div></div></div></div>"
      ],
      "text/plain": [
       "Pipeline(steps=[('robustscaler', RobustScaler()),\n",
       "                ('pca', PCA(n_components=0.95)),\n",
       "                ('randomforestclassifier',\n",
       "                 RandomForestClassifier(n_jobs=8, random_state=0, verbose=1))])"
      ]
     },
     "execution_count": 10,
     "metadata": {},
     "output_type": "execute_result"
    }
   ],
   "source": [
    "# Displaying classifier\n",
    "classifier"
   ]
  },
  {
   "cell_type": "markdown",
   "id": "df7450cd",
   "metadata": {},
   "source": [
    "### Load Skills Clusters"
   ]
  },
  {
   "cell_type": "code",
   "execution_count": 13,
   "id": "4428138f",
   "metadata": {},
   "outputs": [
    {
     "data": {
      "text/plain": [
       "{'skills_group_0': ['APL',\n",
       "  'COBOL',\n",
       "  'Clojure',\n",
       "  'Crystal',\n",
       "  'F#',\n",
       "  'Fortran',\n",
       "  'Haskell',\n",
       "  'Julia',\n",
       "  'LISP',\n",
       "  'OCaml',\n",
       "  'Perl',\n",
       "  'R',\n",
       "  'SAS',\n",
       "  'CouchDB',\n",
       "  'Couchbase',\n",
       "  'IBM DB2',\n",
       "  'Colocation',\n",
       "  'IBM Cloud or Watson',\n",
       "  'OpenStack',\n",
       "  'Tidyverse',\n",
       "  'Flow',\n",
       "  'Emacs',\n",
       "  'RStudio'],\n",
       " 'skills_group_1': ['HTML/CSS',\n",
       "  'JavaScript',\n",
       "  'Solidity',\n",
       "  'TypeScript',\n",
       "  'MongoDB',\n",
       "  'Heroku',\n",
       "  'Angular',\n",
       "  'Angular.js',\n",
       "  'Deno',\n",
       "  'Express',\n",
       "  'Fastify',\n",
       "  'Gatsby',\n",
       "  'Next.js',\n",
       "  'Node.js',\n",
       "  'Nuxt.js',\n",
       "  'React.js',\n",
       "  'Svelte',\n",
       "  'Vue.js',\n",
       "  'Electron',\n",
       "  'React Native',\n",
       "  'Yarn',\n",
       "  'npm',\n",
       "  'Visual Studio Code'],\n",
       " 'skills_group_10': ['Elixir', 'Erlang', 'Phoenix'],\n",
       " 'skills_group_11': ['Capacitor', 'Cordova', 'Ionic'],\n",
       " 'skills_group_12': ['Objective-C',\n",
       "  'Ruby',\n",
       "  'Swift',\n",
       "  'Ruby on Rails',\n",
       "  'Homebrew',\n",
       "  'RubyMine',\n",
       "  'TextMate',\n",
       "  'Xcode'],\n",
       " 'skills_group_2': ['Go',\n",
       "  'Scala',\n",
       "  'Cassandra',\n",
       "  'DynamoDB',\n",
       "  'Elasticsearch',\n",
       "  'Neo4j',\n",
       "  'PostgreSQL',\n",
       "  'Redis',\n",
       "  'AWS',\n",
       "  'DigitalOcean',\n",
       "  'Linode',\n",
       "  'Play Framework',\n",
       "  'Apache Kafka',\n",
       "  'Apache Spark',\n",
       "  'Hadoop',\n",
       "  'Ansible',\n",
       "  'Chef',\n",
       "  'Docker',\n",
       "  'Kubernetes',\n",
       "  'Pulumi',\n",
       "  'Puppet',\n",
       "  'Terraform',\n",
       "  'GoLand'],\n",
       " 'skills_group_3': ['MATLAB',\n",
       "  'Python',\n",
       "  'Django',\n",
       "  'FastAPI',\n",
       "  'Flask',\n",
       "  'Hugging Face Transformers',\n",
       "  'Keras',\n",
       "  'NumPy',\n",
       "  'Pandas',\n",
       "  'Scikit-learn',\n",
       "  'TensorFlow',\n",
       "  'Torch/PyTorch',\n",
       "  'IPython/Jupyter',\n",
       "  'PyCharm',\n",
       "  'Spyder'],\n",
       " 'skills_group_4': ['C#',\n",
       "  'PowerShell',\n",
       "  'SQL',\n",
       "  'VBA',\n",
       "  'Microsoft SQL Server',\n",
       "  'Microsoft Azure',\n",
       "  'VMware',\n",
       "  'ASP.NET',\n",
       "  'ASP.NET Core ',\n",
       "  'Blazor',\n",
       "  '.NET',\n",
       "  'Uno Platform',\n",
       "  'Xamarin',\n",
       "  'Notepad++',\n",
       "  'Rider',\n",
       "  'Visual Studio'],\n",
       " 'skills_group_5': ['Dart',\n",
       "  'Kotlin',\n",
       "  'Cloud Firestore',\n",
       "  'Firebase Realtime Database',\n",
       "  'SQLite',\n",
       "  'Firebase',\n",
       "  'Google Cloud',\n",
       "  'Flutter',\n",
       "  'Android Studio'],\n",
       " 'skills_group_6': ['Assembly',\n",
       "  'Bash/Shell',\n",
       "  'C',\n",
       "  'C++',\n",
       "  'Lua',\n",
       "  'Rust',\n",
       "  'GTK',\n",
       "  'Qt',\n",
       "  'CLion',\n",
       "  'Nano',\n",
       "  'Neovim',\n",
       "  'Qt Creator',\n",
       "  'Vim'],\n",
       " 'skills_group_7': ['Groovy',\n",
       "  'Java',\n",
       "  'Oracle',\n",
       "  'Oracle Cloud Infrastructure',\n",
       "  'Spring',\n",
       "  'Atom',\n",
       "  'Eclipse',\n",
       "  'IntelliJ',\n",
       "  'NetBeans',\n",
       "  'Sublime Text'],\n",
       " 'skills_group_8': ['Delphi',\n",
       "  'Unity 3D',\n",
       "  'Unreal Engine',\n",
       "  'RAD Studio (Delphi, C++ Builder)'],\n",
       " 'skills_group_9': ['PHP',\n",
       "  'MariaDB',\n",
       "  'MySQL',\n",
       "  'Managed Hosting',\n",
       "  'OVH',\n",
       "  'Drupal',\n",
       "  'Laravel',\n",
       "  'Symfony',\n",
       "  'jQuery',\n",
       "  'PhpStorm',\n",
       "  'Webstorm']}"
      ]
     },
     "execution_count": 13,
     "metadata": {},
     "output_type": "execute_result"
    }
   ],
   "source": [
    "# Loading skills clusters\n",
    "with open(CLUSTERS_YAML_PATH, 'r') as f:\n",
    "    clusters_config = yaml.safe_load(f)\n",
    "    \n",
    "# Displaying clusters configurations\n",
    "clusters_config"
   ]
  },
  {
   "cell_type": "code",
   "execution_count": 14,
   "id": "c45d8717",
   "metadata": {},
   "outputs": [
    {
     "data": {
      "text/html": [
       "<div>\n",
       "<style scoped>\n",
       "    .dataframe tbody tr th:only-of-type {\n",
       "        vertical-align: middle;\n",
       "    }\n",
       "\n",
       "    .dataframe tbody tr th {\n",
       "        vertical-align: top;\n",
       "    }\n",
       "\n",
       "    .dataframe thead th {\n",
       "        text-align: right;\n",
       "    }\n",
       "</style>\n",
       "<table border=\"1\" class=\"dataframe\">\n",
       "  <thead>\n",
       "    <tr style=\"text-align: right;\">\n",
       "      <th></th>\n",
       "      <th>cluster_name</th>\n",
       "      <th>skill</th>\n",
       "    </tr>\n",
       "  </thead>\n",
       "  <tbody>\n",
       "    <tr>\n",
       "      <th>0</th>\n",
       "      <td>skills_group_0</td>\n",
       "      <td>APL</td>\n",
       "    </tr>\n",
       "    <tr>\n",
       "      <th>1</th>\n",
       "      <td>skills_group_0</td>\n",
       "      <td>COBOL</td>\n",
       "    </tr>\n",
       "    <tr>\n",
       "      <th>2</th>\n",
       "      <td>skills_group_0</td>\n",
       "      <td>Clojure</td>\n",
       "    </tr>\n",
       "    <tr>\n",
       "      <th>3</th>\n",
       "      <td>skills_group_0</td>\n",
       "      <td>Crystal</td>\n",
       "    </tr>\n",
       "    <tr>\n",
       "      <th>4</th>\n",
       "      <td>skills_group_0</td>\n",
       "      <td>F#</td>\n",
       "    </tr>\n",
       "    <tr>\n",
       "      <th>...</th>\n",
       "      <td>...</td>\n",
       "      <td>...</td>\n",
       "    </tr>\n",
       "    <tr>\n",
       "      <th>156</th>\n",
       "      <td>skills_group_9</td>\n",
       "      <td>Laravel</td>\n",
       "    </tr>\n",
       "    <tr>\n",
       "      <th>157</th>\n",
       "      <td>skills_group_9</td>\n",
       "      <td>Symfony</td>\n",
       "    </tr>\n",
       "    <tr>\n",
       "      <th>158</th>\n",
       "      <td>skills_group_9</td>\n",
       "      <td>jQuery</td>\n",
       "    </tr>\n",
       "    <tr>\n",
       "      <th>159</th>\n",
       "      <td>skills_group_9</td>\n",
       "      <td>PhpStorm</td>\n",
       "    </tr>\n",
       "    <tr>\n",
       "      <th>160</th>\n",
       "      <td>skills_group_9</td>\n",
       "      <td>Webstorm</td>\n",
       "    </tr>\n",
       "  </tbody>\n",
       "</table>\n",
       "<p>161 rows × 2 columns</p>\n",
       "</div>"
      ],
      "text/plain": [
       "       cluster_name     skill\n",
       "0    skills_group_0       APL\n",
       "1    skills_group_0     COBOL\n",
       "2    skills_group_0   Clojure\n",
       "3    skills_group_0   Crystal\n",
       "4    skills_group_0        F#\n",
       "..              ...       ...\n",
       "156  skills_group_9   Laravel\n",
       "157  skills_group_9   Symfony\n",
       "158  skills_group_9    jQuery\n",
       "159  skills_group_9  PhpStorm\n",
       "160  skills_group_9  Webstorm\n",
       "\n",
       "[161 rows x 2 columns]"
      ]
     },
     "execution_count": 14,
     "metadata": {},
     "output_type": "execute_result"
    }
   ],
   "source": [
    "# Reforming into DataFrame\n",
    "molten_clusters = [(cluster_name, cluster_skill)\n",
    "                  for cluster_name, cluster_skills in clusters_config.items()\n",
    "                  for cluster_skill in cluster_skills]\n",
    "\n",
    "clusters_df = pd.DataFrame(molten_clusters, columns=['cluster_name', 'skill'])\n",
    "clusters_df"
   ]
  },
  {
   "cell_type": "markdown",
   "id": "003f9695",
   "metadata": {},
   "source": [
    "### Predict Sample Entry"
   ]
  },
  {
   "cell_type": "code",
   "execution_count": 16,
   "id": "4039e336",
   "metadata": {},
   "outputs": [],
   "source": [
    "sample_skills = ['Scala', 'Hadoop', 'Python']"
   ]
  },
  {
   "cell_type": "code",
   "execution_count": 17,
   "id": "6bfba7ba",
   "metadata": {},
   "outputs": [
    {
     "data": {
      "text/plain": [
       "0    True\n",
       "1    True\n",
       "2    True\n",
       "dtype: bool"
      ]
     },
     "execution_count": 17,
     "metadata": {},
     "output_type": "execute_result"
    }
   ],
   "source": [
    "# Verify\n",
    "pd.Series(sample_skills).isin(features_names)"
   ]
  },
  {
   "cell_type": "markdown",
   "id": "b5240ca4",
   "metadata": {},
   "source": [
    "#### 1. Recreate Cluster Features"
   ]
  },
  {
   "cell_type": "code",
   "execution_count": 18,
   "id": "4cc44f13",
   "metadata": {},
   "outputs": [
    {
     "data": {
      "text/html": [
       "<div>\n",
       "<style scoped>\n",
       "    .dataframe tbody tr th:only-of-type {\n",
       "        vertical-align: middle;\n",
       "    }\n",
       "\n",
       "    .dataframe tbody tr th {\n",
       "        vertical-align: top;\n",
       "    }\n",
       "\n",
       "    .dataframe thead th {\n",
       "        text-align: right;\n",
       "    }\n",
       "</style>\n",
       "<table border=\"1\" class=\"dataframe\">\n",
       "  <thead>\n",
       "    <tr style=\"text-align: right;\">\n",
       "      <th></th>\n",
       "      <th>cluster_name</th>\n",
       "      <th>skill</th>\n",
       "      <th>sample_skills</th>\n",
       "    </tr>\n",
       "  </thead>\n",
       "  <tbody>\n",
       "    <tr>\n",
       "      <th>0</th>\n",
       "      <td>skills_group_0</td>\n",
       "      <td>APL</td>\n",
       "      <td>False</td>\n",
       "    </tr>\n",
       "    <tr>\n",
       "      <th>1</th>\n",
       "      <td>skills_group_0</td>\n",
       "      <td>COBOL</td>\n",
       "      <td>False</td>\n",
       "    </tr>\n",
       "    <tr>\n",
       "      <th>2</th>\n",
       "      <td>skills_group_0</td>\n",
       "      <td>Clojure</td>\n",
       "      <td>False</td>\n",
       "    </tr>\n",
       "    <tr>\n",
       "      <th>3</th>\n",
       "      <td>skills_group_0</td>\n",
       "      <td>Crystal</td>\n",
       "      <td>False</td>\n",
       "    </tr>\n",
       "    <tr>\n",
       "      <th>4</th>\n",
       "      <td>skills_group_0</td>\n",
       "      <td>F#</td>\n",
       "      <td>False</td>\n",
       "    </tr>\n",
       "    <tr>\n",
       "      <th>...</th>\n",
       "      <td>...</td>\n",
       "      <td>...</td>\n",
       "      <td>...</td>\n",
       "    </tr>\n",
       "    <tr>\n",
       "      <th>156</th>\n",
       "      <td>skills_group_9</td>\n",
       "      <td>Laravel</td>\n",
       "      <td>False</td>\n",
       "    </tr>\n",
       "    <tr>\n",
       "      <th>157</th>\n",
       "      <td>skills_group_9</td>\n",
       "      <td>Symfony</td>\n",
       "      <td>False</td>\n",
       "    </tr>\n",
       "    <tr>\n",
       "      <th>158</th>\n",
       "      <td>skills_group_9</td>\n",
       "      <td>jQuery</td>\n",
       "      <td>False</td>\n",
       "    </tr>\n",
       "    <tr>\n",
       "      <th>159</th>\n",
       "      <td>skills_group_9</td>\n",
       "      <td>PhpStorm</td>\n",
       "      <td>False</td>\n",
       "    </tr>\n",
       "    <tr>\n",
       "      <th>160</th>\n",
       "      <td>skills_group_9</td>\n",
       "      <td>Webstorm</td>\n",
       "      <td>False</td>\n",
       "    </tr>\n",
       "  </tbody>\n",
       "</table>\n",
       "<p>161 rows × 3 columns</p>\n",
       "</div>"
      ],
      "text/plain": [
       "       cluster_name     skill  sample_skills\n",
       "0    skills_group_0       APL          False\n",
       "1    skills_group_0     COBOL          False\n",
       "2    skills_group_0   Clojure          False\n",
       "3    skills_group_0   Crystal          False\n",
       "4    skills_group_0        F#          False\n",
       "..              ...       ...            ...\n",
       "156  skills_group_9   Laravel          False\n",
       "157  skills_group_9   Symfony          False\n",
       "158  skills_group_9    jQuery          False\n",
       "159  skills_group_9  PhpStorm          False\n",
       "160  skills_group_9  Webstorm          False\n",
       "\n",
       "[161 rows x 3 columns]"
      ]
     },
     "execution_count": 18,
     "metadata": {},
     "output_type": "execute_result"
    }
   ],
   "source": [
    "sample_clusters = clusters_df.copy()\n",
    "sample_clusters['sample_skills'] = sample_clusters['skill'].isin(sample_skills)\n",
    "sample_clusters"
   ]
  },
  {
   "cell_type": "code",
   "execution_count": 19,
   "id": "9c405d6f",
   "metadata": {},
   "outputs": [
    {
     "data": {
      "text/plain": [
       "cluster_name\n",
       "skills_group_0     0\n",
       "skills_group_1     0\n",
       "skills_group_10    0\n",
       "skills_group_11    0\n",
       "skills_group_12    0\n",
       "skills_group_2     2\n",
       "skills_group_3     1\n",
       "skills_group_4     0\n",
       "skills_group_5     0\n",
       "skills_group_6     0\n",
       "skills_group_7     0\n",
       "skills_group_8     0\n",
       "skills_group_9     0\n",
       "Name: sample_skills, dtype: int64"
      ]
     },
     "execution_count": 19,
     "metadata": {},
     "output_type": "execute_result"
    }
   ],
   "source": [
    "cluster_features = sample_clusters.groupby('cluster_name')['sample_skills'].sum()\n",
    "cluster_features"
   ]
  },
  {
   "cell_type": "markdown",
   "id": "0910d3cd",
   "metadata": {},
   "source": [
    "#### 2. Create OneHotEncoded Skills"
   ]
  },
  {
   "cell_type": "code",
   "execution_count": 20,
   "id": "7ebbf409",
   "metadata": {},
   "outputs": [
    {
     "data": {
      "text/plain": [
       "0                     APL\n",
       "1                Assembly\n",
       "2              Bash/Shell\n",
       "3                       C\n",
       "4                      C#\n",
       "              ...        \n",
       "156                   Vim\n",
       "157         Visual Studio\n",
       "158    Visual Studio Code\n",
       "159              Webstorm\n",
       "160                 Xcode\n",
       "Length: 161, dtype: object"
      ]
     },
     "execution_count": 20,
     "metadata": {},
     "output_type": "execute_result"
    }
   ],
   "source": [
    "skills_names = features_names[~features_names.isin(cluster_features.index)]\n",
    "skills_names"
   ]
  },
  {
   "cell_type": "code",
   "execution_count": 21,
   "id": "493716e3",
   "metadata": {},
   "outputs": [
    {
     "data": {
      "text/plain": [
       "APL                   0\n",
       "Assembly              0\n",
       "Bash/Shell            0\n",
       "C                     0\n",
       "C#                    0\n",
       "                     ..\n",
       "Vim                   0\n",
       "Visual Studio         0\n",
       "Visual Studio Code    0\n",
       "Webstorm              0\n",
       "Xcode                 0\n",
       "Length: 161, dtype: int64"
      ]
     },
     "execution_count": 21,
     "metadata": {},
     "output_type": "execute_result"
    }
   ],
   "source": [
    "ohe_skills = pd.Series(skills_names.isin(sample_skills).astype(int).tolist(),\n",
    "                      index=skills_names)\n",
    "ohe_skills"
   ]
  },
  {
   "cell_type": "markdown",
   "id": "386802cf",
   "metadata": {},
   "source": [
    "#### 3. Combine Features"
   ]
  },
  {
   "cell_type": "code",
   "execution_count": 22,
   "id": "7ca319e9",
   "metadata": {},
   "outputs": [
    {
     "data": {
      "text/plain": [
       "APL               0\n",
       "Assembly          0\n",
       "Bash/Shell        0\n",
       "C                 0\n",
       "C#                0\n",
       "                 ..\n",
       "skills_group_5    0\n",
       "skills_group_6    0\n",
       "skills_group_7    0\n",
       "skills_group_8    0\n",
       "skills_group_9    0\n",
       "Length: 174, dtype: int64"
      ]
     },
     "execution_count": 22,
     "metadata": {},
     "output_type": "execute_result"
    }
   ],
   "source": [
    "# Concatenating\n",
    "features = pd.concat([ohe_skills,\n",
    "                     cluster_features])\n",
    "\n",
    "# Sort columns\n",
    "features = features.loc[features_names]\n",
    "features"
   ]
  },
  {
   "cell_type": "markdown",
   "id": "72f0c53b",
   "metadata": {},
   "source": [
    "#### 4. Predict"
   ]
  },
  {
   "cell_type": "code",
   "execution_count": 23,
   "id": "cedc6f8f",
   "metadata": {},
   "outputs": [
    {
     "name": "stderr",
     "output_type": "stream",
     "text": [
      "[Parallel(n_jobs=8)]: Using backend ThreadingBackend with 8 concurrent workers.\n",
      "[Parallel(n_jobs=8)]: Done  34 tasks      | elapsed:    0.1s\n",
      "[Parallel(n_jobs=8)]: Done 100 out of 100 | elapsed:    0.1s finished\n"
     ]
    },
    {
     "data": {
      "text/plain": [
       "[array([[0.81857143, 0.18142857]]),\n",
       " array([[0.93, 0.07]]),\n",
       " array([[0.9, 0.1]]),\n",
       " array([[0.87, 0.13]]),\n",
       " array([[0.92, 0.08]]),\n",
       " array([[0.98, 0.02]]),\n",
       " array([[0.91, 0.09]]),\n",
       " array([[0.94, 0.06]]),\n",
       " array([[0.66, 0.34]]),\n",
       " array([[0.93, 0.07]]),\n",
       " array([[0.93, 0.07]]),\n",
       " array([[0.96, 0.04]]),\n",
       " array([[0.9, 0.1]]),\n",
       " array([[0.98, 0.02]]),\n",
       " array([[0.97, 0.03]]),\n",
       " array([[0.79, 0.21]]),\n",
       " array([[0.89, 0.11]]),\n",
       " array([[0.96, 0.04]]),\n",
       " array([[0.94, 0.06]])]"
      ]
     },
     "execution_count": 23,
     "metadata": {},
     "output_type": "execute_result"
    }
   ],
   "source": [
    "predictions = classifier.predict_proba([features.values])\n",
    "predictions"
   ]
  },
  {
   "cell_type": "code",
   "execution_count": 24,
   "id": "61888550",
   "metadata": {},
   "outputs": [
    {
     "data": {
      "text/plain": [
       "Developer, back-end                              0.340000\n",
       "Engineer, data                                   0.210000\n",
       "Academic researcher                              0.181429\n",
       "Data or business analyst                         0.130000\n",
       "Scientist                                        0.110000\n",
       "Cloud infrastructure engineer                    0.100000\n",
       "Developer, full-stack                            0.100000\n",
       "DevOps specialist                                0.090000\n",
       "Data scientist or machine learning specialist    0.080000\n",
       "Developer, embedded applications or devices      0.070000\n",
       "Developer, desktop or enterprise applications    0.070000\n",
       "Blockchain                                       0.070000\n",
       "Developer, QA or test                            0.060000\n",
       "System administrator                             0.060000\n",
       "Developer, front-end                             0.040000\n",
       "Security professional                            0.040000\n",
       "Developer, mobile                                0.030000\n",
       "Developer, game or graphics                      0.020000\n",
       "Database administrator                           0.020000\n",
       "dtype: float64"
      ]
     },
     "execution_count": 24,
     "metadata": {},
     "output_type": "execute_result"
    }
   ],
   "source": [
    "positive_probs = [prob[0][1] for prob in predictions]\n",
    "pd.Series(positive_probs,\n",
    "         index=targets_names).sort_values(ascending=False)"
   ]
  },
  {
   "cell_type": "code",
   "execution_count": null,
   "id": "86f0048a",
   "metadata": {},
   "outputs": [],
   "source": []
  }
 ],
 "metadata": {
  "kernelspec": {
   "display_name": "Python 3.9 (tensorflow)",
   "language": "python",
   "name": "tensorflow"
  },
  "language_info": {
   "codemirror_mode": {
    "name": "ipython",
    "version": 3
   },
   "file_extension": ".py",
   "mimetype": "text/x-python",
   "name": "python",
   "nbconvert_exporter": "python",
   "pygments_lexer": "ipython3",
   "version": "3.9.13"
  }
 },
 "nbformat": 4,
 "nbformat_minor": 5
}
